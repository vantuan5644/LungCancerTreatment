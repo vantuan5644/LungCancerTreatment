{
 "cells": [
  {
   "cell_type": "code",
   "execution_count": 243,
   "metadata": {},
   "outputs": [],
   "source": [
    "import pandas as pd\n",
    "pd.set_option('display.max_columns', 500)\n",
    "pd.set_option('display.width', 1000)"
   ]
  },
  {
   "cell_type": "code",
   "execution_count": 244,
   "metadata": {},
   "outputs": [
    {
     "data": {
      "text/html": [
       "<div>\n",
       "<style scoped>\n",
       "    .dataframe tbody tr th:only-of-type {\n",
       "        vertical-align: middle;\n",
       "    }\n",
       "\n",
       "    .dataframe tbody tr th {\n",
       "        vertical-align: top;\n",
       "    }\n",
       "\n",
       "    .dataframe thead th {\n",
       "        text-align: right;\n",
       "    }\n",
       "</style>\n",
       "<table border=\"1\" class=\"dataframe\">\n",
       "  <thead>\n",
       "    <tr style=\"text-align: right;\">\n",
       "      <th></th>\n",
       "      <th>stage_level</th>\n",
       "      <th>text</th>\n",
       "    </tr>\n",
       "  </thead>\n",
       "  <tbody>\n",
       "    <tr>\n",
       "      <th>0</th>\n",
       "      <td>0.0</td>\n",
       "      <td>Because stage 0 NSCLC is limited to the lining...</td>\n",
       "    </tr>\n",
       "    <tr>\n",
       "      <th>1</th>\n",
       "      <td>1.0</td>\n",
       "      <td>If you have stage I NSCLC, surgery may be the ...</td>\n",
       "    </tr>\n",
       "    <tr>\n",
       "      <th>2</th>\n",
       "      <td>2.0</td>\n",
       "      <td>People who have stage II NSCLC and are healthy...</td>\n",
       "    </tr>\n",
       "    <tr>\n",
       "      <th>3</th>\n",
       "      <td>3.0</td>\n",
       "      <td>Treatment for stage IIIA NSCLC may include som...</td>\n",
       "    </tr>\n",
       "    <tr>\n",
       "      <th>4</th>\n",
       "      <td>4.0</td>\n",
       "      <td>Stage IV NSCLC is widespread when it is diagno...</td>\n",
       "    </tr>\n",
       "  </tbody>\n",
       "</table>\n",
       "</div>"
      ],
      "text/plain": [
       "   stage_level                                               text\n",
       "0          0.0  Because stage 0 NSCLC is limited to the lining...\n",
       "1          1.0  If you have stage I NSCLC, surgery may be the ...\n",
       "2          2.0  People who have stage II NSCLC and are healthy...\n",
       "3          3.0  Treatment for stage IIIA NSCLC may include som...\n",
       "4          4.0  Stage IV NSCLC is widespread when it is diagno..."
      ]
     },
     "execution_count": 244,
     "metadata": {},
     "output_type": "execute_result"
    }
   ],
   "source": [
    "data = pd.read_csv('../ground_truths/ground_truth.csv')\n",
    "data.head()\n",
    "stage_level = data[['text', 'stage_level']].groupby('stage_level').agg({'text': lambda text: ' '.join(text),\n",
    "                                                                        })\n",
    "data = stage_level.reset_index(level=0)\n",
    "data\n"
   ]
  },
  {
   "cell_type": "code",
   "execution_count": 245,
   "metadata": {
    "scrolled": false
   },
   "outputs": [
    {
     "data": {
      "text/html": [
       "<div>\n",
       "<style scoped>\n",
       "    .dataframe tbody tr th:only-of-type {\n",
       "        vertical-align: middle;\n",
       "    }\n",
       "\n",
       "    .dataframe tbody tr th {\n",
       "        vertical-align: top;\n",
       "    }\n",
       "\n",
       "    .dataframe thead th {\n",
       "        text-align: right;\n",
       "    }\n",
       "</style>\n",
       "<table border=\"1\" class=\"dataframe\">\n",
       "  <thead>\n",
       "    <tr style=\"text-align: right;\">\n",
       "      <th></th>\n",
       "      <th>url</th>\n",
       "      <th>title</th>\n",
       "      <th>snippet</th>\n",
       "      <th>text</th>\n",
       "    </tr>\n",
       "  </thead>\n",
       "  <tbody>\n",
       "    <tr>\n",
       "      <th>0</th>\n",
       "      <td>https://www.cancer.org/cancer/lung-cancer/trea...</td>\n",
       "      <td>Non-small Cell Lung Cancer Treatment by Stage</td>\n",
       "      <td>Oct 1, 2019 ... For some stage 0 cancers, trea...</td>\n",
       "      <td>What cancer patients, their families, and care...</td>\n",
       "    </tr>\n",
       "    <tr>\n",
       "      <th>1</th>\n",
       "      <td>https://www.verywellhealth.com/stage-0-non-sma...</td>\n",
       "      <td>Understanding Stage 0 Lung Cancer</td>\n",
       "      <td>Nov 15, 2019 ... Stage 0 Non-Small Cell Lung C...</td>\n",
       "      <td>Stage 0 non-small cell lung cancer , also know...</td>\n",
       "    </tr>\n",
       "    <tr>\n",
       "      <th>2</th>\n",
       "      <td>https://www.onhealth.com/content/1/lung_cancer</td>\n",
       "      <td>Lung Cancer Symptoms, Stages, Treatment</td>\n",
       "      <td>Jul 22, 2016 ... This form of cancer tends to ...</td>\n",
       "      <td>Lung cancer has emerged as the leading killer ...</td>\n",
       "    </tr>\n",
       "    <tr>\n",
       "      <th>3</th>\n",
       "      <td>https://www.cancer.net/cancer-types/lung-cance...</td>\n",
       "      <td>Lung Cancer - Non-Small Cell: Stages | Cancer.Net</td>\n",
       "      <td>This is because lung cancer is different in ea...</td>\n",
       "      <td>Skip to Content,,Search,Menu,ON THIS PAGE: You...</td>\n",
       "    </tr>\n",
       "    <tr>\n",
       "      <th>4</th>\n",
       "      <td>https://www.cancer.ca/en/cancer-information/ca...</td>\n",
       "      <td>Treatments for stage 0 non–small cell lung can...</td>\n",
       "      <td>The following are treatment options for stage ...</td>\n",
       "      <td>CCS is actively monitoring and responding to t...</td>\n",
       "    </tr>\n",
       "    <tr>\n",
       "      <th>5</th>\n",
       "      <td>https://clinicaltrials.gov/ct2/show/NCT00526461</td>\n",
       "      <td>Photodynamic Therapy Using HPPH in Treating Pa...</td>\n",
       "      <td>... Using HPPH in Treating Patients With Stage...</td>\n",
       "      <td>Study record managers: refer to the Data Eleme...</td>\n",
       "    </tr>\n",
       "    <tr>\n",
       "      <th>6</th>\n",
       "      <td>https://www.webmd.com/lung-cancer/qa/how-is-su...</td>\n",
       "      <td>How is surgery used to treat Stage 0 Lung Cancer?</td>\n",
       "      <td>This might sound extreme, but you can live a n...</td>\n",
       "      <td>,,ANSWER,If your health is good overall, surge...</td>\n",
       "    </tr>\n",
       "    <tr>\n",
       "      <th>7</th>\n",
       "      <td>https://www.cancercenter.com/cancer-types/lung...</td>\n",
       "      <td>Understand how Lung Cancer is Staged and Grade...</td>\n",
       "      <td>Lung cancer stage is based on tumor size, loca...</td>\n",
       "      <td>Call us 24/7,Experiencing symptoms that concer...</td>\n",
       "    </tr>\n",
       "    <tr>\n",
       "      <th>8</th>\n",
       "      <td>https://www.cancer.gov/publications/dictionari...</td>\n",
       "      <td>Definition of stage 0 non-small cell lung carc...</td>\n",
       "      <td>These abnormal cells may become cancer and spr...</td>\n",
       "      <td>The NCI Dictionary of Cancer Terms features 8,...</td>\n",
       "    </tr>\n",
       "  </tbody>\n",
       "</table>\n",
       "</div>"
      ],
      "text/plain": [
       "                                                 url                                              title                                            snippet                                               text\n",
       "0  https://www.cancer.org/cancer/lung-cancer/trea...      Non-small Cell Lung Cancer Treatment by Stage  Oct 1, 2019 ... For some stage 0 cancers, trea...  What cancer patients, their families, and care...\n",
       "1  https://www.verywellhealth.com/stage-0-non-sma...                  Understanding Stage 0 Lung Cancer  Nov 15, 2019 ... Stage 0 Non-Small Cell Lung C...  Stage 0 non-small cell lung cancer , also know...\n",
       "2     https://www.onhealth.com/content/1/lung_cancer            Lung Cancer Symptoms, Stages, Treatment  Jul 22, 2016 ... This form of cancer tends to ...  Lung cancer has emerged as the leading killer ...\n",
       "3  https://www.cancer.net/cancer-types/lung-cance...  Lung Cancer - Non-Small Cell: Stages | Cancer.Net  This is because lung cancer is different in ea...  Skip to Content,,Search,Menu,ON THIS PAGE: You...\n",
       "4  https://www.cancer.ca/en/cancer-information/ca...  Treatments for stage 0 non–small cell lung can...  The following are treatment options for stage ...  CCS is actively monitoring and responding to t...\n",
       "5    https://clinicaltrials.gov/ct2/show/NCT00526461  Photodynamic Therapy Using HPPH in Treating Pa...  ... Using HPPH in Treating Patients With Stage...  Study record managers: refer to the Data Eleme...\n",
       "6  https://www.webmd.com/lung-cancer/qa/how-is-su...  How is surgery used to treat Stage 0 Lung Cancer?  This might sound extreme, but you can live a n...  ,,ANSWER,If your health is good overall, surge...\n",
       "7  https://www.cancercenter.com/cancer-types/lung...  Understand how Lung Cancer is Staged and Grade...  Lung cancer stage is based on tumor size, loca...  Call us 24/7,Experiencing symptoms that concer...\n",
       "8  https://www.cancer.gov/publications/dictionari...  Definition of stage 0 non-small cell lung carc...  These abnormal cells may become cancer and spr...  The NCI Dictionary of Cancer Terms features 8,..."
      ]
     },
     "execution_count": 245,
     "metadata": {},
     "output_type": "execute_result"
    }
   ],
   "source": [
    "crawled = pd.read_csv('stage_0.csv')\n",
    "crawled"
   ]
  },
  {
   "cell_type": "code",
   "execution_count": 128,
   "metadata": {},
   "outputs": [],
   "source": [
    "from nltk.corpus import stopwords\n",
    "from bs4 import BeautifulSoup\n",
    "import spacy\n",
    "import re\n",
    "nlp = spacy.load('en', disable=['parser', 'ner'])#%%"
   ]
  },
  {
   "cell_type": "code",
   "execution_count": 137,
   "metadata": {},
   "outputs": [],
   "source": [
    "def lemmatization(texts, allowed_postags=['NOUN', 'ADJ', 'VERB', 'ADV']):\n",
    "    \"\"\"https://spacy.io/api/annotation\"\"\"\n",
    "    texts_out = []\n",
    "    for sent in texts:\n",
    "        doc = nlp(\" \".join(sent))\n",
    "        texts_out.append([token.lemma_ for token in doc if token.pos_ in allowed_postags])\n",
    "    return texts_out\n"
   ]
  },
  {
   "cell_type": "code",
   "execution_count": 227,
   "metadata": {},
   "outputs": [],
   "source": [
    "def text_cleaner(text, remove_short_words=False, remove_xml_tag=False, return_tokens=False, lemmatizing=False):\n",
    "    newString = text.lower()\n",
    "    \n",
    "    if remove_xml_tag:\n",
    "        newString = BeautifulSoup(newString, \"lxml\").text\n",
    "        \n",
    "    newString = re.sub('[^ ]+\\.[^ ]+','',newString)              # Remove http links\n",
    "    newString = re.sub(r'\\([^)]*\\)', '', newString)              # Remove any text inside the parenthesis () \n",
    "    newString = re.sub('\"','', newString)                        # Remove quotation marks\n",
    "    newString = re.sub(r\"'s\\b\",\"\",newString)                     # Remove 's possessive\n",
    "    newString = re.sub('\\n+', ' ', newString)                    # Remove new line symbol\n",
    "    newString = re.sub(\"[^a-zA-Z0-9]\", \" \", newString)           # Keep alphabets and numbers\n",
    "    \n",
    "    doc = nlp(newString, disable=['parser', 'ner'])\n",
    "    tokens = [tok for tok in doc if not tok.is_stop]\n",
    "    \n",
    "    if lemmatizing:\n",
    "        tokens = [tok.lemma_.lower().strip() for tok in tokens if tok.lemma_ != '-PRON-']\n",
    "        \n",
    "    if remove_short_words:\n",
    "        long_words = []\n",
    "        for i in tokens:\n",
    "            if len(i) >= 2:                  # removing short word\n",
    "                long_words.append(i)\n",
    "        return long_words if return_tokens else ' '.join(w for w in long_words)\n",
    "    else:\n",
    "        return tokens if return_tokens else ' '.join(token for token in tokens)"
   ]
  },
  {
   "cell_type": "code",
   "execution_count": 228,
   "metadata": {},
   "outputs": [],
   "source": [
    "from nltk.tokenize import sent_tokenize"
   ]
  },
  {
   "cell_type": "code",
   "execution_count": 229,
   "metadata": {},
   "outputs": [],
   "source": [
    "def sentenize_clean_up(list_of_str, return_tokens=True, debug=False, lemmatizing=False):\n",
    "   \n",
    "    if debug: print(f'Original: {list_of_str[0][:100]}')\n",
    "    \n",
    "    sentences = []\n",
    "    for s in list_of_str:\n",
    "        sentences.append(sent_tokenize(s))\n",
    "    sentences = [y for x in sentences for y in x] # flatten list    \n",
    "    if debug: print(f'Sentenize: {sentences[0][:100]}')\n",
    "    \n",
    "    cleaned_texts = []\n",
    "    for sent in sentences:\n",
    "        cleaned_texts.append((text_cleaner(sent, remove_short_words=True, remove_xml_tag=True, return_tokens=return_tokens, lemmatizing=lemmatizing)))\n",
    "    if debug: print(f'Cleaned: {cleaned_texts[0][:100]}')\n",
    "    return cleaned_texts"
   ]
  },
  {
   "cell_type": "code",
   "execution_count": 249,
   "metadata": {
    "scrolled": false
   },
   "outputs": [
    {
     "name": "stdout",
     "output_type": "stream",
     "text": [
      "Original: What cancer patients, their families, and caregivers need to know about the coronavirus . How COVID-\n",
      "Sentenize: What cancer patients, their families, and caregivers need to know about the coronavirus .\n",
      "Cleaned: ['cancer', 'patient', 'family', 'caregiver', 'need', 'know', 'coronavirus']\n"
     ]
    }
   ],
   "source": [
    "cleaned_text = sentenize_clean_up([crawled['text'][0]], debug=True, return_tokens=True, lemmatizing=True)"
   ]
  },
  {
   "cell_type": "code",
   "execution_count": 242,
   "metadata": {},
   "outputs": [
    {
     "name": "stdout",
     "output_type": "stream",
     "text": [
      "['stage', 'nsclc', 'limit', 'lining', 'layer', 'airways', 'invade', 'deep', 'lung', 'tissue']\n"
     ]
    }
   ],
   "source": [
    "accepted_tokens = sentenize_clean_up(data[data['stage_level']==0]['text'], return_tokens=True, debug=False, lemmatizing=True)\n",
    "accepted_tokens = [y for x in accepted_tokens for y in x]\n",
    "\n",
    "print(accepted_tokens[:10])"
   ]
  },
  {
   "cell_type": "code",
   "execution_count": 253,
   "metadata": {},
   "outputs": [
    {
     "data": {
      "text/plain": [
       "{'cancer', 'caregiver', 'coronavirus', 'family', 'know', 'need', 'patient'}"
      ]
     },
     "execution_count": 253,
     "metadata": {},
     "output_type": "execute_result"
    }
   ],
   "source": [
    "set(cleaned_text[0])"
   ]
  },
  {
   "cell_type": "markdown",
   "metadata": {},
   "source": [
    "### Remove irrelevant sentences"
   ]
  },
  {
   "cell_type": "code",
   "execution_count": null,
   "metadata": {},
   "outputs": [],
   "source": []
  },
  {
   "cell_type": "code",
   "execution_count": 305,
   "metadata": {},
   "outputs": [],
   "source": [
    "def check_irrelevance(long_str: str, allowed_tokens: list):\n",
    "    accepted_tokens_set = set(allowed_tokens)\n",
    "    print(accepted_tokens_set)\n",
    "\n",
    "    tokens_list = sentenize_clean_up([long_str], debug=False, return_tokens=True, lemmatizing=True)\n",
    "    \n",
    "    article = []\n",
    "    for i, tokens in enumerate(tokens_list):\n",
    "        token_set = set(tokens)\n",
    "                \n",
    "        print(token_set)\n",
    "\n",
    "        if len(token_set.intersection(accepted_tokens_set)) > 0:\n",
    "            article.append(tokens)\n",
    "    return article"
   ]
  },
  {
   "cell_type": "code",
   "execution_count": null,
   "metadata": {},
   "outputs": [],
   "source": []
  },
  {
   "cell_type": "code",
   "execution_count": 306,
   "metadata": {},
   "outputs": [
    {
     "data": {
      "text/plain": [
       "'Skip to Content,,Search,Menu,ON THIS PAGE: You will learn about how doctors describe a cancer’s growth or spread. This is called the stage. Use the menu to see other pages.,Staging is a way of describing where the cancer is located, if or where it has spread, and whether it is affecting other parts of the body.'"
      ]
     },
     "execution_count": 306,
     "metadata": {},
     "output_type": "execute_result"
    }
   ],
   "source": [
    "test_str = str(crawled['text'][3][:312])\n",
    "test_str"
   ]
  },
  {
   "cell_type": "code",
   "execution_count": 307,
   "metadata": {},
   "outputs": [
    {
     "name": "stdout",
     "output_type": "stream",
     "text": [
      "{'airways', 'sleeve', 'remove', 'healthy', 'treat', 'deep', 'wedge', 'invade', 'area', 'case', 'lung', 'alternative', 'therapy', 'lobe', 'segmentectomy', 'photodynamic', 'radiation', 'surgery', 'laser', 'hard', 'completely', 'truly', 'cure', 'curable', 'need', 'lining', 'layer', 'nsclc', 'limit', 'stage', 'entire', 'treatment', 'location', 'usually', 'resection', 'brachytherapy', 'chemotherapy', 'cancer', 'tissue'}\n",
      "{'page', 'skip', 'doctor', 'describe', 'spread', 'growth', 'cancer', 'search', 'content', 'learn', 'menu'}\n",
      "{'call', 'stage'}\n",
      "{'locate', 'part', 'body', 'describe', 'way', 'spread', 'use', 'affect', 'cancer', 'menu'}\n"
     ]
    },
    {
     "data": {
      "text/plain": [
       "[['skip',\n",
       "  'content',\n",
       "  'search',\n",
       "  'menu',\n",
       "  'page',\n",
       "  'learn',\n",
       "  'doctor',\n",
       "  'describe',\n",
       "  'cancer',\n",
       "  'growth',\n",
       "  'spread'],\n",
       " ['call', 'stage'],\n",
       " ['use',\n",
       "  'menu',\n",
       "  'way',\n",
       "  'describe',\n",
       "  'cancer',\n",
       "  'locate',\n",
       "  'spread',\n",
       "  'affect',\n",
       "  'part',\n",
       "  'body']]"
      ]
     },
     "execution_count": 307,
     "metadata": {},
     "output_type": "execute_result"
    }
   ],
   "source": [
    "check_irrelevance(test_str, accepted_tokens)"
   ]
  },
  {
   "cell_type": "code",
   "execution_count": null,
   "metadata": {},
   "outputs": [],
   "source": []
  }
 ],
 "metadata": {
  "kernelspec": {
   "display_name": "Python 3",
   "language": "python",
   "name": "python3"
  },
  "language_info": {
   "codemirror_mode": {
    "name": "ipython",
    "version": 3
   },
   "file_extension": ".py",
   "mimetype": "text/x-python",
   "name": "python",
   "nbconvert_exporter": "python",
   "pygments_lexer": "ipython3",
   "version": "3.6.9"
  }
 },
 "nbformat": 4,
 "nbformat_minor": 4
}