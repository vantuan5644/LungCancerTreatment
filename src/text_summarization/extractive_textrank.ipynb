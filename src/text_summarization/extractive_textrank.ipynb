{
  "nbformat": 4,
  "nbformat_minor": 0,
  "metadata": {
    "kernelspec": {
      "name": "python3",
      "display_name": "Python 3"
    },
    "language_info": {
      "codemirror_mode": {
        "name": "ipython",
        "version": 2
      },
      "file_extension": ".py",
      "mimetype": "text/x-python",
      "name": "python",
      "nbconvert_exporter": "python",
      "pygments_lexer": "ipython2",
      "version": "2.7.6"
    },
    "colab": {
      "name": "extractive_textrank.ipynb",
      "provenance": [],
      "toc_visible": true
    },
    "accelerator": "GPU"
  },
  "cells": [
    {
      "cell_type": "markdown",
      "metadata": {
        "id": "9m0lS_6SbDER",
        "colab_type": "text"
      },
      "source": [
        "# TextRank"
      ]
    },
    {
      "cell_type": "markdown",
      "metadata": {
        "collapsed": false,
        "id": "F0kCqGoeZokA",
        "colab_type": "text"
      },
      "source": [
        "Automatic text summarization is the task of producing a concise and fluent summary while preserving key information\n",
        "content and overall meaning.\n",
        "\n",
        "1. Extractive Summarization\n",
        " - Identifying the important sentences or phrases from the original text and extract only those from the text.\n",
        "\n",
        "2. Abstractive Summarization\n",
        " - Generating new sentences from the original text\n",
        "\n",
        "\n",
        "3. TextRank: extractive & unsupervised text summarizatoin\n",
        " -  Concatenate text -> sentences -> sentence embeddings -> similarity matrix (between vectors) -> graph"
      ]
    },
    {
      "cell_type": "markdown",
      "metadata": {
        "id": "LvpFrYmLa37B",
        "colab_type": "text"
      },
      "source": [
        "### Connect to existence Github repo"
      ]
    },
    {
      "cell_type": "code",
      "metadata": {
        "id": "Bvq1rQqTZ_yl",
        "colab_type": "code",
        "colab": {
          "base_uri": "https://localhost:8080/",
          "height": 34
        },
        "outputId": "c4fab86b-3505-483f-f327-134b90493c5f"
      },
      "source": [
        "from google.colab import drive\n",
        "drive.mount('/content/drive')"
      ],
      "execution_count": 3,
      "outputs": [
        {
          "output_type": "stream",
          "text": [
            "Drive already mounted at /content/drive; to attempt to forcibly remount, call drive.mount(\"/content/drive\", force_remount=True).\n"
          ],
          "name": "stdout"
        }
      ]
    },
    {
      "cell_type": "code",
      "metadata": {
        "id": "IYEwN2ymaVgx",
        "colab_type": "code",
        "colab": {
          "base_uri": "https://localhost:8080/",
          "height": 151
        },
        "outputId": "9ea2005a-0895-4c9d-aa29-75ea86b7d425"
      },
      "source": [
        "%cd /content/drive/Shared drives/ZWTZWT\n",
        "!git clone https://github.com/vantuan5644/LungCancerTreatment.git"
      ],
      "execution_count": 4,
      "outputs": [
        {
          "output_type": "stream",
          "text": [
            "/content/drive/Shared drives/ZWTZWT\n",
            "Cloning into 'LungCancerTreatment'...\n",
            "remote: Enumerating objects: 5928, done.\u001b[K\n",
            "remote: Counting objects: 100% (5928/5928), done.\u001b[K\n",
            "remote: Compressing objects: 100% (5278/5278), done.\u001b[K\n",
            "remote: Total 5928 (delta 742), reused 5749 (delta 563), pack-reused 0\u001b[K\n",
            "Receiving objects: 100% (5928/5928), 22.71 MiB | 8.42 MiB/s, done.\n",
            "Resolving deltas: 100% (742/742), done.\n"
          ],
          "name": "stdout"
        }
      ]
    },
    {
      "cell_type": "code",
      "metadata": {
        "id": "CPNYY5fnayyn",
        "colab_type": "code",
        "colab": {
          "base_uri": "https://localhost:8080/",
          "height": 34
        },
        "outputId": "33f9b413-a7e1-4330-82bb-f7544346fe58"
      },
      "source": [
        "%cd LungCancerTreatment/"
      ],
      "execution_count": 5,
      "outputs": [
        {
          "output_type": "stream",
          "text": [
            "/content/drive/Shared drives/ZWTZWT/LungCancerTreatment\n"
          ],
          "name": "stdout"
        }
      ]
    },
    {
      "cell_type": "markdown",
      "metadata": {
        "id": "Bdg158tPa-5S",
        "colab_type": "text"
      },
      "source": [
        "## TextRank"
      ]
    },
    {
      "cell_type": "code",
      "metadata": {
        "pycharm": {
          "name": "#%%\n"
        },
        "id": "HNCUNmZSZokB",
        "colab_type": "code",
        "colab": {
          "base_uri": "https://localhost:8080/",
          "height": 50
        },
        "outputId": "5e21a0bc-a4d9-4ed7-e915-e78514ee4f8f"
      },
      "source": [
        "import numpy as np\n",
        "import pandas as pd\n",
        "import nltk\n",
        "nltk.download('punkt')\n",
        "import re\n"
      ],
      "execution_count": 6,
      "outputs": [
        {
          "output_type": "stream",
          "text": [
            "[nltk_data] Downloading package punkt to /root/nltk_data...\n",
            "[nltk_data]   Unzipping tokenizers/punkt.zip.\n"
          ],
          "name": "stdout"
        }
      ]
    },
    {
      "cell_type": "markdown",
      "metadata": {
        "id": "XShSgE_Zc8Pk",
        "colab_type": "text"
      },
      "source": [
        "### Splitting into sentences"
      ]
    },
    {
      "cell_type": "code",
      "metadata": {
        "pycharm": {
          "name": "#%%\n"
        },
        "id": "iL_QwYuWZokI",
        "colab_type": "code",
        "colab": {
          "base_uri": "https://localhost:8080/",
          "height": 195
        },
        "outputId": "960e61a7-221e-4c8c-9e2d-0f097bd80841"
      },
      "source": [
        "data = pd.read_csv('ground_truths/ground_truth.csv')\n",
        "data.head()\n",
        "stage_level = data[['text', 'stage_level']].groupby('stage_level').agg({'text': lambda text: ' '.join(text),\n",
        "                                                                        })\n",
        "data = stage_level.reset_index(level=0)\n",
        "data"
      ],
      "execution_count": 8,
      "outputs": [
        {
          "output_type": "execute_result",
          "data": {
            "text/html": [
              "<div>\n",
              "<style scoped>\n",
              "    .dataframe tbody tr th:only-of-type {\n",
              "        vertical-align: middle;\n",
              "    }\n",
              "\n",
              "    .dataframe tbody tr th {\n",
              "        vertical-align: top;\n",
              "    }\n",
              "\n",
              "    .dataframe thead th {\n",
              "        text-align: right;\n",
              "    }\n",
              "</style>\n",
              "<table border=\"1\" class=\"dataframe\">\n",
              "  <thead>\n",
              "    <tr style=\"text-align: right;\">\n",
              "      <th></th>\n",
              "      <th>stage_level</th>\n",
              "      <th>text</th>\n",
              "    </tr>\n",
              "  </thead>\n",
              "  <tbody>\n",
              "    <tr>\n",
              "      <th>0</th>\n",
              "      <td>0.0</td>\n",
              "      <td>Because stage 0 NSCLC is limited to the lining...</td>\n",
              "    </tr>\n",
              "    <tr>\n",
              "      <th>1</th>\n",
              "      <td>1.0</td>\n",
              "      <td>If you have stage I NSCLC, surgery may be the ...</td>\n",
              "    </tr>\n",
              "    <tr>\n",
              "      <th>2</th>\n",
              "      <td>2.0</td>\n",
              "      <td>People who have stage II NSCLC and are healthy...</td>\n",
              "    </tr>\n",
              "    <tr>\n",
              "      <th>3</th>\n",
              "      <td>3.0</td>\n",
              "      <td>Treatment for stage IIIA NSCLC may include som...</td>\n",
              "    </tr>\n",
              "    <tr>\n",
              "      <th>4</th>\n",
              "      <td>4.0</td>\n",
              "      <td>Stage IV NSCLC is widespread when it is diagno...</td>\n",
              "    </tr>\n",
              "  </tbody>\n",
              "</table>\n",
              "</div>"
            ],
            "text/plain": [
              "   stage_level                                               text\n",
              "0          0.0  Because stage 0 NSCLC is limited to the lining...\n",
              "1          1.0  If you have stage I NSCLC, surgery may be the ...\n",
              "2          2.0  People who have stage II NSCLC and are healthy...\n",
              "3          3.0  Treatment for stage IIIA NSCLC may include som...\n",
              "4          4.0  Stage IV NSCLC is widespread when it is diagno..."
            ]
          },
          "metadata": {
            "tags": []
          },
          "execution_count": 8
        }
      ]
    },
    {
      "cell_type": "code",
      "metadata": {
        "pycharm": {
          "name": "#%%\n"
        },
        "id": "eRZwC9pOZokO",
        "colab_type": "code",
        "colab": {
          "base_uri": "https://localhost:8080/",
          "height": 121
        },
        "outputId": "e354a92f-8829-447d-da32-0af385cf1692"
      },
      "source": [
        "# Split text into sentences\n",
        "from nltk. tokenize import sent_tokenize\n",
        "sentences = []\n",
        "for s in data['text']:\n",
        "    sentences.append(sent_tokenize(s))\n",
        "\n",
        "sentences = [y for x in sentences for y in x] # flatten list\n",
        "sentences[:5]"
      ],
      "execution_count": 9,
      "outputs": [
        {
          "output_type": "execute_result",
          "data": {
            "text/plain": [
              "['Because stage 0 NSCLC is limited to the lining layer of airways and has not invaded deeper into the lung tissue or other areas, it is usually curable by surgery alone.',\n",
              " 'No chemotherapy or radiation therapy is needed.',\n",
              " 'If you are healthy enough for surgery, you can usually be treated by segmentectomy or wedge resection (removal of part of the lobe of the lung).',\n",
              " 'Cancers in some locations (such as where the windpipe divides into the left and right main bronchi) may be treated with a sleeve resection, but in some cases they may be hard to remove completely without removing a lobe (lobectomy) or even an entire lung (pneumonectomy).',\n",
              " 'For some stage 0 cancers, treatments such as photodynamic therapy (PDT), laser therapy, or brachytherapy (internal radiation) may be alternatives to surgery.']"
            ]
          },
          "metadata": {
            "tags": []
          },
          "execution_count": 9
        }
      ]
    },
    {
      "cell_type": "markdown",
      "metadata": {
        "id": "igCQEX_qc4Cg",
        "colab_type": "text"
      },
      "source": [
        "### Make sentences embeddings from GloVe"
      ]
    },
    {
      "cell_type": "code",
      "metadata": {
        "pycharm": {
          "name": "#%%\n",
          "is_executing": true
        },
        "id": "5J3UO69aZokT",
        "colab_type": "code",
        "colab": {
          "base_uri": "https://localhost:8080/",
          "height": 437
        },
        "outputId": "cfeb35b7-6f17-4fc3-ce82-decd193d6666"
      },
      "source": [
        "# GloVe Embeddings\n",
        "!wget http://nlp.stanford.edu/data/glove.6B.zip\n",
        "!unzip glove*.zip"
      ],
      "execution_count": 10,
      "outputs": [
        {
          "output_type": "stream",
          "text": [
            "--2020-04-11 08:49:20--  http://nlp.stanford.edu/data/glove.6B.zip\n",
            "Resolving nlp.stanford.edu (nlp.stanford.edu)... 171.64.67.140\n",
            "Connecting to nlp.stanford.edu (nlp.stanford.edu)|171.64.67.140|:80... connected.\n",
            "HTTP request sent, awaiting response... 302 Found\n",
            "Location: https://nlp.stanford.edu/data/glove.6B.zip [following]\n",
            "--2020-04-11 08:49:20--  https://nlp.stanford.edu/data/glove.6B.zip\n",
            "Connecting to nlp.stanford.edu (nlp.stanford.edu)|171.64.67.140|:443... connected.\n",
            "HTTP request sent, awaiting response... 301 Moved Permanently\n",
            "Location: http://downloads.cs.stanford.edu/nlp/data/glove.6B.zip [following]\n",
            "--2020-04-11 08:49:21--  http://downloads.cs.stanford.edu/nlp/data/glove.6B.zip\n",
            "Resolving downloads.cs.stanford.edu (downloads.cs.stanford.edu)... 171.64.64.22\n",
            "Connecting to downloads.cs.stanford.edu (downloads.cs.stanford.edu)|171.64.64.22|:80... connected.\n",
            "HTTP request sent, awaiting response... 200 OK\n",
            "Length: 862182613 (822M) [application/zip]\n",
            "Saving to: ‘glove.6B.zip’\n",
            "\n",
            "glove.6B.zip        100%[===================>] 822.24M  2.19MB/s    in 6m 29s  \n",
            "\n",
            "2020-04-11 08:55:50 (2.11 MB/s) - ‘glove.6B.zip’ saved [862182613/862182613]\n",
            "\n",
            "Archive:  glove.6B.zip\n",
            "  inflating: glove.6B.50d.txt        \n",
            "  inflating: glove.6B.100d.txt       \n",
            "  inflating: glove.6B.200d.txt       \n",
            "  inflating: glove.6B.300d.txt       \n"
          ],
          "name": "stdout"
        }
      ]
    },
    {
      "cell_type": "code",
      "metadata": {
        "pycharm": {
          "name": "#%%\n"
        },
        "id": "xHM7USfLZokY",
        "colab_type": "code",
        "colab": {}
      },
      "source": [
        "# Extract word vectors\n",
        "word_embeddings = {}\n",
        "f = open('glove.6B.100d.txt', encoding='utf-8')\n",
        "for line in f:\n",
        "    values = line.split()\n",
        "    word = values[0]\n",
        "    coefs = np.asarray(values[1:], dtype='float32')\n",
        "    word_embeddings[word] = coefs\n",
        "f.close()\n"
      ],
      "execution_count": 0,
      "outputs": []
    },
    {
      "cell_type": "markdown",
      "metadata": {
        "id": "isgpfNy1dOT0",
        "colab_type": "text"
      },
      "source": [
        "#### Text Preprocessing"
      ]
    },
    {
      "cell_type": "markdown",
      "metadata": {
        "id": "0Wl0T21reI9g",
        "colab_type": "text"
      },
      "source": [
        "Remove new-line character"
      ]
    },
    {
      "cell_type": "code",
      "metadata": {
        "id": "kgyY3hLDdHMn",
        "colab_type": "code",
        "colab": {}
      },
      "source": [
        "clean_sentences = [re.sub('\\n+', ' ', sent) for sent in sentences]\n"
      ],
      "execution_count": 0,
      "outputs": []
    },
    {
      "cell_type": "markdown",
      "metadata": {
        "id": "qlvRCDXJeZ1G",
        "colab_type": "text"
      },
      "source": [
        "Remove stopwords"
      ]
    },
    {
      "cell_type": "code",
      "metadata": {
        "id": "_SimTKmleNP1",
        "colab_type": "code",
        "colab": {
          "base_uri": "https://localhost:8080/",
          "height": 50
        },
        "outputId": "7bac7ec4-6cce-46f1-db93-9072598acd15"
      },
      "source": [
        "from nltk.corpus import stopwords\n",
        "nltk.download('stopwords')\n",
        "stop_words = stopwords.words('english')\n"
      ],
      "execution_count": 17,
      "outputs": [
        {
          "output_type": "stream",
          "text": [
            "[nltk_data] Downloading package stopwords to /root/nltk_data...\n",
            "[nltk_data]   Package stopwords is already up-to-date!\n"
          ],
          "name": "stdout"
        }
      ]
    },
    {
      "cell_type": "code",
      "metadata": {
        "id": "VOzctStgeb38",
        "colab_type": "code",
        "colab": {}
      },
      "source": [
        "def remove_stopwords(sen):\n",
        "    sen_new = \" \".join([i for i in sen if i not in stop_words])\n",
        "    return sen_new\n",
        "\n",
        "clean_sentences = [remove_stopwords(r.split()) for r in clean_sentences]\n"
      ],
      "execution_count": 0,
      "outputs": []
    },
    {
      "cell_type": "markdown",
      "metadata": {
        "id": "xSlpXEAfe0fJ",
        "colab_type": "text"
      },
      "source": [
        "#### Make sentence vectors from word embeddings"
      ]
    },
    {
      "cell_type": "code",
      "metadata": {
        "id": "b8xEq_kwejdn",
        "colab_type": "code",
        "colab": {}
      },
      "source": [
        "sentence_vectors = []\n",
        "for i in clean_sentences:\n",
        "  if len(i) != 0:\n",
        "    v = sum([word_embeddings.get(w, np.zeros((100,))) for w in i.split()])/(len(i.split()))\n",
        "  else:\n",
        "    v = np.zeros((100,))\n",
        "  sentence_vectors.append(v)\n",
        "  \n",
        "assert len(sentences) == len(sentence_vectors)"
      ],
      "execution_count": 0,
      "outputs": []
    },
    {
      "cell_type": "code",
      "metadata": {
        "id": "r-HgP5DPgB7a",
        "colab_type": "code",
        "colab": {
          "base_uri": "https://localhost:8080/",
          "height": 34
        },
        "outputId": "65b5c923-6047-440d-9fdc-9ece777e9178"
      },
      "source": [
        "sentence_vectors[0].shape"
      ],
      "execution_count": 24,
      "outputs": [
        {
          "output_type": "execute_result",
          "data": {
            "text/plain": [
              "(100,)"
            ]
          },
          "metadata": {
            "tags": []
          },
          "execution_count": 24
        }
      ]
    },
    {
      "cell_type": "markdown",
      "metadata": {
        "id": "Ey8KRXoOfpJi",
        "colab_type": "text"
      },
      "source": [
        "### Similarity Matrix Preparation"
      ]
    },
    {
      "cell_type": "code",
      "metadata": {
        "id": "77YBmx4KfkCg",
        "colab_type": "code",
        "colab": {}
      },
      "source": [
        "# Similarity matrix is a zero matrix with dimension (n, n)\n",
        "# We will initialize this matrix with cosine similarity of the sentences \n",
        "sim_mat = np.zeros([len(sentences), len(sentences)])\n"
      ],
      "execution_count": 0,
      "outputs": []
    },
    {
      "cell_type": "code",
      "metadata": {
        "id": "MrU6piFYf93o",
        "colab_type": "code",
        "colab": {}
      },
      "source": [
        "from sklearn.metrics.pairwise import cosine_similarity\n",
        "\n",
        "for i in range(len(sentences)):\n",
        "  for j in range(len(sentences)):\n",
        "    if i != j:\n",
        "      sim_mat[i][j] = cosine_similarity(sentence_vectors[i].reshape(1,100), sentence_vectors[j].reshape(1,100))[0,0]\n"
      ],
      "execution_count": 0,
      "outputs": []
    },
    {
      "cell_type": "markdown",
      "metadata": {
        "id": "O50FMp85gewD",
        "colab_type": "text"
      },
      "source": [
        "### Applying PageRank algorithm"
      ]
    },
    {
      "cell_type": "markdown",
      "metadata": {
        "id": "oaxDm6wEg-4k",
        "colab_type": "text"
      },
      "source": [
        "#### Convert into graph\n",
        "\n",
        "We need to convert the similarity matrix **sim_mat** into a graph.\n",
        "\n",
        "The nodes of this graph will represent the sentences and the edges will represent the similarity scores between sentences."
      ]
    },
    {
      "cell_type": "markdown",
      "metadata": {
        "id": "maSApE9NgpQj",
        "colab_type": "text"
      },
      "source": [
        ""
      ]
    },
    {
      "cell_type": "code",
      "metadata": {
        "id": "C41UI2yogaSt",
        "colab_type": "code",
        "colab": {}
      },
      "source": [
        "import networkx as nx\n",
        "\n",
        "nx_graph = nx.from_numpy_array(sim_mat)\n",
        "scores = nx.pagerank(nx_graph)\n"
      ],
      "execution_count": 0,
      "outputs": []
    },
    {
      "cell_type": "markdown",
      "metadata": {
        "id": "64ecIXSRg9mK",
        "colab_type": "text"
      },
      "source": [
        "#### Summary Extraction\n",
        "\n",
        "Extracting the top N sentences based on their rankings for summary generation"
      ]
    },
    {
      "cell_type": "code",
      "metadata": {
        "id": "DwXGGHwgg7GX",
        "colab_type": "code",
        "colab": {}
      },
      "source": [
        "ranked_sentences = sorted(((scores[i],s) for i,s in enumerate(sentences)), reverse=True)\n"
      ],
      "execution_count": 0,
      "outputs": []
    },
    {
      "cell_type": "code",
      "metadata": {
        "id": "IJUXpwEfhO5B",
        "colab_type": "code",
        "colab": {
          "base_uri": "https://localhost:8080/",
          "height": 205
        },
        "outputId": "5997f866-839c-47a7-aa8c-69a178904374"
      },
      "source": [
        "# Extract top 10 sentences as the summary\n",
        "for i in range(10):\n",
        "  print(ranked_sentences[i][1])\n"
      ],
      "execution_count": 28,
      "outputs": [
        {
          "output_type": "stream",
          "text": [
            "NSCLC that has spread to only one other site Cancer that is limited in the lungs and has only spread to one other site (such as the brain) is not common, but it can sometimes be treated (and even potentially cured) with surgery and/or radiation therapy to treat the area of cancer spread, followed by treatment of the cancer in the lung.\n",
            "Even if positive margins are not found, chemo is usually recommended after surgery to try to destroy any cancer cells that might have been left behind.\n",
            "As with stage I cancers, newer lab tests now being studied may help doctors find out which patients need this adjuvant treatment and which are less likely to benefit from it.\n",
            "If you are in otherwise good health, treatments such as surgery, chemotherapy (chemo), targeted therapy, immunotherapy, and radiation therapy may help you live longer and make you feel better by relieving symptoms, even though they aren’t likely to cure you.\n",
            "For people with stage I NSCLC that has a higher risk of coming back (based on size, location, or other factors), adjuvant chemotherapy after surgery may lower the risk that cancer will return.\n",
            "These cancers can be hard to treat, so taking part in a clinical trial of newer treatments may be a good option for some people.\n",
            "If you have serious medical problems that would keep you from having surgery, you may get only radiation therapy as your main treatment.\n",
            "If you have serious health problems that prevent you from having surgery, you may get stereotactic body radiation therapy (SBRT) or another type of radiation therapy as your main treatment.\n",
            "For people whose cancers have certain changes in the EGFR gene,  anti-EGFR drugs  may be used as the first treatment.\n",
            "For patients who can tolerate it, treatment usually starts with chemo, often combined with radiation therapy (also called chemoradiation).\n"
          ],
          "name": "stdout"
        }
      ]
    },
    {
      "cell_type": "code",
      "metadata": {
        "id": "lcKKD75LhP_X",
        "colab_type": "code",
        "colab": {}
      },
      "source": [
        ""
      ],
      "execution_count": 0,
      "outputs": []
    }
  ]
}