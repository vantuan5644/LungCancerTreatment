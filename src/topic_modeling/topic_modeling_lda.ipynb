{
 "cells": [
  {
   "cell_type": "code",
   "execution_count": 103,
   "metadata": {
    "pycharm": {
     "name": "#%%\n"
    }
   },
   "outputs": [
    {
     "name": "stderr",
     "output_type": "stream",
     "text": [
      "[nltk_data] Downloading package stopwords to\n",
      "[nltk_data]     /home/vantuan5644/nltk_data...\n",
      "[nltk_data]   Package stopwords is already up-to-date!\n"
     ]
    }
   ],
   "source": [
    "import re\n",
    "from pprint import pprint\n",
    "\n",
    "# Gensim\n",
    "import gensim\n",
    "import gensim.corpora as corpora\n",
    "import matplotlib.pyplot as plt\n",
    "import pandas as pd\n",
    "# Plotting tools\n",
    "import pyLDAvis.gensim  # don't skip this\n",
    "# spacy for lemmatization\n",
    "import spacy\n",
    "from gensim.models import CoherenceModel\n",
    "from gensim.utils import simple_preprocess\n",
    "%matplotlib inline\n",
    "\n",
    "from bs4 import BeautifulSoup\n",
    "\n",
    "# nltk\n",
    "import nltk\n",
    "nltk.download('stopwords')\n",
    "from nltk.corpus import stopwords\n",
    "\n",
    "# Enable logging for gensim - optional\n",
    "import logging\n",
    "logging.basicConfig(format='%(asctime)s : %(levelname)s : %(message)s', level=logging.ERROR)\n",
    "\n",
    "import warnings\n",
    "warnings.filterwarnings(\"ignore\",category=DeprecationWarning)"
   ]
  },
  {
   "cell_type": "code",
   "execution_count": 104,
   "metadata": {
    "pycharm": {
     "name": "#%%\n"
    }
   },
   "outputs": [
    {
     "data": {
      "text/html": [
       "<div>\n",
       "<style scoped>\n",
       "    .dataframe tbody tr th:only-of-type {\n",
       "        vertical-align: middle;\n",
       "    }\n",
       "\n",
       "    .dataframe tbody tr th {\n",
       "        vertical-align: top;\n",
       "    }\n",
       "\n",
       "    .dataframe thead th {\n",
       "        text-align: right;\n",
       "    }\n",
       "</style>\n",
       "<table border=\"1\" class=\"dataframe\">\n",
       "  <thead>\n",
       "    <tr style=\"text-align: right;\">\n",
       "      <th></th>\n",
       "      <th>stage_level</th>\n",
       "      <th>text</th>\n",
       "    </tr>\n",
       "  </thead>\n",
       "  <tbody>\n",
       "    <tr>\n",
       "      <th>0</th>\n",
       "      <td>0.0</td>\n",
       "      <td>Because stage 0 NSCLC is limited to the lining...</td>\n",
       "    </tr>\n",
       "    <tr>\n",
       "      <th>1</th>\n",
       "      <td>1.0</td>\n",
       "      <td>If you have stage I NSCLC, surgery may be the ...</td>\n",
       "    </tr>\n",
       "    <tr>\n",
       "      <th>2</th>\n",
       "      <td>2.0</td>\n",
       "      <td>People who have stage II NSCLC and are healthy...</td>\n",
       "    </tr>\n",
       "    <tr>\n",
       "      <th>3</th>\n",
       "      <td>3.0</td>\n",
       "      <td>Treatment for stage IIIA NSCLC may include som...</td>\n",
       "    </tr>\n",
       "    <tr>\n",
       "      <th>4</th>\n",
       "      <td>4.0</td>\n",
       "      <td>Stage IV NSCLC is widespread when it is diagno...</td>\n",
       "    </tr>\n",
       "  </tbody>\n",
       "</table>\n",
       "</div>"
      ],
      "text/plain": [
       "   stage_level                                               text\n",
       "0          0.0  Because stage 0 NSCLC is limited to the lining...\n",
       "1          1.0  If you have stage I NSCLC, surgery may be the ...\n",
       "2          2.0  People who have stage II NSCLC and are healthy...\n",
       "3          3.0  Treatment for stage IIIA NSCLC may include som...\n",
       "4          4.0  Stage IV NSCLC is widespread when it is diagno..."
      ]
     },
     "execution_count": 104,
     "metadata": {},
     "output_type": "execute_result"
    }
   ],
   "source": [
    "data = pd.read_csv('../../ground_truths/ground_truth.csv')\n",
    "data.head()\n",
    "stage_level = data[['text', 'stage_level']].groupby('stage_level').agg({'text': lambda text: ' '.join(text),\n",
    "                                                                        })\n",
    "data = stage_level.reset_index(level=0)\n",
    "data"
   ]
  },
  {
   "cell_type": "code",
   "execution_count": 105,
   "metadata": {
    "pycharm": {
     "name": "#%%\n"
    }
   },
   "outputs": [
    {
     "name": "stdout",
     "output_type": "stream",
     "text": [
      "('Because stage 0 NSCLC is limited to the lining layer of airways and has not '\n",
      " 'invaded deeper into the lung tissue or other areas, it is usually curable by '\n",
      " 'surgery alone. No chemotherapy or radiation therapy is needed. If you are '\n",
      " 'healthy enough for surgery, you can usually be treated by segmentectomy or '\n",
      " 'wedge resection (removal of part of the lobe of the lung). Cancers in some '\n",
      " 'locations (such as where the windpipe divides into the left and right main '\n",
      " 'bronchi) may be treated with a sleeve resection, but in some cases they may '\n",
      " 'be hard to remove completely without removing a lobe (lobectomy) or even an '\n",
      " 'entire lung (pneumonectomy). For some stage 0 cancers, treatments such as '\n",
      " 'photodynamic therapy (PDT), laser therapy, or brachytherapy (internal '\n",
      " 'radiation) may be alternatives to surgery. If your cancer is truly stage 0, '\n",
      " 'these treatments should cure you.')\n"
     ]
    }
   ],
   "source": [
    "doc = list(data['text'].values)\n",
    "pprint(doc[0])"
   ]
  },
  {
   "cell_type": "code",
   "execution_count": 106,
   "metadata": {
    "pycharm": {
     "name": "#%%\n"
    }
   },
   "outputs": [],
   "source": [
    "# Remove punctuations, tokenizing\n",
    "def sent_to_words(sentences):\n",
    "    for sentence in sentences:\n",
    "        yield gensim.utils.simple_preprocess(str(sentence), deacc=False)"
   ]
  },
  {
   "cell_type": "code",
   "execution_count": 107,
   "metadata": {
    "pycharm": {
     "name": "#%%\n"
    }
   },
   "outputs": [],
   "source": [
    "stop_words = set(stopwords.words('english'))\n",
    "def text_cleaner(text, remove_short_words=False, remove_xml_tag=False):\n",
    "    newString = text.lower()\n",
    "    if remove_xml_tag:\n",
    "        newString = BeautifulSoup(newString, \"lxml\").text\n",
    "    newString = re.sub(r'\\([^)]*\\)', '', newString)\n",
    "    newString = re.sub('\"','', newString)\n",
    "    newString = re.sub(r\"'s\\b\",\"\",newString)\n",
    "    newString = re.sub('\\n+', ' ', newString)\n",
    "    newString = re.sub(\"[^a-zA-Z0-9]\", \" \", newString)\n",
    "    tokens = [w for w in newString.split() if not w in stop_words]\n",
    "    if remove_short_words:\n",
    "        long_words=[]\n",
    "        for i in tokens:\n",
    "            if len(i) >= 3:                  # removing short word\n",
    "                long_words.append(i)\n",
    "        return long_words\n",
    "    else:\n",
    "        return tokens"
   ]
  },
  {
   "cell_type": "code",
   "execution_count": 108,
   "metadata": {
    "pycharm": {
     "name": "#%%\n"
    }
   },
   "outputs": [
    {
     "name": "stdout",
     "output_type": "stream",
     "text": [
      "['stage',\n",
      " '0',\n",
      " 'nsclc',\n",
      " 'limited',\n",
      " 'lining',\n",
      " 'layer',\n",
      " 'airways',\n",
      " 'invaded',\n",
      " 'deeper',\n",
      " 'lung']\n"
     ]
    }
   ],
   "source": [
    "# data_words = list(sent_to_words(doc))\n",
    "data_words = [text_cleaner(d) for d in doc]\n",
    "pprint(data_words[0][:10])"
   ]
  },
  {
   "cell_type": "code",
   "execution_count": 110,
   "metadata": {
    "pycharm": {
     "name": "#%%\n"
    }
   },
   "outputs": [],
   "source": [
    "# Creating Bigram and Trigram models\n",
    "bigram = gensim.models.Phrases(data_words, min_count=5, threshold=100)\n",
    "# higher threshold fewer phrases.\n",
    "trigram = gensim.models.Phrases(bigram[data_words], threshold=100)\n",
    "\n",
    "# Faster way to get a sentence clubbed as a trigram/bigram\n",
    "bigram_mod = gensim.models.phrases.Phraser(bigram)\n",
    "trigram_mod = gensim.models.phrases.Phraser(trigram)\n",
    "\n",
    "# See trigram example\n",
    "# print(trigram_mod[bigram_mod[data_words[1]]])\n"
   ]
  },
  {
   "cell_type": "code",
   "execution_count": 111,
   "metadata": {
    "pycharm": {
     "name": "#%%\n"
    }
   },
   "outputs": [],
   "source": [
    "nlp = spacy.load('en', disable=['parser', 'ner'])\n",
    "from spacy.lang.en.stop_words import STOP_WORDS\n"
   ]
  },
  {
   "cell_type": "code",
   "execution_count": 112,
   "metadata": {
    "pycharm": {
     "name": "#%%\n"
    }
   },
   "outputs": [],
   "source": [
    "# Remove stopwords, make biagrams and lemmatize\n",
    "\n",
    "def remove_stopwords(texts):\n",
    "    return [[word for word in simple_preprocess(str(doc)) if word not in STOP_WORDS] for doc in texts]\n",
    "\n",
    "def make_bigrams(texts):\n",
    "    return [bigram_mod[doc] for doc in texts]\n",
    "\n",
    "def make_trigrams(texts):\n",
    "    return [trigram_mod[bigram_mod[doc]] for doc in texts]\n",
    "\n",
    "def lemmatization(texts, allowed_postags=['NOUN', 'ADJ', 'VERB', 'ADV']):\n",
    "    \"\"\"https://spacy.io/api/annotation\"\"\"\n",
    "    texts_out = []\n",
    "    for sent in texts:\n",
    "        doc = nlp(\" \".join(sent))\n",
    "        texts_out.append([token.lemma_ for token in doc if token.pos_ in allowed_postags])\n",
    "    return texts_out"
   ]
  },
  {
   "cell_type": "code",
   "execution_count": 113,
   "metadata": {
    "pycharm": {
     "name": "#%%\n"
    }
   },
   "outputs": [
    {
     "name": "stdout",
     "output_type": "stream",
     "text": [
      "['stage', '0', 'nsclc', 'limited', 'lining', 'layer', 'airways', 'invaded', 'deeper', 'lung', 'tissue', 'areas', 'usually', 'curable', 'surgery', 'alone', 'chemotherapy', 'radiation', 'therapy', 'needed', 'healthy', 'enough', 'surgery', 'usually', 'treated', 'segmentectomy', 'wedge', 'resection', 'cancers', 'locations', 'may', 'treated', 'sleeve', 'resection', 'cases', 'may', 'hard', 'remove', 'completely', 'without', 'removing', 'lobe', 'even', 'entire', 'lung', 'stage', '0', 'cancers', 'treatments', 'photodynamic', 'therapy', 'laser', 'therapy', 'brachytherapy', 'may', 'alternatives', 'surgery', 'cancer', 'truly', 'stage', '0', 'treatments', 'cure']\n"
     ]
    }
   ],
   "source": [
    "# data_words_nostops = remove_stopwords(data_words)\n",
    "\n",
    "# Form Bigrams\n",
    "data_words_bigrams = make_bigrams(data_words)\n",
    "\n",
    "# Do lemmatization keeping only noun, adj, vb, adv\n",
    "# data_lemmatized = lemmatization(data_words_bigrams, allowed_postags=['NOUN', 'ADJ', 'VERB', 'ADV'])\n",
    "\n",
    "print(data_words_bigrams[0])"
   ]
  },
  {
   "cell_type": "code",
   "execution_count": 114,
   "metadata": {
    "pycharm": {
     "name": "#%%\n"
    }
   },
   "outputs": [
    {
     "name": "stdout",
     "output_type": "stream",
     "text": [
      "[[(0, 3), (1, 1), (2, 1), (3, 1), (4, 1), (5, 1), (6, 1), (7, 2), (8, 1), (9, 1), (10, 1), (11, 1), (12, 1), (13, 1), (14, 1), (15, 1), (16, 1), (17, 1), (18, 1), (19, 1), (20, 1), (21, 1), (22, 1), (23, 1), (24, 1), (25, 1), (26, 2), (27, 3), (28, 1), (29, 1), (30, 1), (31, 1), (32, 1), (33, 1), (34, 2), (35, 1), (36, 1), (37, 3), (38, 3), (39, 3), (40, 1), (41, 2), (42, 2), (43, 1), (44, 2), (45, 1), (46, 1)]]\n"
     ]
    }
   ],
   "source": [
    "# Create the Dictionary and Corpus\n",
    "# Create Dictionary\n",
    "id2word = corpora.Dictionary(data_words)\n",
    "\n",
    "# Create Corpus\n",
    "texts = data_words\n",
    "\n",
    "# Term Document Frequency\n",
    "corpus = [id2word.doc2bow(text) for text in texts]\n",
    "\n",
    "# View\n",
    "print(corpus[:1])"
   ]
  },
  {
   "cell_type": "code",
   "execution_count": 115,
   "metadata": {
    "pycharm": {
     "name": "#%%\n"
    },
    "scrolled": true
   },
   "outputs": [
    {
     "data": {
      "text/plain": [
       "[[('0', 3),\n",
       "  ('airways', 1),\n",
       "  ('alone', 1),\n",
       "  ('alternatives', 1),\n",
       "  ('areas', 1),\n",
       "  ('brachytherapy', 1),\n",
       "  ('cancer', 1),\n",
       "  ('cancers', 2),\n",
       "  ('cases', 1),\n",
       "  ('chemotherapy', 1),\n",
       "  ('completely', 1),\n",
       "  ('curable', 1),\n",
       "  ('cure', 1),\n",
       "  ('deeper', 1),\n",
       "  ('enough', 1),\n",
       "  ('entire', 1),\n",
       "  ('even', 1),\n",
       "  ('hard', 1),\n",
       "  ('healthy', 1),\n",
       "  ('invaded', 1),\n",
       "  ('laser', 1),\n",
       "  ('layer', 1),\n",
       "  ('limited', 1),\n",
       "  ('lining', 1),\n",
       "  ('lobe', 1),\n",
       "  ('locations', 1),\n",
       "  ('lung', 2),\n",
       "  ('may', 3),\n",
       "  ('needed', 1),\n",
       "  ('nsclc', 1),\n",
       "  ('photodynamic', 1),\n",
       "  ('radiation', 1),\n",
       "  ('remove', 1),\n",
       "  ('removing', 1),\n",
       "  ('resection', 2),\n",
       "  ('segmentectomy', 1),\n",
       "  ('sleeve', 1),\n",
       "  ('stage', 3),\n",
       "  ('surgery', 3),\n",
       "  ('therapy', 3),\n",
       "  ('tissue', 1),\n",
       "  ('treated', 2),\n",
       "  ('treatments', 2),\n",
       "  ('truly', 1),\n",
       "  ('usually', 2),\n",
       "  ('wedge', 1),\n",
       "  ('without', 1)]]"
      ]
     },
     "execution_count": 115,
     "metadata": {},
     "output_type": "execute_result"
    }
   ],
   "source": [
    "# Corpus format: (word_id: freq)\n",
    "[[(id2word[id], freq) for id, freq in cp] for cp in corpus[:1]]\n"
   ]
  },
  {
   "cell_type": "code",
   "execution_count": 116,
   "metadata": {
    "pycharm": {
     "name": "#%%\n"
    }
   },
   "outputs": [],
   "source": [
    "# Choose the optimal number of topics\n",
    "# By choosing a 'k' that gives the highest coherence value\n",
    "\n",
    "def compute_coherence_values(dictionary, corpus, texts, limit, start=2, step=1):\n",
    "    \"\"\"\n",
    "    Compute c_v coherence for various number of topics\n",
    "\n",
    "    Parameters:\n",
    "    ----------\n",
    "    dictionary : Gensim dictionary\n",
    "    corpus : Gensim corpus\n",
    "    texts : List of input texts\n",
    "    limit : Max num of topics\n",
    "\n",
    "    Returns:\n",
    "    -------\n",
    "    model_list : List of LDA topic models\n",
    "    coherence_values : Coherence values corresponding to the LDA model with respective number of topics\n",
    "    \"\"\"\n",
    "    coherence_values = []\n",
    "    model_list = []\n",
    "    for num_topics in range(start, limit, step):\n",
    "        model = gensim.models.ldamodel.LdaModel(corpus=corpus, num_topics=num_topics, id2word=id2word)\n",
    "        model_list.append(model)\n",
    "        coherencemodel = CoherenceModel(model=model, texts=texts, dictionary=dictionary, coherence='c_v')\n",
    "        coherence_values.append(coherencemodel.get_coherence())\n",
    "\n",
    "    return model_list, coherence_values\n"
   ]
  },
  {
   "cell_type": "code",
   "execution_count": 117,
   "metadata": {
    "pycharm": {
     "name": "#%%\n"
    }
   },
   "outputs": [
    {
     "data": {
      "image/png": "[encoded data removed]",
      "text/plain": [
       "<Figure size 432x288 with 1 Axes>"
      ]
     },
     "metadata": {
      "needs_background": "light"
     },
     "output_type": "display_data"
    }
   ],
   "source": [
    "limit=10; start=2; step=1\n",
    "model_list, coherence_values = compute_coherence_values(dictionary=id2word, corpus=corpus, texts=data_words, start=start, limit=limit, step=step)\n",
    "# Show graph\n",
    "x = range(start, limit, step)\n",
    "plt.plot(x, coherence_values)\n",
    "plt.xlabel(\"Num Topics\")\n",
    "plt.ylabel(\"Coherence score\")\n",
    "plt.legend((\"coherence_values\"), loc='best')\n",
    "plt.show()\n"
   ]
  },
  {
   "cell_type": "code",
   "execution_count": 118,
   "metadata": {
    "pycharm": {
     "name": "#%%\n"
    }
   },
   "outputs": [],
   "source": [
    "# Select the model with num_topics=2\n",
    "def select_model(model_list, num_topics_desired: int, start, step):\n",
    "    model_idx = (num_topics_desired - start) / step\n",
    "    return model_list[int(model_idx)]\n",
    "\n",
    "model = select_model(model_list,\n",
    "                     num_topics_desired=2,\n",
    "                     start=start,\n",
    "                     step=step)"
   ]
  },
  {
   "cell_type": "code",
   "execution_count": 119,
   "metadata": {
    "pycharm": {
     "name": "#%%\n"
    }
   },
   "outputs": [
    {
     "name": "stdout",
     "output_type": "stream",
     "text": [
      "[(0,\n",
      "  '0.029*\"treatment\" + 0.026*\"cancer\" + 0.025*\"may\" + 0.023*\"surgery\" + '\n",
      "  '0.021*\"radiation\" + 0.020*\"therapy\" + 0.017*\"chemo\" + 0.016*\"people\" + '\n",
      "  '0.015*\"might\" + 0.014*\"cancers\"'),\n",
      " (1,\n",
      "  '0.021*\"may\" + 0.021*\"surgery\" + 0.018*\"cancer\" + 0.012*\"therapy\" + '\n",
      "  '0.012*\"stage\" + 0.011*\"lung\" + 0.010*\"treatment\" + 0.009*\"removed\" + '\n",
      "  '0.008*\"nsclc\" + 0.008*\"people\"')]\n"
     ]
    }
   ],
   "source": [
    "# Show the topics\n",
    "model_topics = model.show_topics(formatted=False)\n",
    "pprint(model.print_topics(num_words=10))"
   ]
  },
  {
   "cell_type": "code",
   "execution_count": 120,
   "metadata": {
    "pycharm": {
     "name": "#%%\n"
    }
   },
   "outputs": [],
   "source": [
    "# Find the dominant topic in each paragraph\n",
    "\n",
    "def format_topics_sentences(lda_model, corpus, texts):\n",
    "    sent_topics_df = pd.DataFrame()\n",
    "    for i, row in enumerate(lda_model[corpus]):\n",
    "        row = sorted(row, key=lambda x: (x[1]), reverse=True)\n",
    "        # Sort by word frequency\n",
    "        for j, (topic_num, prop_topic) in enumerate(row):\n",
    "            if j == 0:  # => dominant topic\n",
    "                wp = lda_model.show_topic(topic_num)\n",
    "                topic_keywords = \", \".join([word for word, prop in wp])\n",
    "                sent_topics_df = sent_topics_df.append(pd.Series([int(topic_num), round(prop_topic,4), topic_keywords]), ignore_index=True)\n",
    "            else:\n",
    "                break\n",
    "    sent_topics_df.columns = ['Dominant_Topic', 'Perc_Contribution', 'Topic_Keywords']\n",
    "    # Add original text to the end of the output\n",
    "    contents = pd.Series(texts)\n",
    "    sent_topics_df = pd.concat([sent_topics_df, contents], axis=1)\n",
    "    return sent_topics_df"
   ]
  },
  {
   "cell_type": "code",
   "execution_count": 121,
   "metadata": {
    "pycharm": {
     "name": "#%%\n"
    }
   },
   "outputs": [
    {
     "data": {
      "text/html": [
       "<div>\n",
       "<style scoped>\n",
       "    .dataframe tbody tr th:only-of-type {\n",
       "        vertical-align: middle;\n",
       "    }\n",
       "\n",
       "    .dataframe tbody tr th {\n",
       "        vertical-align: top;\n",
       "    }\n",
       "\n",
       "    .dataframe thead th {\n",
       "        text-align: right;\n",
       "    }\n",
       "</style>\n",
       "<table border=\"1\" class=\"dataframe\">\n",
       "  <thead>\n",
       "    <tr style=\"text-align: right;\">\n",
       "      <th></th>\n",
       "      <th>Document_No</th>\n",
       "      <th>Dominant_Topic</th>\n",
       "      <th>Topic_Perc_Contrib</th>\n",
       "      <th>Keywords</th>\n",
       "      <th>Text</th>\n",
       "    </tr>\n",
       "  </thead>\n",
       "  <tbody>\n",
       "    <tr>\n",
       "      <th>0</th>\n",
       "      <td>0</td>\n",
       "      <td>1.0</td>\n",
       "      <td>0.9751</td>\n",
       "      <td>may, surgery, cancer, therapy, stage, lung, tr...</td>\n",
       "      <td>Because stage 0 NSCLC is limited to the lining...</td>\n",
       "    </tr>\n",
       "    <tr>\n",
       "      <th>1</th>\n",
       "      <td>1</td>\n",
       "      <td>0.0</td>\n",
       "      <td>0.8977</td>\n",
       "      <td>treatment, cancer, may, surgery, radiation, th...</td>\n",
       "      <td>If you have stage I NSCLC, surgery may be the ...</td>\n",
       "    </tr>\n",
       "    <tr>\n",
       "      <th>2</th>\n",
       "      <td>2</td>\n",
       "      <td>0.0</td>\n",
       "      <td>0.9882</td>\n",
       "      <td>treatment, cancer, may, surgery, radiation, th...</td>\n",
       "      <td>People who have stage II NSCLC and are healthy...</td>\n",
       "    </tr>\n",
       "    <tr>\n",
       "      <th>3</th>\n",
       "      <td>3</td>\n",
       "      <td>0.0</td>\n",
       "      <td>0.9967</td>\n",
       "      <td>treatment, cancer, may, surgery, radiation, th...</td>\n",
       "      <td>Treatment for stage IIIA NSCLC may include som...</td>\n",
       "    </tr>\n",
       "    <tr>\n",
       "      <th>4</th>\n",
       "      <td>4</td>\n",
       "      <td>0.0</td>\n",
       "      <td>0.9984</td>\n",
       "      <td>treatment, cancer, may, surgery, radiation, th...</td>\n",
       "      <td>Stage IV NSCLC is widespread when it is diagno...</td>\n",
       "    </tr>\n",
       "  </tbody>\n",
       "</table>\n",
       "</div>"
      ],
      "text/plain": [
       "   Document_No  Dominant_Topic  Topic_Perc_Contrib  \\\n",
       "0            0             1.0              0.9751   \n",
       "1            1             0.0              0.8977   \n",
       "2            2             0.0              0.9882   \n",
       "3            3             0.0              0.9967   \n",
       "4            4             0.0              0.9984   \n",
       "\n",
       "                                            Keywords  \\\n",
       "0  may, surgery, cancer, therapy, stage, lung, tr...   \n",
       "1  treatment, cancer, may, surgery, radiation, th...   \n",
       "2  treatment, cancer, may, surgery, radiation, th...   \n",
       "3  treatment, cancer, may, surgery, radiation, th...   \n",
       "4  treatment, cancer, may, surgery, radiation, th...   \n",
       "\n",
       "                                                Text  \n",
       "0  Because stage 0 NSCLC is limited to the lining...  \n",
       "1  If you have stage I NSCLC, surgery may be the ...  \n",
       "2  People who have stage II NSCLC and are healthy...  \n",
       "3  Treatment for stage IIIA NSCLC may include som...  \n",
       "4  Stage IV NSCLC is widespread when it is diagno...  "
      ]
     },
     "execution_count": 121,
     "metadata": {},
     "output_type": "execute_result"
    }
   ],
   "source": [
    "df_topic_sents_keywords = format_topics_sentences(lda_model=model, corpus=corpus, texts=doc)\n",
    "\n",
    "# Format\n",
    "df_dominant_topic = df_topic_sents_keywords.reset_index()\n",
    "df_dominant_topic.columns = ['Document_No', 'Dominant_Topic', 'Topic_Perc_Contrib', 'Keywords', 'Text']\n",
    "\n",
    "# Show\n",
    "df_dominant_topic.head()"
   ]
  },
  {
   "cell_type": "code",
   "execution_count": 122,
   "metadata": {
    "pycharm": {
     "name": "#%%\n"
    },
    "scrolled": true
   },
   "outputs": [
    {
     "data": {
      "text/html": [
       "<div>\n",
       "<style scoped>\n",
       "    .dataframe tbody tr th:only-of-type {\n",
       "        vertical-align: middle;\n",
       "    }\n",
       "\n",
       "    .dataframe tbody tr th {\n",
       "        vertical-align: top;\n",
       "    }\n",
       "\n",
       "    .dataframe thead th {\n",
       "        text-align: right;\n",
       "    }\n",
       "</style>\n",
       "<table border=\"1\" class=\"dataframe\">\n",
       "  <thead>\n",
       "    <tr style=\"text-align: right;\">\n",
       "      <th></th>\n",
       "      <th>Document_No</th>\n",
       "      <th>Dominant_Topic</th>\n",
       "      <th>Topic_Perc_Contrib</th>\n",
       "      <th>Keywords</th>\n",
       "      <th>Text</th>\n",
       "    </tr>\n",
       "  </thead>\n",
       "  <tbody>\n",
       "    <tr>\n",
       "      <th>0</th>\n",
       "      <td>4</td>\n",
       "      <td>0.0</td>\n",
       "      <td>0.9984</td>\n",
       "      <td>treatment, cancer, may, surgery, radiation, th...</td>\n",
       "      <td>Stage IV NSCLC is widespread when it is diagno...</td>\n",
       "    </tr>\n",
       "    <tr>\n",
       "      <th>1</th>\n",
       "      <td>0</td>\n",
       "      <td>1.0</td>\n",
       "      <td>0.9751</td>\n",
       "      <td>may, surgery, cancer, therapy, stage, lung, tr...</td>\n",
       "      <td>Because stage 0 NSCLC is limited to the lining...</td>\n",
       "    </tr>\n",
       "  </tbody>\n",
       "</table>\n",
       "</div>"
      ],
      "text/plain": [
       "   Document_No  Dominant_Topic  Topic_Perc_Contrib  \\\n",
       "0            4             0.0              0.9984   \n",
       "1            0             1.0              0.9751   \n",
       "\n",
       "                                            Keywords  \\\n",
       "0  treatment, cancer, may, surgery, radiation, th...   \n",
       "1  may, surgery, cancer, therapy, stage, lung, tr...   \n",
       "\n",
       "                                                Text  \n",
       "0  Stage IV NSCLC is widespread when it is diagno...  \n",
       "1  Because stage 0 NSCLC is limited to the lining...  "
      ]
     },
     "execution_count": 122,
     "metadata": {},
     "output_type": "execute_result"
    }
   ],
   "source": [
    "# Find the most representative document for each topic\n",
    "\n",
    "def top_k_docs_for_each_topic(k):\n",
    "    topic_representatives = pd.DataFrame()\n",
    "    for i, group in df_dominant_topic.groupby('Dominant_Topic'):\n",
    "        topic_representatives = pd.concat([topic_representatives,\n",
    "                                                 group.sort_values(['Topic_Perc_Contrib'], ascending=[0]).head(k)],\n",
    "                                                axis=0)\n",
    "    topic_representatives.reset_index(drop=True, inplace=True)\n",
    "\n",
    "    # Format\n",
    "    # topic_representatives.columns = ['Topic_Num', \"Topic_Perc_Contrib\", \"Keywords\", \"Text\"]\n",
    "\n",
    "    return topic_representatives\n",
    "\n",
    "\n",
    "# Show\n",
    "top_k_docs_for_each_topic(1).head()"
   ]
  },
  {
   "cell_type": "code",
   "execution_count": 123,
   "metadata": {
    "pycharm": {
     "name": "#%%\n"
    }
   },
   "outputs": [
    {
     "data": {
      "text/html": [
       "<div>\n",
       "<style scoped>\n",
       "    .dataframe tbody tr th:only-of-type {\n",
       "        vertical-align: middle;\n",
       "    }\n",
       "\n",
       "    .dataframe tbody tr th {\n",
       "        vertical-align: top;\n",
       "    }\n",
       "\n",
       "    .dataframe thead th {\n",
       "        text-align: right;\n",
       "    }\n",
       "</style>\n",
       "<table border=\"1\" class=\"dataframe\">\n",
       "  <thead>\n",
       "    <tr style=\"text-align: right;\">\n",
       "      <th></th>\n",
       "      <th>Dominant_Topic</th>\n",
       "      <th>Topic_Keywords</th>\n",
       "      <th>Num_Documents</th>\n",
       "      <th>Perc_Documents</th>\n",
       "    </tr>\n",
       "  </thead>\n",
       "  <tbody>\n",
       "    <tr>\n",
       "      <th>0.0</th>\n",
       "      <td>0.0</td>\n",
       "      <td>treatment, cancer, may, surgery, radiation, th...</td>\n",
       "      <td>4</td>\n",
       "      <td>0.8</td>\n",
       "    </tr>\n",
       "    <tr>\n",
       "      <th>1.0</th>\n",
       "      <td>1.0</td>\n",
       "      <td>may, surgery, cancer, therapy, stage, lung, tr...</td>\n",
       "      <td>1</td>\n",
       "      <td>0.2</td>\n",
       "    </tr>\n",
       "  </tbody>\n",
       "</table>\n",
       "</div>"
      ],
      "text/plain": [
       "     Dominant_Topic                                     Topic_Keywords  \\\n",
       "0.0             0.0  treatment, cancer, may, surgery, radiation, th...   \n",
       "1.0             1.0  may, surgery, cancer, therapy, stage, lung, tr...   \n",
       "\n",
       "     Num_Documents  Perc_Documents  \n",
       "0.0              4             0.8  \n",
       "1.0              1             0.2  "
      ]
     },
     "execution_count": 123,
     "metadata": {},
     "output_type": "execute_result"
    }
   ],
   "source": [
    "# Topic volume distribution\n",
    "# Number of Documents for Each Topic\n",
    "topic_counts = df_topic_sents_keywords['Dominant_Topic'].value_counts()\n",
    "\n",
    "# Percentage of Documents for Each Topic\n",
    "topic_contribution = round(topic_counts/topic_counts.sum(), 4)\n",
    "\n",
    "# Topic Number and Keywords\n",
    "topic_num_keywords = top_k_docs_for_each_topic(1)[['Dominant_Topic', 'Keywords']]\n",
    "\n",
    "# Concatenate Column wise\n",
    "df_dominant_topics = pd.concat([topic_num_keywords, topic_counts, topic_contribution], axis=1)\n",
    "\n",
    "# Change Column names\n",
    "df_dominant_topics.columns = ['Dominant_Topic', 'Topic_Keywords', 'Num_Documents', 'Perc_Documents']\n",
    "\n",
    "# Show\n",
    "df_dominant_topics\n"
   ]
  },
  {
   "cell_type": "code",
   "execution_count": 124,
   "metadata": {
    "pycharm": {
     "name": "#%%\n"
    }
   },
   "outputs": [
    {
     "data": {
      "text/html": [
       "\n",
       "<link rel=\"stylesheet\" type=\"text/css\" href=\"https://cdn.rawgit.com/bmabey/pyLDAvis/files/ldavis.v1.0.0.css\">\n",
       "\n",
       "\n",
       "<div id=\"ldavis_el277381404422414996886660933379\"></div>\n",
       "<script type=\"text/javascript\">\n",
       "\n",
       "var ldavis_el277381404422414996886660933379_data = {\"mdsDat\": {\"x\": [0.012569122016429901, -0.012569122016429901], \"y\": [0.0, 0.0], \"topics\": [1, 2], \"cluster\": [1, 1], \"Freq\": [91.53141784667969, 8.46857738494873]}, \"tinfo\": {\"Term\": [\"may\", \"surgery\", \"cancer\", \"stage\", \"lung\", \"therapy\", \"removed\", \"treatments\", \"nsclc\", \"usually\", \"cells\", \"cancers\", \"people\", \"might\", \"tumor\", \"treatment\", \"resection\", \"spread\", \"cure\", \"done\", \"radiation\", \"likely\", \"0\", \"option\", \"treated\", \"even\", \"chemo\", \"also\", \"removing\", \"help\", \"treatment\", \"often\", \"radiation\", \"chemo\", \"considered\", \"immunotherapy\", \"used\", \"first\", \"chemoradiation\", \"people\", \"given\", \"combined\", \"options\", \"might\", \"health\", \"drug\", \"cancers\", \"bevacizumab\", \"pembrolizumab\", \"overall\", \"option\", \"combination\", \"therapy\", \"whose\", \"gene\", \"spread\", \"nsclc\", \"include\", \"stages\", \"tumors\", \"cancer\", \"may\", \"surgery\", \"lung\", \"stage\", \"also\", \"treatments\", \"tumor\", \"drugs\", \"removed\", \"enough\", \"chemotherapy\", \"cells\", \"usually\", \"locations\", \"alternatives\", \"cases\", \"areas\", \"curable\", \"0\", \"without\", \"airways\", \"layer\", \"truly\", \"deeper\", \"lining\", \"invaded\", \"brachytherapy\", \"entire\", \"lower\", \"ablation\", \"chance\", \"wedge\", \"segmentectomy\", \"determine\", \"sleeve\", \"offers\", \"removing\", \"piece\", \"remove\", \"ii\", \"return\", \"radiofrequency\", \"resection\", \"try\", \"see\", \"lobe\", \"done\", \"surgery\", \"may\", \"stage\", \"cancer\", \"lung\", \"removed\", \"usually\", \"cells\", \"therapy\", \"treatments\", \"cure\", \"nsclc\", \"tumor\", \"even\", \"cancers\", \"might\", \"people\", \"treatment\", \"likely\", \"radiation\", \"spread\", \"treated\", \"chemo\", \"option\", \"also\", \"used\"], \"Freq\": [23.0, 21.0, 22.0, 11.0, 11.0, 17.0, 7.0, 7.0, 11.0, 5.0, 5.0, 12.0, 13.0, 13.0, 6.0, 25.0, 3.0, 8.0, 4.0, 3.0, 18.0, 5.0, 2.0, 8.0, 5.0, 4.0, 15.0, 6.0, 2.0, 5.0, 24.87507438659668, 7.424806594848633, 17.98831558227539, 14.547613143920898, 3.9810235500335693, 6.342383861541748, 9.507317543029785, 4.725955963134766, 3.142296314239502, 13.322602272033691, 3.917083978652954, 3.130516529083252, 4.67438268661499, 12.449531555175781, 7.7716522216796875, 6.172173500061035, 11.56904411315918, 3.849968194961548, 4.614433765411377, 3.841038703918457, 8.370685577392578, 3.798900604248047, 16.70621109008789, 3.7851722240448, 5.286975860595703, 8.264409065246582, 10.513684272766113, 2.9964661598205566, 2.9933457374572754, 3.7256367206573486, 21.582143783569336, 21.429080963134766, 19.82312774658203, 10.517666816711426, 10.22541618347168, 5.79780387878418, 6.944968223571777, 6.341691017150879, 5.085582733154297, 6.702305316925049, 5.074443340301514, 5.061655044555664, 5.301531791687012, 5.284589767456055, 0.2662855386734009, 0.257016658782959, 0.2493307739496231, 0.24774296581745148, 0.2470276951789856, 0.49230748414993286, 0.2433527559041977, 0.24328166246414185, 0.24319960176944733, 0.24072536826133728, 0.23815862834453583, 0.2379814237356186, 0.2358303815126419, 0.23555433750152588, 0.33809906244277954, 0.21861381828784943, 0.21774901449680328, 0.21404580771923065, 0.32074952125549316, 0.3170311748981476, 0.20913103222846985, 0.3101973533630371, 0.2065812349319458, 0.4115503430366516, 0.20239388942718506, 0.30143705010414124, 0.19994167983531952, 0.19902192056179047, 0.19839166104793549, 0.49558061361312866, 0.38372641801834106, 0.37586313486099243, 0.3703005611896515, 0.4471730887889862, 1.611283540725708, 1.67764151096344, 0.9643042087554932, 1.3992239236831665, 0.8893009424209595, 0.6722657680511475, 0.5576383471488953, 0.5532774329185486, 0.9759684205055237, 0.6100363731384277, 0.4446118474006653, 0.6512128710746765, 0.5256138443946838, 0.4237842261791229, 0.619679868221283, 0.6329358816146851, 0.6481541991233826, 0.7937910556793213, 0.43543028831481934, 0.6470342874526978, 0.5107325911521912, 0.4322337806224823, 0.5730527639389038, 0.48347002267837524, 0.4259955883026123, 0.4310847520828247], \"Total\": [23.0, 21.0, 22.0, 11.0, 11.0, 17.0, 7.0, 7.0, 11.0, 5.0, 5.0, 12.0, 13.0, 13.0, 6.0, 25.0, 3.0, 8.0, 4.0, 3.0, 18.0, 5.0, 2.0, 8.0, 5.0, 4.0, 15.0, 6.0, 2.0, 5.0, 25.668865203857422, 7.672593116760254, 18.63534927368164, 15.120665550231934, 4.155603885650635, 6.628701686859131, 9.93840217590332, 4.9485764503479, 3.2928683757781982, 13.970756530761719, 4.108061790466309, 3.2841176986694336, 4.910254001617432, 13.082467079162598, 8.169637680053711, 6.502135276794434, 12.18872356414795, 4.05817174911499, 4.865677356719971, 4.051516056060791, 8.854155540466309, 4.020199775695801, 17.682180404663086, 4.009997367858887, 5.604836940765381, 8.775141716003418, 11.164896965026855, 3.1844444274902344, 3.18212628364563, 3.9657278060913086, 22.981367111206055, 23.106721878051758, 21.434412002563477, 11.406968116760254, 11.189720153808594, 6.223799705505371, 7.555004596710205, 6.867304801940918, 5.455119609832764, 7.374570846557617, 5.4468207359313965, 5.437344551086426, 5.854809284210205, 5.842227935791016, 1.092893123626709, 1.1197408437728882, 1.1420207023620605, 1.146615982055664, 1.1487102508544922, 2.3024094104766846, 1.1593530178070068, 1.1595544815063477, 1.1598052978515625, 1.1669524908065796, 1.1743957996368408, 1.1749277114868164, 1.1811585426330566, 1.181955337524414, 1.8170361518859863, 1.2310426235198975, 1.2335470914840698, 1.2442963123321533, 1.867315649986267, 1.8781181573867798, 1.2585381269454956, 1.897908091545105, 1.2659246921539307, 2.536468982696533, 1.2780643701553345, 1.923298954963684, 1.2851648330688477, 1.2878246307373047, 1.2896684408187866, 3.225238084793091, 2.6170613765716553, 2.6399054527282715, 2.6560091972351074, 3.365515947341919, 21.434412002563477, 23.106721878051758, 11.189720153808594, 22.981367111206055, 11.406968116760254, 7.374570846557617, 5.842227935791016, 5.854809284210205, 17.682180404663086, 7.555004596710205, 4.305220127105713, 11.164896965026855, 6.867304801940918, 4.365535259246826, 12.18872356414795, 13.082467079162598, 13.970756530761719, 25.668865203857422, 5.26412296295166, 18.63534927368164, 8.775141716003418, 5.273354530334473, 15.120665550231934, 8.854155540466309, 6.223799705505371, 9.93840217590332], \"Category\": [\"Default\", \"Default\", \"Default\", \"Default\", \"Default\", \"Default\", \"Default\", \"Default\", \"Default\", \"Default\", \"Default\", \"Default\", \"Default\", \"Default\", \"Default\", \"Default\", \"Default\", \"Default\", \"Default\", \"Default\", \"Default\", \"Default\", \"Default\", \"Default\", \"Default\", \"Default\", \"Default\", \"Default\", \"Default\", \"Default\", \"Topic1\", \"Topic1\", \"Topic1\", \"Topic1\", \"Topic1\", \"Topic1\", \"Topic1\", \"Topic1\", \"Topic1\", \"Topic1\", \"Topic1\", \"Topic1\", \"Topic1\", \"Topic1\", \"Topic1\", \"Topic1\", \"Topic1\", \"Topic1\", \"Topic1\", \"Topic1\", \"Topic1\", \"Topic1\", \"Topic1\", \"Topic1\", \"Topic1\", \"Topic1\", \"Topic1\", \"Topic1\", \"Topic1\", \"Topic1\", \"Topic1\", \"Topic1\", \"Topic1\", \"Topic1\", \"Topic1\", \"Topic1\", \"Topic1\", \"Topic1\", \"Topic1\", \"Topic1\", \"Topic1\", \"Topic1\", \"Topic1\", \"Topic1\", \"Topic2\", \"Topic2\", \"Topic2\", \"Topic2\", \"Topic2\", \"Topic2\", \"Topic2\", \"Topic2\", \"Topic2\", \"Topic2\", \"Topic2\", \"Topic2\", \"Topic2\", \"Topic2\", \"Topic2\", \"Topic2\", \"Topic2\", \"Topic2\", \"Topic2\", \"Topic2\", \"Topic2\", \"Topic2\", \"Topic2\", \"Topic2\", \"Topic2\", \"Topic2\", \"Topic2\", \"Topic2\", \"Topic2\", \"Topic2\", \"Topic2\", \"Topic2\", \"Topic2\", \"Topic2\", \"Topic2\", \"Topic2\", \"Topic2\", \"Topic2\", \"Topic2\", \"Topic2\", \"Topic2\", \"Topic2\", \"Topic2\", \"Topic2\", \"Topic2\", \"Topic2\", \"Topic2\", \"Topic2\", \"Topic2\", \"Topic2\", \"Topic2\", \"Topic2\", \"Topic2\", \"Topic2\", \"Topic2\", \"Topic2\", \"Topic2\", \"Topic2\", \"Topic2\", \"Topic2\"], \"logprob\": [30.0, 29.0, 28.0, 27.0, 26.0, 25.0, 24.0, 23.0, 22.0, 21.0, 20.0, 19.0, 18.0, 17.0, 16.0, 15.0, 14.0, 13.0, 12.0, 11.0, 10.0, 9.0, 8.0, 7.0, 6.0, 5.0, 4.0, 3.0, 2.0, 1.0, -3.5253000259399414, -4.734300136566162, -3.849400043487549, -4.061699867248535, -5.357600212097168, -4.891900062561035, -4.487100124359131, -5.186100006103516, -5.594200134277344, -4.149700164794922, -5.373799800872803, -5.597899913787842, -5.197000026702881, -4.21750020980835, -4.688700199127197, -4.919099807739258, -4.290800094604492, -5.39109992980957, -5.210000038146973, -5.393400192260742, -4.6143999099731445, -5.404399871826172, -3.9233999252319336, -5.4079999923706055, -5.07390022277832, -4.627200126647949, -4.386499881744385, -5.64169979095459, -5.6427001953125, -5.423900127410889, -3.66729998588562, -3.6744000911712646, -3.7523000240325928, -4.386099815368652, -4.414299964904785, -4.9816999435424805, -4.80109977722168, -4.892000198364258, -5.11269998550415, -4.836699962615967, -5.1149001121521, -5.117400169372559, -5.071100234985352, -5.0742998123168945, -5.682000160217285, -5.717400074005127, -5.747799873352051, -5.754199981689453, -5.7571001052856445, -5.067500114440918, -5.77209997177124, -5.77239990234375, -5.77269983291626, -5.782899856567383, -5.793600082397461, -5.794400215148926, -5.803500175476074, -5.804599761962891, -5.44320011138916, -5.879300117492676, -5.883200168609619, -5.900400161743164, -5.4959001541137695, -5.507599830627441, -5.923600196838379, -5.529399871826172, -5.9359002113342285, -5.246600151062012, -5.956399917602539, -5.558000087738037, -5.968599796295166, -5.973199844360352, -5.97629976272583, -5.060800075531006, -5.3165998458862305, -5.337399959564209, -5.35230016708374, -5.163599967956543, -3.8817999362945557, -3.841399908065796, -4.395199775695801, -4.022900104522705, -4.476099967956543, -4.755899906158447, -4.94290018081665, -4.950699806213379, -4.3831000328063965, -4.853099822998047, -5.169400215148926, -4.787700176239014, -5.001999855041504, -5.217400074005127, -4.837399959564209, -4.816199779510498, -4.792399883270264, -4.589799880981445, -5.190199851989746, -4.7941999435424805, -5.030700206756592, -5.1975998878479, -4.915599822998047, -5.085599899291992, -5.212100028991699, -5.200300216674805], \"loglift\": [30.0, 29.0, 28.0, 27.0, 26.0, 25.0, 24.0, 23.0, 22.0, 21.0, 20.0, 19.0, 18.0, 17.0, 16.0, 15.0, 14.0, 13.0, 12.0, 11.0, 10.0, 9.0, 8.0, 7.0, 6.0, 5.0, 4.0, 3.0, 2.0, 1.0, 0.057100001722574234, 0.05570000037550926, 0.05310000106692314, 0.04989999905228615, 0.04560000076889992, 0.04430000111460686, 0.04410000145435333, 0.042500000447034836, 0.04170000180602074, 0.04100000113248825, 0.04089999943971634, 0.0406000018119812, 0.03929999843239784, 0.03889999911189079, 0.03849999979138374, 0.036400001496076584, 0.03629999980330467, 0.03579999879002571, 0.03550000116229057, 0.035100001841783524, 0.03229999914765358, 0.03189999982714653, 0.031700000166893005, 0.030799999833106995, 0.03009999915957451, 0.02850000001490116, 0.0284000001847744, 0.02759999968111515, 0.027300000190734863, 0.026000000536441803, 0.025699999183416367, 0.013100000098347664, 0.010300000198185444, 0.007300000172108412, -0.0015999999595806003, 0.01759999990463257, 0.00430000014603138, 0.008899999782443047, 0.018300000578165054, -0.0071000000461936, 0.01769999973475933, 0.016899999231100082, -0.01080000028014183, -0.011800000444054604, 1.0568000078201294, 0.9970999956130981, 0.9470000267028809, 0.9366000294685364, 0.9319000244140625, 0.9261999726295471, 0.9077000021934509, 0.9071999788284302, 0.9067000150680542, 0.8902999758720398, 0.873199999332428, 0.871999979019165, 0.857699990272522, 0.8557999730110168, 0.7871999740600586, 0.7404999732971191, 0.734499990940094, 0.7087000012397766, 0.7071999907493591, 0.6898000240325928, 0.6740999817848206, 0.6575000286102295, 0.6559000015258789, 0.6502000093460083, 0.6258999705314636, 0.6155999898910522, 0.6082000136375427, 0.6014999747276306, 0.5968999862670898, 0.59579998254776, 0.5489000082015991, 0.5195000171661377, 0.4984999895095825, 0.4503999948501587, -0.11919999867677689, -0.15389999747276306, 0.017500000074505806, -0.33000001311302185, -0.08269999921321869, 0.07370000332593918, 0.11969999969005585, 0.1096000000834465, -0.42809998989105225, -0.047600001096725464, 0.19840000569820404, -0.37290000915527344, -0.10119999945163727, 0.13650000095367432, -0.5102999806404114, -0.5598999857902527, -0.6018000245094299, -1.0074000358581543, -0.023499999195337296, -0.8916000127792358, -0.375, -0.032600000500679016, -0.8040000200271606, -0.43880000710487366, -0.21289999783039093, -0.6690000295639038]}, \"token.table\": {\"Topic\": [1, 1, 1, 1, 1, 1, 1, 1, 1, 2, 1, 2, 1, 1, 2, 1, 1, 2, 1, 1, 1, 1, 1, 1, 1, 1, 1, 1, 1, 1, 1, 1, 1, 1, 1, 1, 1, 1, 1, 1, 1, 1, 1, 1, 1, 1, 1, 1, 1, 2, 1, 2, 1, 2, 1, 2, 1, 1, 1, 1, 1, 1, 1, 2, 1, 1, 2, 1, 1, 1, 2, 1, 1, 1, 1, 1, 1, 1, 2, 1, 2, 1, 1, 2, 1, 2, 1, 1, 2, 1, 2, 1, 1, 1, 2, 1, 1, 1, 2, 1, 1, 1], \"Freq\": [0.868655264377594, 0.8106703162193298, 0.8624001741409302, 0.9640412926673889, 0.8930637836456299, 0.8721315860748291, 0.985665500164032, 0.8460556864738464, 0.9572972655296326, 0.04351351410150528, 0.9845165610313416, 0.08204304426908493, 0.875640869140625, 0.8539987802505493, 0.17079976201057434, 0.8036670684814453, 0.9920198321342468, 0.06613465398550034, 0.9110597968101501, 0.9195665121078491, 0.9949754476547241, 0.9134873747825623, 0.9625556468963623, 0.8705415725708008, 0.9291046261787415, 0.8515017032623291, 0.794572651386261, 0.891393780708313, 0.9227737784385681, 0.9165701866149902, 0.9179666638374329, 0.5503467917442322, 0.9162679314613342, 1.0103915929794312, 0.8920866250991821, 0.9736951589584351, 0.9792355895042419, 0.9315400719642639, 0.7781103253364563, 0.9051546454429626, 0.9420795440673828, 0.8466264009475708, 0.862213671207428, 0.9498258233070374, 0.8511161804199219, 0.7530094385147095, 0.9150025248527527, 0.8123195767402649, 0.9643228650093079, 0.08766571432352066, 0.908826470375061, 0.08655489981174469, 0.9172582030296326, 0.07643818110227585, 0.9852307438850403, 0.0895664319396019, 0.7899364233016968, 0.9123381972312927, 0.9035305380821228, 1.0182772874832153, 0.9872847199440002, 1.0276061296463013, 0.9305151104927063, 0.07157808542251587, 0.7824332118034363, 0.9659062027931213, 0.05366145819425583, 0.7753930687904358, 1.0398799180984497, 0.9492077827453613, 0.13560111820697784, 0.7884976863861084, 0.9301638603210449, 0.7765032649040222, 0.757602870464325, 1.064895749092102, 1.0537917613983154, 0.911666214466095, 0.11395827680826187, 0.8936774134635925, 0.08936773985624313, 0.9427658319473267, 0.9330790042877197, 0.09330790489912033, 0.9614198803901672, 0.05655411258339882, 0.9481630921363831, 0.9739425778388977, 0.03895770013332367, 0.9265381693840027, 0.13236258924007416, 0.8569329380989075, 0.7642159461975098, 0.8737052083015442, 0.1456175297498703, 1.0086420774459839, 1.0061979293823242, 0.855837881565094, 0.17116758227348328, 1.0710562467575073, 0.9975069165229797, 0.8625500202178955], \"Term\": [\"0\", \"ablation\", \"airways\", \"also\", \"alternatives\", \"areas\", \"bevacizumab\", \"brachytherapy\", \"cancer\", \"cancer\", \"cancers\", \"cancers\", \"cases\", \"cells\", \"cells\", \"chance\", \"chemo\", \"chemo\", \"chemoradiation\", \"chemotherapy\", \"combination\", \"combined\", \"considered\", \"curable\", \"cure\", \"deeper\", \"determine\", \"done\", \"drug\", \"drugs\", \"enough\", \"entire\", \"even\", \"first\", \"gene\", \"given\", \"health\", \"help\", \"ii\", \"immunotherapy\", \"include\", \"invaded\", \"layer\", \"likely\", \"lining\", \"lobe\", \"locations\", \"lower\", \"lung\", \"lung\", \"may\", \"may\", \"might\", \"might\", \"nsclc\", \"nsclc\", \"offers\", \"often\", \"option\", \"options\", \"overall\", \"pembrolizumab\", \"people\", \"people\", \"piece\", \"radiation\", \"radiation\", \"radiofrequency\", \"remove\", \"removed\", \"removed\", \"removing\", \"resection\", \"return\", \"see\", \"segmentectomy\", \"sleeve\", \"spread\", \"spread\", \"stage\", \"stage\", \"stages\", \"surgery\", \"surgery\", \"therapy\", \"therapy\", \"treated\", \"treatment\", \"treatment\", \"treatments\", \"treatments\", \"truly\", \"try\", \"tumor\", \"tumor\", \"tumors\", \"used\", \"usually\", \"usually\", \"wedge\", \"whose\", \"without\"]}, \"R\": 30, \"lambda.step\": 0.01, \"plot.opts\": {\"xlab\": \"PC1\", \"ylab\": \"PC2\"}, \"topic.order\": [1, 2]};\n",
       "\n",
       "function LDAvis_load_lib(url, callback){\n",
       "  var s = document.createElement('script');\n",
       "  s.src = url;\n",
       "  s.async = true;\n",
       "  s.onreadystatechange = s.onload = callback;\n",
       "  s.onerror = function(){console.warn(\"failed to load library \" + url);};\n",
       "  document.getElementsByTagName(\"head\")[0].appendChild(s);\n",
       "}\n",
       "\n",
       "if(typeof(LDAvis) !== \"undefined\"){\n",
       "   // already loaded: just create the visualization\n",
       "   !function(LDAvis){\n",
       "       new LDAvis(\"#\" + \"ldavis_el277381404422414996886660933379\", ldavis_el277381404422414996886660933379_data);\n",
       "   }(LDAvis);\n",
       "}else if(typeof define === \"function\" && define.amd){\n",
       "   // require.js is available: use it to load d3/LDAvis\n",
       "   require.config({paths: {d3: \"https://cdnjs.cloudflare.com/ajax/libs/d3/3.5.5/d3.min\"}});\n",
       "   require([\"d3\"], function(d3){\n",
       "      window.d3 = d3;\n",
       "      LDAvis_load_lib(\"https://cdn.rawgit.com/bmabey/pyLDAvis/files/ldavis.v1.0.0.js\", function(){\n",
       "        new LDAvis(\"#\" + \"ldavis_el277381404422414996886660933379\", ldavis_el277381404422414996886660933379_data);\n",
       "      });\n",
       "    });\n",
       "}else{\n",
       "    // require.js not available: dynamically load d3 & LDAvis\n",
       "    LDAvis_load_lib(\"https://cdnjs.cloudflare.com/ajax/libs/d3/3.5.5/d3.min.js\", function(){\n",
       "         LDAvis_load_lib(\"https://cdn.rawgit.com/bmabey/pyLDAvis/files/ldavis.v1.0.0.js\", function(){\n",
       "                 new LDAvis(\"#\" + \"ldavis_el277381404422414996886660933379\", ldavis_el277381404422414996886660933379_data);\n",
       "            })\n",
       "         });\n",
       "}\n",
       "</script>"
      ],
      "text/plain": [
       "PreparedData(topic_coordinates=              x    y  topics  cluster       Freq\n",
       "topic                                           \n",
       "0      0.012569  0.0       1        1  91.531418\n",
       "1     -0.012569  0.0       2        1   8.468577, topic_info=        Term       Freq      Total Category  logprob  loglift\n",
       "27       may  23.000000  23.000000  Default  30.0000  30.0000\n",
       "38   surgery  21.000000  21.000000  Default  29.0000  29.0000\n",
       "6     cancer  22.000000  22.000000  Default  28.0000  28.0000\n",
       "37     stage  11.000000  11.000000  Default  27.0000  27.0000\n",
       "26      lung  11.000000  11.000000  Default  26.0000  26.0000\n",
       "..       ...        ...        ...      ...      ...      ...\n",
       "41   treated   0.432234   5.273355   Topic2  -5.1976  -0.0326\n",
       "63     chemo   0.573053  15.120666   Topic2  -4.9156  -0.8040\n",
       "97    option   0.483470   8.854156   Topic2  -5.0856  -0.4388\n",
       "50      also   0.425996   6.223800   Topic2  -5.2121  -0.2129\n",
       "207     used   0.431085   9.938402   Topic2  -5.2003  -0.6690\n",
       "\n",
       "[134 rows x 6 columns], token_table=      Topic      Freq          Term\n",
       "term                               \n",
       "0         1  0.868655             0\n",
       "47        1  0.810670      ablation\n",
       "1         1  0.862400       airways\n",
       "50        1  0.964041          also\n",
       "3         1  0.893064  alternatives\n",
       "...     ...       ...           ...\n",
       "44        1  0.855838       usually\n",
       "44        2  0.171168       usually\n",
       "45        1  1.071056         wedge\n",
       "306       1  0.997507         whose\n",
       "46        1  0.862550       without\n",
       "\n",
       "[102 rows x 3 columns], R=30, lambda_step=0.01, plot_opts={'xlab': 'PC1', 'ylab': 'PC2'}, topic_order=[1, 2])"
      ]
     },
     "execution_count": 124,
     "metadata": {},
     "output_type": "execute_result"
    }
   ],
   "source": [
    "# Visualize the topics\n",
    "pyLDAvis.enable_notebook()\n",
    "vis = pyLDAvis.gensim.prepare(model, corpus, id2word)\n",
    "vis\n",
    "\n",
    "\n"
   ]
  },
  {
   "cell_type": "code",
   "execution_count": null,
   "metadata": {},
   "outputs": [],
   "source": []
  }
 ],
 "metadata": {
  "kernelspec": {
   "display_name": "Python 3",
   "language": "python",
   "name": "python3"
  },
  "language_info": {
   "codemirror_mode": {
    "name": "ipython",
    "version": 3
   },
   "file_extension": ".py",
   "mimetype": "text/x-python",
   "name": "python",
   "nbconvert_exporter": "python",
   "pygments_lexer": "ipython3",
   "version": "3.6.9"
  }
 },
 "nbformat": 4,
 "nbformat_minor": 1
}