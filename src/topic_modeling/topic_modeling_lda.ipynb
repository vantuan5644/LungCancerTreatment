{
 "cells": [
  {
   "cell_type": "code",
   "execution_count": 43,
   "metadata": {
    "pycharm": {
     "name": "#%%\n"
    }
   },
   "outputs": [],
   "source": [
    "import re\n",
    "import numpy as np\n",
    "import pandas as pd\n",
    "from pprint import pprint\n",
    "\n",
    "# Gensim\n",
    "import gensim\n",
    "import gensim.corpora as corpora\n",
    "from gensim.utils import simple_preprocess\n",
    "from gensim.models import CoherenceModel\n",
    "\n",
    "# spacy for lemmatization\n",
    "import spacy\n",
    "\n",
    "# Plotting tools\n",
    "import pyLDAvis\n",
    "import pyLDAvis.gensim  # don't skip this\n",
    "import matplotlib.pyplot as plt\n",
    "%matplotlib inline\n",
    "\n",
    "# Enable logging for gensim - optional\n",
    "import logging\n",
    "logging.basicConfig(format='%(asctime)s : %(levelname)s : %(message)s', level=logging.ERROR)\n",
    "\n",
    "import warnings\n",
    "warnings.filterwarnings(\"ignore\",category=DeprecationWarning)"
   ]
  },
  {
   "cell_type": "code",
   "execution_count": 3,
   "metadata": {
    "pycharm": {
     "name": "#%%\n"
    }
   },
   "outputs": [
    {
     "data": {
      "text/html": [
       "<div>\n",
       "<style scoped>\n",
       "    .dataframe tbody tr th:only-of-type {\n",
       "        vertical-align: middle;\n",
       "    }\n",
       "\n",
       "    .dataframe tbody tr th {\n",
       "        vertical-align: top;\n",
       "    }\n",
       "\n",
       "    .dataframe thead th {\n",
       "        text-align: right;\n",
       "    }\n",
       "</style>\n",
       "<table border=\"1\" class=\"dataframe\">\n",
       "  <thead>\n",
       "    <tr style=\"text-align: right;\">\n",
       "      <th></th>\n",
       "      <th>tag</th>\n",
       "      <th>text</th>\n",
       "      <th>stage_level</th>\n",
       "    </tr>\n",
       "  </thead>\n",
       "  <tbody>\n",
       "    <tr>\n",
       "      <th>0</th>\n",
       "      <td>&lt;p&gt;</td>\n",
       "      <td>Because stage 0 NSCLC is limited to the lining...</td>\n",
       "      <td>0.0</td>\n",
       "    </tr>\n",
       "    <tr>\n",
       "      <th>1</th>\n",
       "      <td>&lt;p&gt;</td>\n",
       "      <td>If you are healthy enough for surgery, you can...</td>\n",
       "      <td>0.0</td>\n",
       "    </tr>\n",
       "    <tr>\n",
       "      <th>2</th>\n",
       "      <td>&lt;p&gt;</td>\n",
       "      <td>For some stage 0 cancers, treatments such as p...</td>\n",
       "      <td>0.0</td>\n",
       "    </tr>\n",
       "    <tr>\n",
       "      <th>3</th>\n",
       "      <td>&lt;p&gt;</td>\n",
       "      <td>If you have stage I NSCLC, surgery may be the ...</td>\n",
       "      <td>1.0</td>\n",
       "    </tr>\n",
       "    <tr>\n",
       "      <th>4</th>\n",
       "      <td>&lt;p&gt;</td>\n",
       "      <td>Segmentectomy or wedge resection is generally ...</td>\n",
       "      <td>1.0</td>\n",
       "    </tr>\n",
       "  </tbody>\n",
       "</table>\n",
       "</div>"
      ],
      "text/plain": [
       "   tag                                               text  stage_level\n",
       "0  <p>  Because stage 0 NSCLC is limited to the lining...          0.0\n",
       "1  <p>  If you are healthy enough for surgery, you can...          0.0\n",
       "2  <p>  For some stage 0 cancers, treatments such as p...          0.0\n",
       "3  <p>  If you have stage I NSCLC, surgery may be the ...          1.0\n",
       "4  <p>  Segmentectomy or wedge resection is generally ...          1.0"
      ]
     },
     "execution_count": 3,
     "metadata": {},
     "output_type": "execute_result"
    }
   ],
   "source": [
    "data = pd.read_csv('../ground_truths/ground_truth.csv')\n",
    "data.head()\n"
   ]
  },
  {
   "cell_type": "code",
   "execution_count": 9,
   "metadata": {
    "pycharm": {
     "name": "#%%\n"
    }
   },
   "outputs": [],
   "source": [
    "doc = ['\\n \\n sss'] + list(data['text'].values)"
   ]
  },
  {
   "cell_type": "code",
   "execution_count": 11,
   "metadata": {
    "pycharm": {
     "name": "#%%\n"
    }
   },
   "outputs": [],
   "source": [
    "# Remove new line characters\n",
    "doc = [re.sub('\\n+', ' ', sent) for sent in doc]"
   ]
  },
  {
   "cell_type": "code",
   "execution_count": 13,
   "metadata": {
    "pycharm": {
     "name": "#%%\n"
    }
   },
   "outputs": [
    {
     "name": "stdout",
     "output_type": "stream",
     "text": [
      "['   sss',\n",
      " 'Because stage 0 NSCLC is limited to the lining layer of airways and has not '\n",
      " 'invaded deeper into the lung tissue or other areas, it is usually curable by '\n",
      " 'surgery alone. No chemotherapy or radiation therapy is needed.']\n"
     ]
    }
   ],
   "source": [
    "pprint(doc[:2])"
   ]
  },
  {
   "cell_type": "code",
   "execution_count": 14,
   "metadata": {
    "pycharm": {
     "name": "#%%\n"
    }
   },
   "outputs": [],
   "source": [
    "# Remove punctuations, tokenizing\n",
    "def sent_to_words(sentences):\n",
    "    for sentence in sentences:\n",
    "        yield gensim.utils.simple_preprocess(str(sentence), deacc=True)"
   ]
  },
  {
   "cell_type": "code",
   "execution_count": 15,
   "metadata": {
    "pycharm": {
     "name": "#%%\n"
    }
   },
   "outputs": [
    {
     "name": "stdout",
     "output_type": "stream",
     "text": [
      "[['sss'],\n",
      " ['because',\n",
      "  'stage',\n",
      "  'nsclc',\n",
      "  'is',\n",
      "  'limited',\n",
      "  'to',\n",
      "  'the',\n",
      "  'lining',\n",
      "  'layer',\n",
      "  'of',\n",
      "  'airways',\n",
      "  'and',\n",
      "  'has',\n",
      "  'not',\n",
      "  'invaded',\n",
      "  'deeper',\n",
      "  'into',\n",
      "  'the',\n",
      "  'lung',\n",
      "  'tissue',\n",
      "  'or',\n",
      "  'other',\n",
      "  'areas',\n",
      "  'it',\n",
      "  'is',\n",
      "  'usually',\n",
      "  'curable',\n",
      "  'by',\n",
      "  'surgery',\n",
      "  'alone',\n",
      "  'no',\n",
      "  'chemotherapy',\n",
      "  'or',\n",
      "  'radiation',\n",
      "  'therapy',\n",
      "  'is',\n",
      "  'needed']]\n"
     ]
    }
   ],
   "source": [
    "data_words = list(sent_to_words(doc))\n",
    "pprint(data_words[:2])\n",
    "\n",
    "\n",
    "\n"
   ]
  },
  {
   "cell_type": "code",
   "execution_count": 17,
   "metadata": {
    "pycharm": {
     "name": "#%%\n"
    }
   },
   "outputs": [
    {
     "name": "stdout",
     "output_type": "stream",
     "text": [
      "['because', 'stage', 'nsclc', 'is', 'limited', 'to', 'the', 'lining', 'layer', 'of', 'airways', 'and', 'has', 'not', 'invaded', 'deeper', 'into', 'the', 'lung', 'tissue', 'or', 'other', 'areas', 'it', 'is', 'usually', 'curable', 'by', 'surgery', 'alone', 'no', 'chemotherapy', 'or', 'radiation', 'therapy', 'is', 'needed']\n"
     ]
    }
   ],
   "source": [
    "# Creating Bigram and Trigram models\n",
    "bigram = gensim.models.Phrases(data_words, min_count=5, threshold=100)\n",
    "# higher threshold fewer phrases.\n",
    "trigram = gensim.models.Phrases(bigram[data_words], threshold=100)\n",
    "\n",
    "# Faster way to get a sentence clubbed as a trigram/bigram\n",
    "bigram_mod = gensim.models.phrases.Phraser(bigram)\n",
    "trigram_mod = gensim.models.phrases.Phraser(trigram)\n",
    "\n",
    "# See trigram example\n",
    "print(trigram_mod[bigram_mod[data_words[1]]])\n"
   ]
  },
  {
   "cell_type": "code",
   "execution_count": 71,
   "metadata": {
    "pycharm": {
     "name": "#%%\n"
    }
   },
   "outputs": [],
   "source": [
    "nlp = spacy.load('en', disable=['parser', 'ner'])\n",
    "from spacy.lang.en.stop_words import STOP_WORDS\n"
   ]
  },
  {
   "cell_type": "code",
   "execution_count": 36,
   "metadata": {
    "pycharm": {
     "name": "#%%\n"
    }
   },
   "outputs": [],
   "source": [
    "# Remove stopwords, make biagrams and lemmatize\n",
    "\n",
    "def remove_stopwords(texts):\n",
    "    return [[word for word in simple_preprocess(str(doc)) if word not in STOP_WORDS] for doc in texts]\n",
    "\n",
    "def make_bigrams(texts):\n",
    "    return [bigram_mod[doc] for doc in texts]\n",
    "\n",
    "def make_trigrams(texts):\n",
    "    return [trigram_mod[bigram_mod[doc]] for doc in texts]\n",
    "\n",
    "def lemmatization(texts, allowed_postags=['NOUN', 'ADJ', 'VERB', 'ADV']):\n",
    "    \"\"\"https://spacy.io/api/annotation\"\"\"\n",
    "    texts_out = []\n",
    "    for sent in texts:\n",
    "        doc = nlp(\" \".join(sent))\n",
    "        texts_out.append([token.lemma_ for token in doc if token.pos_ in allowed_postags])\n",
    "    return texts_out"
   ]
  },
  {
   "cell_type": "code",
   "execution_count": 39,
   "metadata": {
    "pycharm": {
     "name": "#%%\n"
    }
   },
   "outputs": [
    {
     "name": "stdout",
     "output_type": "stream",
     "text": [
      "[[], ['limit', 'line', 'layer', 'airway', 'invade', 'deep', 'lung', 'tissue', 'area', 'usually', 'curable', 'surgery', 'chemotherapy', 'radiation', 'therapy', 'need'], ['healthy', 'surgery', 'usually', 'treat', 'cancer', 'location', 'windpipe', 'divide', 'leave', 'right', 'main', 'bronchi', 'treat', 'resection', 'case', 'hard', 'remove', 'completely', 'remove', 'lobectomy', 'entire', 'lung', 'pneumonectomy']]\n"
     ]
    }
   ],
   "source": [
    "data_words_nostops = remove_stopwords(data_words)\n",
    "\n",
    "# Form Bigrams\n",
    "data_words_bigrams = make_bigrams(data_words_nostops)\n",
    "\n",
    "# Do lemmatization keeping only noun, adj, vb, adv\n",
    "data_lemmatized = lemmatization(data_words_bigrams, allowed_postags=['NOUN', 'ADJ', 'VERB', 'ADV'])\n",
    "\n",
    "print(data_lemmatized[:3])"
   ]
  },
  {
   "cell_type": "code",
   "execution_count": 41,
   "metadata": {
    "pycharm": {
     "name": "#%%\n"
    }
   },
   "outputs": [
    {
     "name": "stdout",
     "output_type": "stream",
     "text": [
      "[[], [(0, 1), (1, 1), (2, 1), (3, 1), (4, 1), (5, 1), (6, 1), (7, 1), (8, 1), (9, 1), (10, 1), (11, 1), (12, 1), (13, 1), (14, 1), (15, 1)]]\n"
     ]
    }
   ],
   "source": [
    "# Create the Dictionary and Corpus\n",
    "# Create Dictionary\n",
    "id2word = corpora.Dictionary(data_lemmatized)\n",
    "\n",
    "# Create Corpus\n",
    "texts = data_lemmatized\n",
    "\n",
    "# Term Document Frequency\n",
    "corpus = [id2word.doc2bow(text) for text in texts]\n",
    "\n",
    "# View\n",
    "print(corpus[:2])"
   ]
  },
  {
   "cell_type": "code",
   "execution_count": 42,
   "metadata": {
    "pycharm": {
     "name": "#%%\n"
    }
   },
   "outputs": [
    {
     "data": {
      "text/plain": [
       "[[],\n",
       " [('airway', 1),\n",
       "  ('area', 1),\n",
       "  ('chemotherapy', 1),\n",
       "  ('curable', 1),\n",
       "  ('deep', 1),\n",
       "  ('invade', 1),\n",
       "  ('layer', 1),\n",
       "  ('limit', 1),\n",
       "  ('line', 1),\n",
       "  ('lung', 1),\n",
       "  ('need', 1),\n",
       "  ('radiation', 1),\n",
       "  ('surgery', 1),\n",
       "  ('therapy', 1),\n",
       "  ('tissue', 1),\n",
       "  ('usually', 1)]]"
      ]
     },
     "execution_count": 42,
     "metadata": {},
     "output_type": "execute_result"
    }
   ],
   "source": [
    "# Corpus format: (word_id: freq)\n",
    "[[(id2word[id], freq) for id, freq in cp] for cp in corpus[:2]]\n",
    "\n",
    "\n"
   ]
  },
  {
   "cell_type": "code",
   "execution_count": 44,
   "metadata": {
    "pycharm": {
     "name": "#%%\n"
    }
   },
   "outputs": [],
   "source": [
    "# Choose the optimal number of topics\n",
    "# By choosing a 'k' that gives the highest coherence value\n",
    "\n",
    "def compute_coherence_values(dictionary, corpus, texts, limit, start=2, step=1):\n",
    "    \"\"\"\n",
    "    Compute c_v coherence for various number of topics\n",
    "\n",
    "    Parameters:\n",
    "    ----------\n",
    "    dictionary : Gensim dictionary\n",
    "    corpus : Gensim corpus\n",
    "    texts : List of input texts\n",
    "    limit : Max num of topics\n",
    "\n",
    "    Returns:\n",
    "    -------\n",
    "    model_list : List of LDA topic models\n",
    "    coherence_values : Coherence values corresponding to the LDA model with respective number of topics\n",
    "    \"\"\"\n",
    "    coherence_values = []\n",
    "    model_list = []\n",
    "    for num_topics in range(start, limit, step):\n",
    "        model = gensim.models.ldamodel.LdaModel(corpus=corpus, num_topics=num_topics, id2word=id2word)\n",
    "        model_list.append(model)\n",
    "        coherencemodel = CoherenceModel(model=model, texts=texts, dictionary=dictionary, coherence='c_v')\n",
    "        coherence_values.append(coherencemodel.get_coherence())\n",
    "\n",
    "    return model_list, coherence_values\n"
   ]
  },
  {
   "cell_type": "code",
   "execution_count": 46,
   "metadata": {
    "pycharm": {
     "name": "#%%\n"
    }
   },
   "outputs": [
    {
     "data": {
      "image/png": "[encoded data removed]",
      "text/plain": [
       "<Figure size 432x288 with 1 Axes>"
      ]
     },
     "metadata": {
      "needs_background": "light"
     },
     "output_type": "display_data"
    }
   ],
   "source": [
    "limit=10; start=2; step=1\n",
    "model_list, coherence_values = compute_coherence_values(dictionary=id2word, corpus=corpus, texts=data_lemmatized, start=start, limit=limit, step=step)\n",
    "# Show graph\n",
    "x = range(start, limit, step)\n",
    "plt.plot(x, coherence_values)\n",
    "plt.xlabel(\"Num Topics\")\n",
    "plt.ylabel(\"Coherence score\")\n",
    "plt.legend((\"coherence_values\"), loc='best')\n",
    "plt.show()\n"
   ]
  },
  {
   "cell_type": "code",
   "execution_count": 54,
   "metadata": {
    "pycharm": {
     "name": "#%%\n"
    }
   },
   "outputs": [],
   "source": [
    "# Select the model with num_topics=6\n",
    "def select_model(model_list, num_topics_desired: int, start, step):\n",
    "    model_idx = (num_topics_desired - start) / step\n",
    "    return model_list[int(model_idx)]\n",
    "\n",
    "model = select_model(model_list,\n",
    "                     num_topics_desired=6,\n",
    "                     start=start,\n",
    "                     step=step)"
   ]
  },
  {
   "cell_type": "code",
   "execution_count": 55,
   "metadata": {
    "pycharm": {
     "name": "#%%\n"
    }
   },
   "outputs": [
    {
     "name": "stdout",
     "output_type": "stream",
     "text": [
      "[(0,\n",
      "  '0.055*\"cancer\" + 0.050*\"treatment\" + 0.038*\"surgery\" + 0.030*\"radiation\" + '\n",
      "  '0.029*\"lung\" + 0.026*\"people\" + 0.025*\"option\" + 0.021*\"stage\" + '\n",
      "  '0.021*\"remove\" + 0.017*\"treat\"'),\n",
      " (1,\n",
      "  '0.045*\"treatment\" + 0.034*\"cancer\" + 0.025*\"help\" + 0.019*\"remove\" + '\n",
      "  '0.018*\"node\" + 0.017*\"therapy\" + 0.016*\"cell\" + 0.014*\"pembrolizumab\" + '\n",
      "  '0.014*\"tumor\" + 0.014*\"likely\"'),\n",
      " (2,\n",
      "  '0.069*\"cancer\" + 0.036*\"surgery\" + 0.035*\"people\" + 0.032*\"cell\" + '\n",
      "  '0.030*\"drug\" + 0.022*\"gene\" + 0.020*\"change\" + 0.019*\"treatment\" + '\n",
      "  '0.019*\"option\" + 0.018*\"remove\"'),\n",
      " (3,\n",
      "  '0.056*\"treatment\" + 0.041*\"radiation\" + 0.039*\"therapy\" + 0.038*\"cancer\" + '\n",
      "  '0.034*\"surgery\" + 0.018*\"tumor\" + 0.017*\"lung\" + 0.016*\"option\" + '\n",
      "  '0.015*\"stage\" + 0.015*\"treat\"'),\n",
      " (4,\n",
      "  '0.034*\"patient\" + 0.019*\"spread\" + 0.019*\"widely\" + 0.018*\"well\" + '\n",
      "  '0.018*\"lobectomy\" + 0.018*\"health\" + 0.018*\"offer\" + 0.018*\"tolerate\" + '\n",
      "  '0.018*\"option\" + 0.018*\"generally\"'),\n",
      " (5,\n",
      "  '0.062*\"treatment\" + 0.028*\"stage\" + 0.027*\"surgery\" + 0.023*\"radiation\" + '\n",
      "  '0.023*\"medical\" + 0.023*\"node\" + 0.018*\"nsclc\" + 0.017*\"cancer\" + '\n",
      "  '0.017*\"lymph\" + 0.016*\"plan\"')]\n"
     ]
    }
   ],
   "source": [
    "# Show the topics\n",
    "model_topics = model.show_topics(formatted=False)\n",
    "pprint(model.print_topics(num_words=10))"
   ]
  },
  {
   "cell_type": "code",
   "execution_count": 56,
   "metadata": {
    "pycharm": {
     "name": "#%%\n"
    }
   },
   "outputs": [],
   "source": [
    "# Find the dominant topic in each paragraph\n",
    "\n",
    "def format_topics_sentences(lda_model, corpus, texts):\n",
    "    sent_topics_df = pd.DataFrame()\n",
    "    for i, row in enumerate(lda_model[corpus]):\n",
    "        row = sorted(row, key=lambda x: (x[1]), reverse=True)\n",
    "        # Sort by word frequency\n",
    "        for j, (topic_num, prop_topic) in enumerate(row):\n",
    "            if j == 0:  # => dominant topic\n",
    "                wp = lda_model.show_topic(topic_num)\n",
    "                topic_keywords = \", \".join([word for word, prop in wp])\n",
    "                sent_topics_df = sent_topics_df.append(pd.Series([int(topic_num), round(prop_topic,4), topic_keywords]), ignore_index=True)\n",
    "            else:\n",
    "                break\n",
    "    sent_topics_df.columns = ['Dominant_Topic', 'Perc_Contribution', 'Topic_Keywords']\n",
    "    # Add original text to the end of the output\n",
    "    contents = pd.Series(texts)\n",
    "    sent_topics_df = pd.concat([sent_topics_df, contents], axis=1)\n",
    "    return sent_topics_df"
   ]
  },
  {
   "cell_type": "code",
   "execution_count": 70,
   "metadata": {
    "pycharm": {
     "name": "#%%\n"
    }
   },
   "outputs": [
    {
     "data": {
      "text/html": [
       "<div>\n",
       "<style scoped>\n",
       "    .dataframe tbody tr th:only-of-type {\n",
       "        vertical-align: middle;\n",
       "    }\n",
       "\n",
       "    .dataframe tbody tr th {\n",
       "        vertical-align: top;\n",
       "    }\n",
       "\n",
       "    .dataframe thead th {\n",
       "        text-align: right;\n",
       "    }\n",
       "</style>\n",
       "<table border=\"1\" class=\"dataframe\">\n",
       "  <thead>\n",
       "    <tr style=\"text-align: right;\">\n",
       "      <th></th>\n",
       "      <th>Document_No</th>\n",
       "      <th>Dominant_Topic</th>\n",
       "      <th>Topic_Perc_Contrib</th>\n",
       "      <th>Keywords</th>\n",
       "      <th>Text</th>\n",
       "    </tr>\n",
       "  </thead>\n",
       "  <tbody>\n",
       "    <tr>\n",
       "      <th>0</th>\n",
       "      <td>0</td>\n",
       "      <td>0.0</td>\n",
       "      <td>0.1667</td>\n",
       "      <td>cancer, treatment, surgery, radiation, lung, p...</td>\n",
       "      <td>sss</td>\n",
       "    </tr>\n",
       "    <tr>\n",
       "      <th>1</th>\n",
       "      <td>1</td>\n",
       "      <td>3.0</td>\n",
       "      <td>0.9509</td>\n",
       "      <td>treatment, radiation, therapy, cancer, surgery...</td>\n",
       "      <td>Because stage 0 NSCLC is limited to the lining...</td>\n",
       "    </tr>\n",
       "    <tr>\n",
       "      <th>2</th>\n",
       "      <td>2</td>\n",
       "      <td>0.0</td>\n",
       "      <td>0.9650</td>\n",
       "      <td>cancer, treatment, surgery, radiation, lung, p...</td>\n",
       "      <td>If you are healthy enough for surgery, you can...</td>\n",
       "    </tr>\n",
       "    <tr>\n",
       "      <th>3</th>\n",
       "      <td>3</td>\n",
       "      <td>3.0</td>\n",
       "      <td>0.9301</td>\n",
       "      <td>treatment, radiation, therapy, cancer, surgery...</td>\n",
       "      <td>For some stage 0 cancers, treatments such as p...</td>\n",
       "    </tr>\n",
       "    <tr>\n",
       "      <th>4</th>\n",
       "      <td>4</td>\n",
       "      <td>2.0</td>\n",
       "      <td>0.9505</td>\n",
       "      <td>cancer, surgery, people, cell, drug, gene, cha...</td>\n",
       "      <td>If you have stage I NSCLC, surgery may be the ...</td>\n",
       "    </tr>\n",
       "  </tbody>\n",
       "</table>\n",
       "</div>"
      ],
      "text/plain": [
       "   Document_No  Dominant_Topic  Topic_Perc_Contrib  \\\n",
       "0            0             0.0              0.1667   \n",
       "1            1             3.0              0.9509   \n",
       "2            2             0.0              0.9650   \n",
       "3            3             3.0              0.9301   \n",
       "4            4             2.0              0.9505   \n",
       "\n",
       "                                            Keywords  \\\n",
       "0  cancer, treatment, surgery, radiation, lung, p...   \n",
       "1  treatment, radiation, therapy, cancer, surgery...   \n",
       "2  cancer, treatment, surgery, radiation, lung, p...   \n",
       "3  treatment, radiation, therapy, cancer, surgery...   \n",
       "4  cancer, surgery, people, cell, drug, gene, cha...   \n",
       "\n",
       "                                                Text  \n",
       "0                                                sss  \n",
       "1  Because stage 0 NSCLC is limited to the lining...  \n",
       "2  If you are healthy enough for surgery, you can...  \n",
       "3  For some stage 0 cancers, treatments such as p...  \n",
       "4  If you have stage I NSCLC, surgery may be the ...  "
      ]
     },
     "execution_count": 70,
     "metadata": {},
     "output_type": "execute_result"
    }
   ],
   "source": [
    "df_topic_sents_keywords = format_topics_sentences(lda_model=model, corpus=corpus, texts=doc)\n",
    "\n",
    "# Format\n",
    "df_dominant_topic = df_topic_sents_keywords.reset_index()\n",
    "df_dominant_topic.columns = ['Document_No', 'Dominant_Topic', 'Topic_Perc_Contrib', 'Keywords', 'Text']\n",
    "\n",
    "# Show\n",
    "df_dominant_topic.head()"
   ]
  },
  {
   "cell_type": "code",
   "execution_count": 64,
   "metadata": {
    "pycharm": {
     "name": "#%%\n"
    }
   },
   "outputs": [
    {
     "data": {
      "text/html": [
       "<div>\n",
       "<style scoped>\n",
       "    .dataframe tbody tr th:only-of-type {\n",
       "        vertical-align: middle;\n",
       "    }\n",
       "\n",
       "    .dataframe tbody tr th {\n",
       "        vertical-align: top;\n",
       "    }\n",
       "\n",
       "    .dataframe thead th {\n",
       "        text-align: right;\n",
       "    }\n",
       "</style>\n",
       "<table border=\"1\" class=\"dataframe\">\n",
       "  <thead>\n",
       "    <tr style=\"text-align: right;\">\n",
       "      <th></th>\n",
       "      <th>Document_No</th>\n",
       "      <th>Dominant_Topic</th>\n",
       "      <th>Topic_Perc_Contrib</th>\n",
       "      <th>Keywords</th>\n",
       "      <th>Text</th>\n",
       "    </tr>\n",
       "  </thead>\n",
       "  <tbody>\n",
       "    <tr>\n",
       "      <th>0</th>\n",
       "      <td>32</td>\n",
       "      <td>0.0</td>\n",
       "      <td>0.9747</td>\n",
       "      <td>cancer, treatment, surgery, radiation, lung, p...</td>\n",
       "      <td>If the cancer has caused fluid buildup in the ...</td>\n",
       "    </tr>\n",
       "    <tr>\n",
       "      <th>1</th>\n",
       "      <td>33</td>\n",
       "      <td>0.0</td>\n",
       "      <td>0.9711</td>\n",
       "      <td>cancer, treatment, surgery, radiation, lung, p...</td>\n",
       "      <td>As with other stages, treatment for stage IV l...</td>\n",
       "    </tr>\n",
       "    <tr>\n",
       "      <th>2</th>\n",
       "      <td>10</td>\n",
       "      <td>1.0</td>\n",
       "      <td>0.9581</td>\n",
       "      <td>treatment, cancer, help, remove, node, therapy...</td>\n",
       "      <td>Any lymph nodes likely to have cancer in them ...</td>\n",
       "    </tr>\n",
       "    <tr>\n",
       "      <th>3</th>\n",
       "      <td>29</td>\n",
       "      <td>1.0</td>\n",
       "      <td>0.9557</td>\n",
       "      <td>treatment, cancer, help, remove, node, therapy...</td>\n",
       "      <td>Your tumor cells might also be tested for the ...</td>\n",
       "    </tr>\n",
       "    <tr>\n",
       "      <th>4</th>\n",
       "      <td>28</td>\n",
       "      <td>2.0</td>\n",
       "      <td>0.9814</td>\n",
       "      <td>cancer, surgery, people, cell, drug, gene, cha...</td>\n",
       "      <td>For tumors that have the ALK gene change, an A...</td>\n",
       "    </tr>\n",
       "  </tbody>\n",
       "</table>\n",
       "</div>"
      ],
      "text/plain": [
       "   Document_No  Dominant_Topic  Topic_Perc_Contrib  \\\n",
       "0           32             0.0              0.9747   \n",
       "1           33             0.0              0.9711   \n",
       "2           10             1.0              0.9581   \n",
       "3           29             1.0              0.9557   \n",
       "4           28             2.0              0.9814   \n",
       "\n",
       "                                            Keywords  \\\n",
       "0  cancer, treatment, surgery, radiation, lung, p...   \n",
       "1  cancer, treatment, surgery, radiation, lung, p...   \n",
       "2  treatment, cancer, help, remove, node, therapy...   \n",
       "3  treatment, cancer, help, remove, node, therapy...   \n",
       "4  cancer, surgery, people, cell, drug, gene, cha...   \n",
       "\n",
       "                                                Text  \n",
       "0  If the cancer has caused fluid buildup in the ...  \n",
       "1  As with other stages, treatment for stage IV l...  \n",
       "2  Any lymph nodes likely to have cancer in them ...  \n",
       "3  Your tumor cells might also be tested for the ...  \n",
       "4  For tumors that have the ALK gene change, an A...  "
      ]
     },
     "execution_count": 64,
     "metadata": {},
     "output_type": "execute_result"
    }
   ],
   "source": [
    "# Find the most representative document for each topic\n",
    "\n",
    "def top_k_docs_for_each_topic(k):\n",
    "    topic_representatives = pd.DataFrame()\n",
    "    for i, group in df_dominant_topic.groupby('Dominant_Topic'):\n",
    "        topic_representatives = pd.concat([topic_representatives,\n",
    "                                                 group.sort_values(['Topic_Perc_Contrib'], ascending=[0]).head(k)],\n",
    "                                                axis=0)\n",
    "    topic_representatives.reset_index(drop=True, inplace=True)\n",
    "\n",
    "    # Format\n",
    "    # topic_representatives.columns = ['Topic_Num', \"Topic_Perc_Contrib\", \"Keywords\", \"Text\"]\n",
    "\n",
    "    return topic_representatives\n",
    "\n",
    "\n",
    "# Show\n",
    "top_k_docs_for_each_topic(2).head()"
   ]
  },
  {
   "cell_type": "code",
   "execution_count": 69,
   "metadata": {
    "pycharm": {
     "name": "#%%\n"
    }
   },
   "outputs": [
    {
     "data": {
      "text/plain": [
       "0.0    13\n",
       "2.0     8\n",
       "3.0     8\n",
       "1.0     3\n",
       "5.0     2\n",
       "4.0     2\n",
       "Name: Dominant_Topic, dtype: int64"
      ]
     },
     "execution_count": 69,
     "metadata": {},
     "output_type": "execute_result"
    }
   ],
   "source": [
    "topic_counts"
   ]
  },
  {
   "cell_type": "code",
   "execution_count": 77,
   "metadata": {
    "pycharm": {
     "name": "#%%\n"
    }
   },
   "outputs": [
    {
     "data": {
      "text/html": [
       "<div>\n",
       "<style scoped>\n",
       "    .dataframe tbody tr th:only-of-type {\n",
       "        vertical-align: middle;\n",
       "    }\n",
       "\n",
       "    .dataframe tbody tr th {\n",
       "        vertical-align: top;\n",
       "    }\n",
       "\n",
       "    .dataframe thead th {\n",
       "        text-align: right;\n",
       "    }\n",
       "</style>\n",
       "<table border=\"1\" class=\"dataframe\">\n",
       "  <thead>\n",
       "    <tr style=\"text-align: right;\">\n",
       "      <th></th>\n",
       "      <th>Dominant_Topic</th>\n",
       "      <th>Topic_Keywords</th>\n",
       "      <th>Num_Documents</th>\n",
       "      <th>Perc_Documents</th>\n",
       "    </tr>\n",
       "  </thead>\n",
       "  <tbody>\n",
       "    <tr>\n",
       "      <th>0.0</th>\n",
       "      <td>0.0</td>\n",
       "      <td>cancer, treatment, surgery, radiation, lung, p...</td>\n",
       "      <td>13</td>\n",
       "      <td>0.3611</td>\n",
       "    </tr>\n",
       "    <tr>\n",
       "      <th>1.0</th>\n",
       "      <td>1.0</td>\n",
       "      <td>treatment, cancer, help, remove, node, therapy...</td>\n",
       "      <td>3</td>\n",
       "      <td>0.0833</td>\n",
       "    </tr>\n",
       "    <tr>\n",
       "      <th>2.0</th>\n",
       "      <td>2.0</td>\n",
       "      <td>cancer, surgery, people, cell, drug, gene, cha...</td>\n",
       "      <td>8</td>\n",
       "      <td>0.2222</td>\n",
       "    </tr>\n",
       "    <tr>\n",
       "      <th>3.0</th>\n",
       "      <td>3.0</td>\n",
       "      <td>treatment, radiation, therapy, cancer, surgery...</td>\n",
       "      <td>8</td>\n",
       "      <td>0.2222</td>\n",
       "    </tr>\n",
       "    <tr>\n",
       "      <th>4.0</th>\n",
       "      <td>4.0</td>\n",
       "      <td>patient, spread, widely, well, lobectomy, heal...</td>\n",
       "      <td>2</td>\n",
       "      <td>0.0556</td>\n",
       "    </tr>\n",
       "    <tr>\n",
       "      <th>5.0</th>\n",
       "      <td>5.0</td>\n",
       "      <td>treatment, stage, surgery, radiation, medical,...</td>\n",
       "      <td>2</td>\n",
       "      <td>0.0556</td>\n",
       "    </tr>\n",
       "  </tbody>\n",
       "</table>\n",
       "</div>"
      ],
      "text/plain": [
       "     Dominant_Topic                                     Topic_Keywords  \\\n",
       "0.0             0.0  cancer, treatment, surgery, radiation, lung, p...   \n",
       "1.0             1.0  treatment, cancer, help, remove, node, therapy...   \n",
       "2.0             2.0  cancer, surgery, people, cell, drug, gene, cha...   \n",
       "3.0             3.0  treatment, radiation, therapy, cancer, surgery...   \n",
       "4.0             4.0  patient, spread, widely, well, lobectomy, heal...   \n",
       "5.0             5.0  treatment, stage, surgery, radiation, medical,...   \n",
       "\n",
       "     Num_Documents  Perc_Documents  \n",
       "0.0             13          0.3611  \n",
       "1.0              3          0.0833  \n",
       "2.0              8          0.2222  \n",
       "3.0              8          0.2222  \n",
       "4.0              2          0.0556  \n",
       "5.0              2          0.0556  "
      ]
     },
     "execution_count": 77,
     "metadata": {},
     "output_type": "execute_result"
    }
   ],
   "source": [
    "# Topic volume distribution\n",
    "# Number of Documents for Each Topic\n",
    "topic_counts = df_topic_sents_keywords['Dominant_Topic'].value_counts()\n",
    "\n",
    "# Percentage of Documents for Each Topic\n",
    "topic_contribution = round(topic_counts/topic_counts.sum(), 4)\n",
    "\n",
    "# Topic Number and Keywords\n",
    "topic_num_keywords = top_k_docs_for_each_topic(1)[['Dominant_Topic', 'Keywords']]\n",
    "\n",
    "# Concatenate Column wise\n",
    "df_dominant_topics = pd.concat([topic_num_keywords, topic_counts, topic_contribution], axis=1)\n",
    "\n",
    "# Change Column names\n",
    "df_dominant_topics.columns = ['Dominant_Topic', 'Topic_Keywords', 'Num_Documents', 'Perc_Documents']\n",
    "\n",
    "# Show\n",
    "df_dominant_topics\n"
   ]
  },
  {
   "cell_type": "code",
   "execution_count": 78,
   "metadata": {},
   "outputs": [
    {
     "data": {
      "text/html": [
       "\n",
       "<link rel=\"stylesheet\" type=\"text/css\" href=\"https://cdn.rawgit.com/bmabey/pyLDAvis/files/ldavis.v1.0.0.css\">\n",
       "\n",
       "\n",
       "<div id=\"ldavis_el94751405808865514323548712532\"></div>\n",
       "<script type=\"text/javascript\">\n",
       "\n",
       "var ldavis_el94751405808865514323548712532_data = {\"mdsDat\": {\"x\": [0.012147961332226908, 0.010798058630013683, 0.006212591998535837, 0.14404951826865534, -0.12281878712957284, -0.05038934309985896], \"y\": [-0.0055453085356899036, -0.07612601194054637, -0.10370688156928719, 0.07917071482132898, 0.062393298768513725, 0.043814188455680844], \"topics\": [1, 2, 3, 4, 5, 6], \"cluster\": [1, 1, 1, 1, 1, 1], \"Freq\": [27.262834548950195, 23.84441566467285, 17.47371482849121, 16.166749954223633, 9.302531242370605, 5.949748992919922]}, \"tinfo\": {\"Term\": [\"cancer\", \"surgery\", \"option\", \"remove\", \"pembrolizumab\", \"health\", \"people\", \"find\", \"spread\", \"stage\", \"patient\", \"fluid\", \"treatment\", \"consider\", \"therapy\", \"squamous\", \"site\", \"cure\", \"follow\", \"cell\", \"drug\", \"radiation\", \"small\", \"nsclc\", \"change\", \"immunotherapy\", \"drain\", \"problem\", \"brain\", \"hard\", \"change\", \"alk\", \"important\", \"completely\", \"inhibitor\", \"egfr\", \"factor\", \"gene\", \"certain\", \"step\", \"involvement\", \"extent\", \"alternative\", \"truly\", \"stay\", \"neck\", \"year\", \"durvalumab\", \"windpipe\", \"divide\", \"stable\", \"grow\", \"right\", \"mekinist\", \"bronchi\", \"structure\", \"iiib\", \"location\", \"fairly\", \"control\", \"people\", \"hard\", \"help\", \"node\", \"cancer\", \"risk\", \"drug\", \"stage\", \"remove\", \"treatment\", \"lung\", \"health\", \"depend\", \"overall\", \"cure\", \"surgery\", \"treat\", \"chemo\", \"likely\", \"radiation\", \"test\", \"cell\", \"start\", \"symptom\", \"body\", \"medical\", \"have\", \"laser\", \"relieve\", \"sure\", \"therapy\", \"understand\", \"checked\", \"piece\", \"goal\", \"go\", \"mutation\", \"mutate\", \"relieving\", \"better\", \"longer\", \"feel\", \"reason\", \"curable\", \"line\", \"limit\", \"aren\", \"invade\", \"deep\", \"layer\", \"airway\", \"prevent\", \"problem\", \"nsclc\", \"case\", \"treatment\", \"doctor\", \"radiation\", \"combine\", \"tumor\", \"need\", \"health\", \"small\", \"lung\", \"tolerate\", \"chemotherapy\", \"take\", \"surgery\", \"main\", \"size\", \"likely\", \"help\", \"target\", \"stage\", \"usually\", \"cancer\", \"option\", \"node\", \"gene\", \"spread\", \"follow\", \"brain\", \"check\", \"second\", \"mean\", \"speciman\", \"call\", \"remain\", \"single\", \"potentially\", \"limited\", \"ensure\", \"use\", \"followed\", \"try\", \"healthy\", \"edge\", \"surgery\", \"remove\", \"leave\", \"tissue\", \"positive\", \"margin\", \"long\", \"stereotactic\", \"common\", \"area\", \"person\", \"pneumonectomy\", \"example\", \"treat\", \"spread\", \"cancer\", \"radiation\", \"usually\", \"chemo\", \"lung\", \"therapy\", \"option\", \"treatment\", \"cell\", \"tumor\", \"stage\", \"people\", \"drug\", \"pembrolizumab\", \"consider\", \"squamous\", \"immunotherapy\", \"tolerable\", \"blood\", \"trial\", \"clinical\", \"chemoradiation\", \"give\", \"protein\", \"respond\", \"keytruda\", \"level\", \"unlikely\", \"bleed\", \"center\", \"necitumumab\", \"finish\", \"cough\", \"bevacizumab\", \"large\", \"continue\", \"vessel\", \"high\", \"option\", \"new\", \"take\", \"cell\", \"long\", \"drug\", \"treatment\", \"people\", \"patient\", \"target\", \"good\", \"tumor\", \"radiation\", \"chemo\", \"nsclc\", \"treat\", \"cancer\", \"surgery\", \"healthy\", \"therapy\", \"fluid\", \"drain\", \"find\", \"detail\", \"discuss\", \"effusion\", \"palliative\", \"let\", \"skin\", \"pleural\", \"keep\", \"non\", \"coming\", \"procedure\", \"malignant\", \"catheter\", \"buildup\", \"pleurodesis\", \"information\", \"destroy\", \"recommend\", \"adjuvant\", \"benefit\", \"positive\", \"margin\", \"live\", \"space\", \"advanced\", \"widely\", \"cause\", \"cancer\", \"cell\", \"lung\", \"stage\", \"new\", \"option\", \"small\", \"spread\", \"include\", \"placement\", \"chest\", \"diagnose\", \"number\", \"widespread\", \"distant\", \"dangerous\", \"generally\", \"chance\", \"lobe\", \"well\", \"offer\", \"believe\", \"site\", \"surgeon\", \"entire\", \"lobectomy\", \"problem\", \"hard\", \"patient\", \"cure\", \"small\", \"health\", \"tolerate\", \"overall\", \"depend\", \"spread\", \"good\", \"option\", \"nsclc\", \"stage\", \"information\", \"tumor\", \"cancer\", \"remove\", \"treatment\"], \"Freq\": [33.0, 21.0, 12.0, 11.0, 4.0, 6.0, 13.0, 3.0, 7.0, 12.0, 5.0, 2.0, 30.0, 3.0, 11.0, 3.0, 2.0, 5.0, 3.0, 9.0, 11.0, 15.0, 3.0, 6.0, 4.0, 2.0, 1.0, 2.0, 3.0, 2.0, 4.325541019439697, 2.650730609893799, 1.8178915977478027, 1.8164087533950806, 1.8147116899490356, 1.813959002494812, 1.8149151802062988, 5.111964225769043, 2.6471712589263916, 0.9798800945281982, 0.9798790812492371, 0.9798791408538818, 0.9798769950866699, 0.9798761606216431, 0.9785593152046204, 0.9784896969795227, 0.9784806966781616, 0.9784480929374695, 0.9780580401420593, 0.9779576659202576, 0.9783161282539368, 0.9783011078834534, 0.9776440262794495, 0.9778016805648804, 0.9776281714439392, 0.978099524974823, 0.9780015349388123, 0.9774101376533508, 0.977932870388031, 0.9779248237609863, 7.817481517791748, 1.7725597620010376, 3.9298157691955566, 2.660130500793457, 13.775124549865723, 1.7909104824066162, 5.110402584075928, 5.611109733581543, 4.3373613357543945, 8.514497756958008, 3.7889251708984375, 2.3637073040008545, 1.6422595977783203, 1.6275386810302734, 1.8214279413223267, 3.263324022293091, 1.9291032552719116, 1.799105167388916, 1.6266282796859741, 2.166297435760498, 1.393548607826233, 1.7245248556137085, 2.5334270000457764, 2.5237977504730225, 1.7376714944839478, 1.7379732131958008, 1.7375253438949585, 1.7153897285461426, 1.7132067680358887, 1.567413091659546, 7.6960320472717285, 0.9367653727531433, 0.9367647171020508, 0.9367647171020508, 0.9367639422416687, 0.936761736869812, 0.9364169239997864, 0.9364061951637268, 0.9359374046325684, 0.935829222202301, 0.9358080625534058, 0.9356229901313782, 0.9357947111129761, 0.935554563999176, 0.9355458617210388, 0.9354974627494812, 0.9354753494262695, 0.9354332089424133, 0.935158908367157, 0.9350072741508484, 0.9347730278968811, 0.9346758723258972, 1.7377889156341553, 3.3103339672088623, 1.7300766706466675, 11.610699653625488, 1.623300313949585, 6.135545253753662, 1.6680421829223633, 3.8572041988372803, 1.8552156686782837, 2.8250997066497803, 1.7372874021530151, 3.8674025535583496, 1.7286711931228638, 1.5235345363616943, 1.7397668361663818, 5.480607032775879, 1.737700343132019, 1.238472819328308, 2.070409059524536, 2.3763210773468018, 1.7387409210205078, 3.017695665359497, 1.9708939790725708, 3.036491632461548, 2.2315380573272705, 1.739363193511963, 1.794276237487793, 1.7390515804290771, 3.1139369010925293, 2.4369874000549316, 1.6656012535095215, 1.6640000343322754, 1.663522481918335, 1.6634893417358398, 1.4327654838562012, 1.405523419380188, 0.8978808522224426, 0.8975434899330139, 0.8972761034965515, 0.8968426585197449, 0.8965235352516174, 0.8963849544525146, 1.6643929481506348, 2.9612934589385986, 1.663076400756836, 10.747773170471191, 5.305781364440918, 1.664289951324463, 1.6635479927062988, 0.8966889381408691, 0.8962156176567078, 0.9020727872848511, 0.8976946473121643, 0.8977904915809631, 0.8973755836486816, 0.8993669748306274, 0.8981626629829407, 0.8978636264801025, 2.436164140701294, 2.437894821166992, 9.023163795471191, 4.693713188171387, 1.938339114189148, 1.669260025024414, 2.437417507171631, 2.0506725311279297, 1.9153122901916504, 2.568033456802368, 1.6740401983261108, 1.670459508895874, 1.6669667959213257, 1.6423864364624023, 0.9089629054069519, 3.8581438064575195, 3.1131298542022705, 3.1047046184539795, 2.3659753799438477, 1.6188127994537354, 1.6138217449188232, 1.608890175819397, 1.6082733869552612, 2.352606773376465, 2.3441247940063477, 0.8716616034507751, 0.8716618418693542, 0.8716616034507751, 0.8716607093811035, 0.87165766954422, 0.8695533275604248, 0.8695153594017029, 0.8693485260009766, 0.8693287968635559, 0.8690598607063293, 0.8690112829208374, 0.8689985275268555, 0.8686724305152893, 0.8684449195861816, 1.6169365644454956, 5.3818535804748535, 1.5649312734603882, 1.6091116666793823, 3.8512024879455566, 0.869044303894043, 3.8514175415039062, 7.146843433380127, 3.6908340454101562, 1.807397723197937, 1.615470051765442, 1.5640361309051514, 2.3632233142852783, 2.4756760597229004, 1.615889072418213, 1.6134713888168335, 1.5100975036621094, 2.0958311557769775, 1.732222080230713, 1.083130955696106, 0.9081283211708069, 2.012829542160034, 1.3771963119506836, 2.008636951446533, 0.7415614128112793, 0.7415614128112793, 0.7415614128112793, 0.7415613532066345, 0.7415609955787659, 0.7415610551834106, 0.7415609359741211, 0.7415609955787659, 0.7415609955787659, 0.7415607571601868, 0.7415607571601868, 0.7415605783462524, 0.7415607571601868, 0.7415607571601868, 0.7415599226951599, 0.741553544998169, 0.7388399243354797, 0.7385680079460144, 0.7382980585098267, 0.7370764017105103, 0.7402356266975403, 0.7400733828544617, 0.7425569295883179, 0.7415608763694763, 0.7415481805801392, 0.7414964437484741, 0.7415614724159241, 3.896225929260254, 1.3589613437652588, 1.3812198638916016, 1.3147530555725098, 0.7465499639511108, 0.7506123781204224, 0.7435051202774048, 0.7434768676757812, 0.7424510717391968, 0.7415622472763062, 0.7415609359741211, 0.6140674948692322, 0.6140673160552979, 0.6140673160552979, 0.6140669584274292, 0.6122633218765259, 0.6121699810028076, 0.6120786666870117, 0.6120671033859253, 0.6119630336761475, 0.6119471192359924, 0.6117990016937256, 1.1357561349868774, 0.6120480298995972, 0.6139530539512634, 0.6132043600082397, 0.6122172474861145, 0.6154059171676636, 1.136689305305481, 1.138556957244873, 0.6119241118431091, 1.1384388208389282, 0.6131067276000977, 0.6140657067298889, 0.6140646934509277, 1.14042067527771, 0.6121550798416138, 1.139727234840393, 0.6146895885467529, 1.1389318704605103, 0.08772649616003036, 0.6158159971237183, 1.6730780601501465, 0.6164581775665283, 0.6158208847045898], \"Total\": [33.0, 21.0, 12.0, 11.0, 4.0, 6.0, 13.0, 3.0, 7.0, 12.0, 5.0, 2.0, 30.0, 3.0, 11.0, 3.0, 2.0, 5.0, 3.0, 9.0, 11.0, 15.0, 3.0, 6.0, 4.0, 2.0, 1.0, 2.0, 3.0, 2.0, 4.9158430099487305, 3.2375733852386475, 2.400233507156372, 2.3995413780212402, 2.398890256881714, 2.3986592292785645, 2.400099515914917, 7.359713077545166, 3.9853620529174805, 1.5603867769241333, 1.5603864192962646, 1.5603866577148438, 1.5603859424591064, 1.5603855848312378, 1.5603286027908325, 1.5603253841400146, 1.560325026512146, 1.560323715209961, 1.5597063302993774, 1.559668779373169, 1.5603177547454834, 1.5603172779083252, 1.5595515966415405, 1.5598167181015015, 1.5595455169677734, 1.5603083372116089, 1.560303807258606, 1.5594639778137207, 1.5603007078170776, 1.5603004693984985, 13.566607475280762, 2.9165196418762207, 7.1946282386779785, 4.8461785316467285, 33.499916076660156, 3.146273374557495, 11.064509391784668, 12.873995780944824, 11.652543067932129, 30.669769287109375, 11.689569473266602, 6.689087867736816, 3.721794605255127, 3.721146821975708, 5.774566173553467, 21.859447479248047, 7.019798278808594, 6.074281692504883, 5.4109930992126465, 15.69309139251709, 4.596807956695557, 9.753231048583984, 3.1287355422973633, 3.129870653152466, 2.3260080814361572, 2.326486587524414, 2.32594633102417, 2.327493190765381, 2.3275938034057617, 2.3342678546905518, 11.85328483581543, 1.523432731628418, 1.5234324932098389, 1.5234326124191284, 1.5234323740005493, 1.5234317779541016, 1.52340829372406, 1.5234076976776123, 1.5232597589492798, 1.5232372283935547, 1.5232328176498413, 1.5231940746307373, 1.5234777927398682, 1.5231797695159912, 1.523178219795227, 1.5231680870056152, 1.5231634378433228, 1.5231547355651855, 1.5230973958969116, 1.5230658054351807, 1.5230166912078857, 1.5229971408843994, 2.853447437286377, 6.725359916687012, 3.164599657058716, 30.669769287109375, 2.992147207260132, 15.69309139251709, 3.156580686569214, 9.896459579467773, 3.7566633224487305, 6.689087867736816, 3.4891409873962402, 11.689569473266602, 3.6926510334014893, 3.1067934036254883, 3.820005178451538, 21.859447479248047, 3.9358839988708496, 2.349433660507202, 5.4109930992126465, 7.1946282386779785, 4.659593105316162, 12.873995780944824, 6.18640661239624, 33.499916076660156, 12.41600227355957, 4.8461785316467285, 7.359713077545166, 7.16697883605957, 3.8072140216827393, 3.03279709815979, 2.2622125148773193, 2.2621445655822754, 2.262232780456543, 2.262206554412842, 2.270540714263916, 2.2723805904388428, 1.4912586212158203, 1.4912134408950806, 1.4911582469940186, 1.4911837577819824, 1.4910860061645508, 1.4911335706710815, 2.8993592262268066, 5.380251884460449, 3.102083206176758, 21.859447479248047, 11.652543067932129, 3.738292932510376, 3.9046990871429443, 2.1274616718292236, 2.1275246143341064, 2.2386038303375244, 2.293699026107788, 2.294123411178589, 2.293790102005005, 2.329681634902954, 2.3298871517181396, 2.3298847675323486, 7.019798278808594, 7.16697883605957, 33.499916076660156, 15.69309139251709, 6.18640661239624, 6.074281692504883, 11.689569473266602, 11.85328483581543, 12.41600227355957, 30.669769287109375, 9.753231048583984, 9.896459579467773, 12.873995780944824, 13.566607475280762, 11.064509391784668, 4.456336498260498, 3.7091095447540283, 3.709378242492676, 2.96195125579834, 2.2147912979125977, 2.214951276779175, 2.2139663696289062, 2.2136499881744385, 3.8027286529541016, 3.8030829429626465, 1.4676308631896973, 1.467631220817566, 1.4676311016082764, 1.4676311016082764, 1.4676305055618286, 1.4676979780197144, 1.4676992893218994, 1.4677042961120605, 1.4677050113677979, 1.467713475227356, 1.4677151441574097, 1.4677153825759888, 1.4677256345748901, 1.4677329063415527, 3.0538716316223145, 12.41600227355957, 3.6944215297698975, 3.820005178451538, 9.753231048583984, 2.2386038303375244, 11.064509391784668, 30.669769287109375, 13.566607475280762, 5.544692516326904, 4.659593105316162, 4.3892035484313965, 9.896459579467773, 15.69309139251709, 6.074281692504883, 6.725359916687012, 7.019798278808594, 33.499916076660156, 21.859447479248047, 5.380251884460449, 11.85328483581543, 2.6273880004882812, 1.9917526245117188, 3.468384265899658, 1.3561160564422607, 1.3561160564422607, 1.3561161756515503, 1.3561160564422607, 1.3561159372329712, 1.3561160564422607, 1.3561159372329712, 1.3561159372329712, 1.3561161756515503, 1.3561159372329712, 1.3561158180236816, 1.3561159372329712, 1.3561160564422607, 1.3561160564422607, 1.3561160564422607, 1.356116771697998, 1.3568298816680908, 1.3569016456604004, 1.3569724559783936, 1.3572938442230225, 2.1274616718292236, 2.1275246143341064, 2.158792495727539, 2.1590561866760254, 2.1590585708618164, 2.159043550491333, 2.1940155029296875, 33.499916076660156, 9.753231048583984, 11.689569473266602, 12.873995780944824, 3.6944215297698975, 12.41600227355957, 3.4891409873962402, 7.16697883605957, 2.9298534393310547, 2.19510817527771, 2.943150043487549, 1.2468376159667969, 1.2468376159667969, 1.2468376159667969, 1.2468376159667969, 1.2479119300842285, 1.2479674816131592, 1.2480218410491943, 1.2480287551879883, 1.2480907440185547, 1.2481003999710083, 1.2481882572174072, 2.5463955402374268, 2.051077365875244, 2.0868003368377686, 2.0872466564178467, 2.853447437286377, 2.9165196418762207, 5.544692516326904, 5.774566173553467, 3.4891409873962402, 6.689087867736816, 3.6926510334014893, 3.721146821975708, 3.721794605255127, 7.16697883605957, 4.3892035484313965, 12.41600227355957, 6.725359916687012, 12.873995780944824, 1.356116771697998, 9.896459579467773, 33.499916076660156, 11.652543067932129, 30.669769287109375], \"Category\": [\"Default\", \"Default\", \"Default\", \"Default\", \"Default\", \"Default\", \"Default\", \"Default\", \"Default\", \"Default\", \"Default\", \"Default\", \"Default\", \"Default\", \"Default\", \"Default\", \"Default\", \"Default\", \"Default\", \"Default\", \"Default\", \"Default\", \"Default\", \"Default\", \"Default\", \"Default\", \"Default\", \"Default\", \"Default\", \"Default\", \"Topic1\", \"Topic1\", \"Topic1\", \"Topic1\", \"Topic1\", \"Topic1\", \"Topic1\", \"Topic1\", \"Topic1\", \"Topic1\", \"Topic1\", \"Topic1\", \"Topic1\", \"Topic1\", \"Topic1\", \"Topic1\", \"Topic1\", \"Topic1\", \"Topic1\", \"Topic1\", \"Topic1\", \"Topic1\", \"Topic1\", \"Topic1\", \"Topic1\", \"Topic1\", \"Topic1\", \"Topic1\", \"Topic1\", \"Topic1\", \"Topic1\", \"Topic1\", \"Topic1\", \"Topic1\", \"Topic1\", \"Topic1\", \"Topic1\", \"Topic1\", \"Topic1\", \"Topic1\", \"Topic1\", \"Topic1\", \"Topic1\", \"Topic1\", \"Topic1\", \"Topic1\", \"Topic1\", \"Topic1\", \"Topic1\", \"Topic1\", \"Topic1\", \"Topic1\", \"Topic2\", \"Topic2\", \"Topic2\", \"Topic2\", \"Topic2\", \"Topic2\", \"Topic2\", \"Topic2\", \"Topic2\", \"Topic2\", \"Topic2\", \"Topic2\", \"Topic2\", \"Topic2\", \"Topic2\", \"Topic2\", \"Topic2\", \"Topic2\", \"Topic2\", \"Topic2\", \"Topic2\", \"Topic2\", \"Topic2\", \"Topic2\", \"Topic2\", \"Topic2\", \"Topic2\", \"Topic2\", \"Topic2\", \"Topic2\", \"Topic2\", \"Topic2\", \"Topic2\", \"Topic2\", \"Topic2\", \"Topic2\", \"Topic2\", \"Topic2\", \"Topic2\", \"Topic2\", \"Topic2\", \"Topic2\", \"Topic2\", \"Topic2\", \"Topic2\", \"Topic2\", \"Topic2\", \"Topic2\", \"Topic2\", \"Topic2\", \"Topic2\", \"Topic2\", \"Topic2\", \"Topic2\", \"Topic2\", \"Topic2\", \"Topic2\", \"Topic2\", \"Topic3\", \"Topic3\", \"Topic3\", \"Topic3\", \"Topic3\", \"Topic3\", \"Topic3\", \"Topic3\", \"Topic3\", \"Topic3\", \"Topic3\", \"Topic3\", \"Topic3\", \"Topic3\", \"Topic3\", \"Topic3\", \"Topic3\", \"Topic3\", \"Topic3\", \"Topic3\", \"Topic3\", \"Topic3\", \"Topic3\", \"Topic3\", \"Topic3\", \"Topic3\", \"Topic3\", \"Topic3\", \"Topic3\", \"Topic3\", \"Topic3\", \"Topic3\", \"Topic3\", \"Topic3\", \"Topic3\", \"Topic3\", \"Topic3\", \"Topic3\", \"Topic3\", \"Topic3\", \"Topic3\", \"Topic3\", \"Topic3\", \"Topic3\", \"Topic3\", \"Topic4\", \"Topic4\", \"Topic4\", \"Topic4\", \"Topic4\", \"Topic4\", \"Topic4\", \"Topic4\", \"Topic4\", \"Topic4\", \"Topic4\", \"Topic4\", \"Topic4\", \"Topic4\", \"Topic4\", \"Topic4\", \"Topic4\", \"Topic4\", \"Topic4\", \"Topic4\", \"Topic4\", \"Topic4\", \"Topic4\", \"Topic4\", \"Topic4\", \"Topic4\", \"Topic4\", \"Topic4\", \"Topic4\", \"Topic4\", \"Topic4\", \"Topic4\", \"Topic4\", \"Topic4\", \"Topic4\", \"Topic4\", \"Topic4\", \"Topic4\", \"Topic4\", \"Topic4\", \"Topic4\", \"Topic4\", \"Topic4\", \"Topic4\", \"Topic4\", \"Topic5\", \"Topic5\", \"Topic5\", \"Topic5\", \"Topic5\", \"Topic5\", \"Topic5\", \"Topic5\", \"Topic5\", \"Topic5\", \"Topic5\", \"Topic5\", \"Topic5\", \"Topic5\", \"Topic5\", \"Topic5\", \"Topic5\", \"Topic5\", \"Topic5\", \"Topic5\", \"Topic5\", \"Topic5\", \"Topic5\", \"Topic5\", \"Topic5\", \"Topic5\", \"Topic5\", \"Topic5\", \"Topic5\", \"Topic5\", \"Topic5\", \"Topic5\", \"Topic5\", \"Topic5\", \"Topic5\", \"Topic5\", \"Topic5\", \"Topic5\", \"Topic5\", \"Topic5\", \"Topic5\", \"Topic6\", \"Topic6\", \"Topic6\", \"Topic6\", \"Topic6\", \"Topic6\", \"Topic6\", \"Topic6\", \"Topic6\", \"Topic6\", \"Topic6\", \"Topic6\", \"Topic6\", \"Topic6\", \"Topic6\", \"Topic6\", \"Topic6\", \"Topic6\", \"Topic6\", \"Topic6\", \"Topic6\", \"Topic6\", \"Topic6\", \"Topic6\", \"Topic6\", \"Topic6\", \"Topic6\", \"Topic6\", \"Topic6\", \"Topic6\", \"Topic6\", \"Topic6\", \"Topic6\", \"Topic6\"], \"logprob\": [30.0, 29.0, 28.0, 27.0, 26.0, 25.0, 24.0, 23.0, 22.0, 21.0, 20.0, 19.0, 18.0, 17.0, 16.0, 15.0, 14.0, 13.0, 12.0, 11.0, 10.0, 9.0, 8.0, 7.0, 6.0, 5.0, 4.0, 3.0, 2.0, 1.0, -3.805299997329712, -4.295000076293945, -4.6722002029418945, -4.672999858856201, -4.673900127410889, -4.674300193786621, -4.673799991607666, -3.6382999420166016, -4.296299934387207, -5.290200233459473, -5.290200233459473, -5.290200233459473, -5.290200233459473, -5.290200233459473, -5.291500091552734, -5.291600227355957, -5.291600227355957, -5.291600227355957, -5.291999816894531, -5.292099952697754, -5.291800022125244, -5.291800022125244, -5.292399883270264, -5.292300224304199, -5.292500019073486, -5.291999816894531, -5.292099952697754, -5.292699813842773, -5.292200088500977, -5.292200088500977, -3.2135000228881836, -4.697400093078613, -3.90120005607605, -4.291500091552734, -2.6470000743865967, -4.687099933624268, -3.6386001110076904, -3.545099973678589, -3.8025999069213867, -3.1280999183654785, -3.9377999305725098, -4.409599781036377, -4.773799896240234, -4.782800197601318, -4.670199871063232, -4.087100028991699, -4.612800121307373, -4.682499885559082, -4.783299922943115, -4.496799945831299, -4.938000202178955, -4.724899768829346, -4.206299781799316, -4.210100173950195, -4.5833001136779785, -4.583099842071533, -4.583399772644043, -4.596199989318848, -4.597499847412109, -4.686399936676025, -3.0952000617980957, -5.201200008392334, -5.201200008392334, -5.201200008392334, -5.201200008392334, -5.201200008392334, -5.201600074768066, -5.201600074768066, -5.202099800109863, -5.202199935913086, -5.202199935913086, -5.202400207519531, -5.202199935913086, -5.202499866485596, -5.202499866485596, -5.202499866485596, -5.202600002288818, -5.202600002288818, -5.202899932861328, -5.203100204467773, -5.2032999992370605, -5.203400135040283, -4.583199977874756, -3.938800096511841, -4.587699890136719, -2.6839001178741455, -4.651400089263916, -3.3217999935150146, -4.624199867248535, -3.785900115966797, -4.517899990081787, -4.097300052642822, -4.583499908447266, -3.7832999229431152, -4.588500022888184, -4.714799880981445, -4.582099914550781, -3.4346001148223877, -4.5833001136779785, -4.921999931335449, -4.408100128173828, -4.270299911499023, -4.582699775695801, -4.031400203704834, -4.457399845123291, -4.025199890136719, -4.333199977874756, -4.582300186157227, -4.551300048828125, -4.582499980926514, -3.6891000270843506, -3.9342000484466553, -4.314799785614014, -4.315800189971924, -4.316100120544434, -4.316100120544434, -4.465400218963623, -4.484600067138672, -4.932700157165527, -4.93310022354126, -4.9334001541137695, -4.933899879455566, -4.934199810028076, -4.9344000816345215, -4.315499782562256, -3.7393999099731445, -4.316299915313721, -2.4502999782562256, -3.1561999320983887, -4.3155999183654785, -4.316100120544434, -4.934100151062012, -4.934599876403809, -4.928100109100342, -4.9328999519348145, -4.932799816131592, -4.933300018310547, -4.931099891662598, -4.932400226593018, -4.932700157165527, -3.9346001148223877, -3.9339001178741455, -2.625200033187866, -3.2788000106811523, -4.1631999015808105, -4.312600135803223, -3.9340999126434326, -4.106800079345703, -4.175099849700928, -3.8819000720977783, -4.309800148010254, -4.3119001388549805, -4.314000129699707, -4.32889986038208, -4.920499801635742, -3.3970999717712402, -3.611599922180176, -3.614300012588501, -3.8861000537872314, -4.265600204467773, -4.268700122833252, -4.271699905395508, -4.27209997177124, -3.891700029373169, -3.895400047302246, -4.8846001625061035, -4.8846001625061035, -4.8846001625061035, -4.8846001625061035, -4.8846001625061035, -4.88700008392334, -4.8871002197265625, -4.88730001449585, -4.88730001449585, -4.887599945068359, -4.887700080871582, -4.887700080871582, -4.8881001472473145, -4.888299942016602, -4.26669979095459, -3.064199924468994, -4.2993998527526855, -4.271599769592285, -3.398900032043457, -4.887599945068359, -3.3987998962402344, -2.780600070953369, -3.4414000511169434, -4.155399799346924, -4.267600059509277, -4.300000190734863, -3.887200117111206, -3.8408000469207764, -4.267399787902832, -4.268899917602539, -4.335100173950195, -4.007299900054932, -4.19789981842041, -4.667399883270264, -4.843599796295166, -3.4951000213623047, -3.874500036239624, -3.4971001148223877, -4.493599891662598, -4.493599891662598, -4.493599891662598, -4.493599891662598, -4.493599891662598, -4.493599891662598, -4.493599891662598, -4.493599891662598, -4.493599891662598, -4.493599891662598, -4.493599891662598, -4.493599891662598, -4.493599891662598, -4.493599891662598, -4.493599891662598, -4.493599891662598, -4.497300148010254, -4.497600078582764, -4.498000144958496, -4.49970006942749, -4.4953999519348145, -4.49560022354126, -4.492300033569336, -4.493599891662598, -4.493599891662598, -4.49370002746582, -4.493599891662598, -2.8345999717712402, -3.8879001140594482, -3.8715999126434326, -3.9209001064300537, -4.4868998527526855, -4.481500148773193, -4.491000175476074, -4.491000175476074, -4.492400169372559, -4.493599891662598, -4.493599891662598, -4.235300064086914, -4.235300064086914, -4.235300064086914, -4.235300064086914, -4.23829984664917, -4.238399982452393, -4.23859977722168, -4.23859977722168, -4.238699913024902, -4.238800048828125, -4.238999843597412, -3.6203999519348145, -4.23859977722168, -4.235499858856201, -4.236700057983398, -4.23829984664917, -4.233099937438965, -3.619499921798706, -3.6178998947143555, -4.238800048828125, -3.618000030517578, -4.2368998527526855, -4.235300064086914, -4.235300064086914, -3.616300106048584, -4.238399982452393, -3.6168999671936035, -4.234300136566162, -3.6175999641418457, -6.18120002746582, -4.232500076293945, -3.2330000400543213, -4.231400012969971, -4.232500076293945], \"loglift\": [30.0, 29.0, 28.0, 27.0, 26.0, 25.0, 24.0, 23.0, 22.0, 21.0, 20.0, 19.0, 18.0, 17.0, 16.0, 15.0, 14.0, 13.0, 12.0, 11.0, 10.0, 9.0, 8.0, 7.0, 6.0, 5.0, 4.0, 3.0, 2.0, 1.0, 1.1717000007629395, 1.0996999740600586, 1.0218000411987305, 1.0211999416351318, 1.0205999612808228, 1.0202000141143799, 1.0202000141143799, 0.9351999759674072, 0.890500009059906, 0.8343999981880188, 0.8343999981880188, 0.8343999981880188, 0.8343999981880188, 0.8343999981880188, 0.8331000208854675, 0.8330000042915344, 0.8330000042915344, 0.8330000042915344, 0.8330000042915344, 0.8328999876976013, 0.8327999711036682, 0.8327999711036682, 0.8325999975204468, 0.8325999975204468, 0.8325999975204468, 0.8325999975204468, 0.8324999809265137, 0.8324999809265137, 0.8324999809265137, 0.8324000239372253, 0.7483999729156494, 0.8016999959945679, 0.6948999762535095, 0.6998000144958496, 0.41100001335144043, 0.7361999750137329, 0.5271999835968018, 0.4691999852657318, 0.31139999628067017, 0.01810000091791153, 0.17299999296665192, 0.25940001010894775, 0.4814999997615814, 0.47269999980926514, 0.14579999446868896, -0.6021999716758728, 0.00800000037997961, 0.08290000259876251, 0.09769999980926514, -0.6805999875068665, 0.10610000044107437, -0.43299999833106995, 1.222599983215332, 1.218400001525879, 1.1419999599456787, 1.1419999599456787, 1.1419999599456787, 1.128499984741211, 1.1272000074386597, 1.0353000164031982, 1.0017000436782837, 0.9473000168800354, 0.9473000168800354, 0.9473000168800354, 0.9473000168800354, 0.9473000168800354, 0.9470000267028809, 0.9470000267028809, 0.9466000199317932, 0.9465000033378601, 0.946399986743927, 0.9463000297546387, 0.9463000297546387, 0.9462000131607056, 0.9462000131607056, 0.9462000131607056, 0.9460999965667725, 0.9460999965667725, 0.9458000063896179, 0.9456999897956848, 0.9455000162124634, 0.9453999996185303, 0.9376999735832214, 0.7247999906539917, 0.829800009727478, 0.46230000257492065, 0.8220999836921692, 0.4945000112056732, 0.795799970626831, 0.49140000343322754, 0.7281000018119812, 0.5716999769210815, 0.736299991607666, 0.32749998569488525, 0.6746000051498413, 0.7210999727249146, 0.6470999717712402, 0.050200000405311584, 0.6159999966621399, 0.7932999730110168, 0.47290000319480896, 0.32580000162124634, 0.4478999972343445, -0.017100000753998756, 0.2897999882698059, -0.967199981212616, -0.2827000021934509, 0.4088999927043915, 0.022199999541044235, 0.017500000074505806, 1.5434999465942383, 1.5256999731063843, 1.4383000135421753, 1.437399983406067, 1.4371000528335571, 1.437000036239624, 1.28410005569458, 1.2640999555587769, 1.2371000051498413, 1.236799955368042, 1.2365000247955322, 1.2359999418258667, 1.235700011253357, 1.2355999946594238, 1.1893999576568604, 1.1474000215530396, 1.1210999488830566, 1.034500002861023, 0.9577000141143799, 0.9351999759674072, 0.8912000060081482, 0.8805000185966492, 0.8798999786376953, 0.8356000185012817, 0.8064000010490417, 0.8062999844551086, 0.8059999942779541, 0.7926999926567078, 0.7911999821662903, 0.7908999919891357, 0.6862000226974487, 0.666100025177002, 0.4327000081539154, 0.5375000238418579, 0.583899974822998, 0.4528000056743622, 0.17669999599456787, -0.009999999776482582, -0.12460000067949295, -0.7357000112533569, -0.017899999395012856, -0.03460000082850456, -0.299699991941452, -0.367000013589859, -0.7547000050544739, 1.6780999898910522, 1.6470999717712402, 1.6442999839782715, 1.597599983215332, 1.5087000131607056, 1.5055999755859375, 1.503000020980835, 1.5026999711990356, 1.3420000076293945, 1.3382999897003174, 1.301200032234192, 1.301200032234192, 1.301200032234192, 1.301200032234192, 1.301200032234192, 1.298699975013733, 1.298699975013733, 1.2984999418258667, 1.2984999418258667, 1.298200011253357, 1.2980999946594238, 1.2980999946594238, 1.297700047492981, 1.2973999977111816, 1.1863000392913818, 0.986299991607666, 0.9631999731063843, 0.9575999975204468, 0.8930000066757202, 0.8759999871253967, 0.7669000029563904, 0.36559998989105225, 0.5205000042915344, 0.7013000249862671, 0.7628999948501587, 0.7903000116348267, 0.39010000228881836, -0.02449999935925007, 0.49799999594688416, 0.39469999074935913, 0.2856999933719635, -0.949400007724762, -0.7129999995231628, 0.21930000185966492, -0.7468000054359436, 2.1084001064300537, 2.0058999061584473, 1.8286999464035034, 1.771299958229065, 1.771299958229065, 1.771299958229065, 1.771299958229065, 1.771299958229065, 1.771299958229065, 1.771299958229065, 1.771299958229065, 1.771299958229065, 1.771299958229065, 1.771299958229065, 1.771299958229065, 1.771299958229065, 1.771299958229065, 1.771299958229065, 1.771299958229065, 1.7670999765396118, 1.7666000127792358, 1.7661999464035034, 1.764299988746643, 1.319200038909912, 1.3188999891281128, 1.3077000379562378, 1.3062000274658203, 1.3062000274658203, 1.3061000108718872, 1.2901999950408936, 0.2232999950647354, 0.40400001406669617, 0.23919999599456787, 0.093299999833107, 0.7757999897003174, -0.4309999942779541, 0.8288000226020813, 0.10899999737739563, 1.0020999908447266, 1.2897000312805176, 0.996399998664856, 2.113600015640259, 2.113600015640259, 2.113600015640259, 2.113600015640259, 2.109800100326538, 2.109600067138672, 2.1094000339508057, 2.109299898147583, 2.109100103378296, 2.109100103378296, 2.108799934387207, 2.014400005340576, 1.6124999523162842, 1.5983999967575073, 1.5968999862670898, 1.2826000452041626, 1.2660000324249268, 1.2371000051498413, 1.198099970817566, 1.0809999704360962, 1.0509999990463257, 1.0262999534606934, 1.0200999975204468, 1.0199999809265137, 0.9836999773979187, 0.8518999814987183, 0.4336000084877014, 0.4293000102043152, 0.396699994802475, 0.08370000123977661, 0.04479999840259552, -0.17509999871253967, -0.11749999970197678, -1.086300015449524]}, \"token.table\": {\"Topic\": [5, 2, 5, 2, 1, 1, 2, 3, 2, 6, 5, 2, 4, 4, 4, 2, 3, 1, 5, 3, 1, 2, 3, 4, 5, 6, 1, 2, 5, 1, 5, 1, 2, 3, 4, 5, 4, 1, 4, 6, 1, 3, 2, 1, 3, 4, 5, 1, 4, 2, 3, 1, 4, 5, 4, 1, 2, 5, 2, 3, 1, 4, 4, 1, 4, 2, 1, 2, 3, 4, 6, 6, 2, 1, 2, 6, 5, 5, 6, 5, 6, 1, 2, 5, 5, 1, 2, 3, 4, 1, 1, 3, 5, 1, 3, 1, 6, 1, 3, 1, 1, 1, 2, 1, 5, 4, 5, 3, 3, 1, 2, 6, 1, 4, 2, 2, 1, 2, 4, 6, 1, 1, 6, 2, 1, 2, 6, 1, 3, 4, 1, 2, 5, 1, 4, 1, 4, 1, 2, 3, 5, 5, 1, 2, 1, 5, 4, 4, 2, 2, 1, 3, 5, 5, 4, 1, 2, 4, 5, 2, 3, 2, 2, 5, 6, 1, 6, 1, 3, 4, 2, 1, 2, 3, 5, 1, 2, 3, 5, 3, 5, 3, 2, 1, 2, 2, 4, 1, 2, 3, 5, 1, 4, 5, 1, 2, 5, 2, 3, 4, 6, 6, 6, 1, 2, 3, 4, 5, 6, 1, 2, 6, 5, 1, 2, 4, 5, 6, 4, 1, 3, 4, 1, 3, 2, 1, 5, 5, 5, 1, 3, 3, 5, 3, 2, 2, 6, 5, 4, 1, 2, 3, 4, 2, 5, 2, 2, 3, 1, 2, 3, 6, 4, 1, 1, 4, 3, 3, 3, 6, 1, 2, 5, 2, 5, 6, 2, 5, 3, 1, 2, 3, 5, 6, 4, 1, 1, 2, 3, 5, 6, 2, 1, 1, 2, 3, 1, 2, 2, 6, 1, 2, 3, 4, 5, 2, 2, 4, 1, 2, 4, 1, 2, 4, 5, 1, 2, 3, 4, 1, 2, 3, 4, 1, 2, 6, 1, 2, 3, 4, 1, 2, 3, 4, 6, 4, 1, 3, 5, 1, 2, 3, 4, 6, 2, 4, 3, 1, 2, 3, 5, 4, 6, 2, 5, 6, 1, 1], \"Freq\": [0.7369346618652344, 0.4631648361682892, 0.4631648361682892, 0.6565915942192078, 0.9266199469566345, 0.6408671140670776, 0.43595966696739197, 0.43595966696739197, 0.6565283536911011, 0.8011611700057983, 0.736760139465332, 0.6564965844154358, 0.6813310980796814, 0.6813390851020813, 0.9029543995857239, 0.8598422408103943, 0.659457266330719, 0.6412124633789062, 0.7373999953269958, 0.44042372703552246, 0.41791149973869324, 0.08955246210098267, 0.268657386302948, 0.059701643884181976, 0.11940328776836395, 0.059701643884181976, 0.3159957230091095, 0.631991446018219, 0.7373999953269958, 0.4557853043079376, 0.4557853043079376, 0.20506024360656738, 0.10253012180328369, 0.20506024360656738, 0.41012048721313477, 0.10253012180328369, 0.6813384890556335, 0.7527546882629395, 0.2509182393550873, 0.8012680411338806, 0.8136956095695496, 0.88409024477005, 0.6564124226570129, 0.3292570412158966, 0.3292570412158966, 0.3292570412158966, 0.1646285206079483, 0.26296907663345337, 0.5259381532669067, 0.6437505483627319, 0.32187527418136597, 0.3397720158100128, 0.3397720158100128, 0.3397720158100128, 0.9034851789474487, 0.31679847836494446, 0.6335969567298889, 0.7374000549316406, 0.4358963370323181, 0.4358963370323181, 0.833492636680603, 0.8088194727897644, 0.6813262701034546, 0.6409022212028503, 0.6813318729400635, 0.6565213203430176, 0.346346378326416, 0.173173189163208, 0.173173189163208, 0.173173189163208, 0.173173189163208, 0.8013386130332947, 0.6565568447113037, 0.5373751521110535, 0.26868757605552673, 0.26868757605552673, 0.7370120882987976, 0.7373999953269958, 0.8020290732383728, 0.7373999953269958, 0.8020290732383728, 0.6411617994308472, 0.6684163212776184, 0.3342081606388092, 0.5020703673362732, 0.4518953263759613, 0.09037906676530838, 0.09037906676530838, 0.3615162670612335, 0.6408926248550415, 0.3223640024662018, 0.6447280049324036, 0.7373999357223511, 0.8337991237640381, 0.6706081628799438, 0.479202538728714, 0.479202538728714, 0.4292057752609253, 0.4292057752609253, 0.6408668160438538, 0.8332988023757935, 0.6409021019935608, 0.6565151810646057, 0.2883186936378479, 0.5766373872756958, 0.6813358068466187, 0.7612122893333435, 0.7879777550697327, 0.6706307530403137, 0.6793743371963501, 0.27174973487854004, 0.8013029098510742, 0.2629445791244507, 0.5258891582489014, 0.6564127206802368, 0.6564124822616577, 0.22783176600933075, 0.22783176600933075, 0.4556635320186615, 0.22783176600933075, 0.6408953070640564, 0.6857488751411438, 0.3428744375705719, 0.8598650693893433, 0.29899442195892334, 0.448491632938385, 0.14949721097946167, 0.1858649104833603, 0.5575947165489197, 0.1858649104833603, 0.5559703707695007, 0.27798518538475037, 0.13899259269237518, 0.3274531960487366, 0.6549063920974731, 0.6409008502960205, 0.6752305626869202, 0.8332522511482239, 0.3413139879703522, 0.3413139879703522, 0.3413139879703522, 0.7373996376991272, 0.8337188363075256, 0.6565321087837219, 0.6408668756484985, 0.7374000549316406, 0.6813701391220093, 0.6813309788703918, 0.8592935800552368, 0.6565704345703125, 0.2675017714500427, 0.5350035429000854, 0.2675017714500427, 0.7374000549316406, 0.6813701391220093, 0.36961790919303894, 0.36961790919303894, 0.18480895459651947, 0.18480895459651947, 0.6565263867378235, 0.6706196069717407, 0.6565219759941101, 0.4632219076156616, 0.4632219076156616, 0.8012635707855225, 0.4791000485420227, 0.4791000485420227, 0.64124596118927, 0.44670701026916504, 0.44670701026916504, 0.6564984321594238, 0.3421854078769684, 0.3421854078769684, 0.1710927039384842, 0.0855463519692421, 0.25407251715660095, 0.5081450343132019, 0.25407251715660095, 0.7374000549316406, 0.4700298011302948, 0.4700298011302948, 0.8840823173522949, 0.8596653938293457, 0.6411009430885315, 0.6564230918884277, 0.6564228534698486, 0.6813361644744873, 0.640891969203949, 0.5323873162269592, 0.2661936581134796, 0.2661936581134796, 0.2706783711910248, 0.5413567423820496, 0.2706783711910248, 0.6190444827079773, 0.41269630193710327, 0.7373999357223511, 0.4460727870464325, 0.14869092404842377, 0.29738184809684753, 0.14869092404842377, 0.8020290732383728, 0.8012176156044006, 0.0805412232875824, 0.1610824465751648, 0.1610824465751648, 0.402706116437912, 0.0805412232875824, 0.0805412232875824, 0.5374687314033508, 0.2687343657016754, 0.2687343657016754, 0.7373999953269958, 0.18035265803337097, 0.18035265803337097, 0.36070531606674194, 0.18035265803337097, 0.18035265803337097, 0.8975982666015625, 0.5896831750869751, 0.14742079377174377, 0.29484158754348755, 0.42924320697784424, 0.42924320697784424, 0.6564123630523682, 0.4555584192276001, 0.4555584192276001, 0.7374000549316406, 0.7373999953269958, 0.4292053282260895, 0.4292053282260895, 0.47004371881484985, 0.47004371881484985, 0.6705948114395142, 0.6566000580787659, 0.7009065747261047, 0.35045328736305237, 0.7374001741409302, 0.6813702583312988, 0.12744460999965668, 0.3823338449001312, 0.3186115324497223, 0.12744460999965668, 0.6563928723335266, 0.7369731068611145, 0.8592564463615417, 0.6564868688583374, 0.4400671422481537, 0.34327271580696106, 0.08581817895174026, 0.4290908873081207, 0.08581817895174026, 0.6813700795173645, 0.6412099599838257, 0.6356726884841919, 0.31783634424209595, 0.8841167688369751, 0.6705744862556458, 0.39271196722984314, 0.39271196722984314, 0.425634503364563, 0.425634503364563, 0.7373999953269958, 0.5732069611549377, 0.28660348057746887, 0.28660348057746887, 0.4631653428077698, 0.4631653428077698, 0.8840925693511963, 0.1395288109779358, 0.2790576219558716, 0.2790576219558716, 0.1395288109779358, 0.1395288109779358, 0.8087608814239502, 0.6408950686454773, 0.4660557806491852, 0.2330278903245926, 0.155351921916008, 0.077675960958004, 0.077675960958004, 0.9588538408279419, 0.6408906579017639, 0.640866756439209, 0.4359769821166992, 0.4359769821166992, 0.6408989429473877, 0.8567997217178345, 0.4875486493110657, 0.4875486493110657, 0.1372404247522354, 0.22873404622077942, 0.5032148957252502, 0.091493621468544, 0.045746810734272, 0.9585060477256775, 0.5235595107078552, 0.5235595107078552, 0.2146110087633133, 0.4292220175266266, 0.4292220175266266, 0.21754226088523865, 0.21754226088523865, 0.21754226088523865, 0.21754226088523865, 0.08436480164527893, 0.6749184131622314, 0.16872960329055786, 0.08436480164527893, 0.25610166788101196, 0.25610166788101196, 0.5122033357620239, 0.9030196070671082, 0.2708081603050232, 0.5416163206100464, 0.2708081603050232, 0.2849084734916687, 0.14245423674583435, 0.2849084734916687, 0.2849084734916687, 0.2934485673904419, 0.39126476645469666, 0.09781619161367416, 0.22823777794837952, 0.03260539844632149, 0.9033560752868652, 0.6408672332763672, 0.6898075938224792, 0.3449037969112396, 0.10104623436927795, 0.4041849374771118, 0.2020924687385559, 0.2020924687385559, 0.10104623436927795, 0.6564123034477234, 0.6813704371452332, 0.6706521511077881, 0.16164472699165344, 0.3232894539833069, 0.3232894539833069, 0.16164472699165344, 0.6813228726387024, 0.8012238144874573, 0.46316805481910706, 0.46316805481910706, 0.8020290732383728, 0.6411463618278503, 0.6408920884132385], \"Term\": [\"adjuvant\", \"advanced\", \"advanced\", \"airway\", \"alk\", \"alternative\", \"area\", \"area\", \"aren\", \"believe\", \"benefit\", \"better\", \"bevacizumab\", \"bleed\", \"blood\", \"body\", \"brain\", \"bronchi\", \"buildup\", \"call\", \"cancer\", \"cancer\", \"cancer\", \"cancer\", \"cancer\", \"cancer\", \"case\", \"case\", \"catheter\", \"cause\", \"cause\", \"cell\", \"cell\", \"cell\", \"cell\", \"cell\", \"center\", \"certain\", \"certain\", \"chance\", \"change\", \"check\", \"checked\", \"chemo\", \"chemo\", \"chemo\", \"chemo\", \"chemoradiation\", \"chemoradiation\", \"chemotherapy\", \"chemotherapy\", \"chest\", \"chest\", \"chest\", \"clinical\", \"combine\", \"combine\", \"coming\", \"common\", \"common\", \"completely\", \"consider\", \"continue\", \"control\", \"cough\", \"curable\", \"cure\", \"cure\", \"cure\", \"cure\", \"cure\", \"dangerous\", \"deep\", \"depend\", \"depend\", \"depend\", \"destroy\", \"detail\", \"diagnose\", \"discuss\", \"distant\", \"divide\", \"doctor\", \"doctor\", \"drain\", \"drug\", \"drug\", \"drug\", \"drug\", \"durvalumab\", \"edge\", \"edge\", \"effusion\", \"egfr\", \"ensure\", \"entire\", \"entire\", \"example\", \"example\", \"extent\", \"factor\", \"fairly\", \"feel\", \"find\", \"find\", \"finish\", \"fluid\", \"follow\", \"followed\", \"gene\", \"gene\", \"generally\", \"give\", \"give\", \"go\", \"goal\", \"good\", \"good\", \"good\", \"good\", \"grow\", \"hard\", \"hard\", \"have\", \"health\", \"health\", \"health\", \"healthy\", \"healthy\", \"healthy\", \"help\", \"help\", \"help\", \"high\", \"high\", \"iiib\", \"immunotherapy\", \"important\", \"include\", \"include\", \"include\", \"information\", \"inhibitor\", \"invade\", \"involvement\", \"keep\", \"keytruda\", \"large\", \"laser\", \"layer\", \"leave\", \"leave\", \"leave\", \"let\", \"level\", \"likely\", \"likely\", \"likely\", \"likely\", \"limit\", \"limited\", \"line\", \"live\", \"live\", \"lobe\", \"lobectomy\", \"lobectomy\", \"location\", \"long\", \"long\", \"longer\", \"lung\", \"lung\", \"lung\", \"lung\", \"main\", \"main\", \"main\", \"malignant\", \"margin\", \"margin\", \"mean\", \"medical\", \"mekinist\", \"mutate\", \"mutation\", \"necitumumab\", \"neck\", \"need\", \"need\", \"need\", \"new\", \"new\", \"new\", \"node\", \"node\", \"non\", \"nsclc\", \"nsclc\", \"nsclc\", \"nsclc\", \"number\", \"offer\", \"option\", \"option\", \"option\", \"option\", \"option\", \"option\", \"overall\", \"overall\", \"overall\", \"palliative\", \"patient\", \"patient\", \"patient\", \"patient\", \"patient\", \"pembrolizumab\", \"people\", \"people\", \"people\", \"person\", \"person\", \"piece\", \"placement\", \"placement\", \"pleural\", \"pleurodesis\", \"pneumonectomy\", \"pneumonectomy\", \"positive\", \"positive\", \"potentially\", \"prevent\", \"problem\", \"problem\", \"procedure\", \"protein\", \"radiation\", \"radiation\", \"radiation\", \"radiation\", \"reason\", \"recommend\", \"relieve\", \"relieving\", \"remain\", \"remove\", \"remove\", \"remove\", \"remove\", \"respond\", \"right\", \"risk\", \"risk\", \"second\", \"single\", \"site\", \"site\", \"size\", \"size\", \"skin\", \"small\", \"small\", \"small\", \"space\", \"space\", \"speciman\", \"spread\", \"spread\", \"spread\", \"spread\", \"spread\", \"squamous\", \"stable\", \"stage\", \"stage\", \"stage\", \"stage\", \"stage\", \"start\", \"stay\", \"step\", \"stereotactic\", \"stereotactic\", \"structure\", \"sure\", \"surgeon\", \"surgeon\", \"surgery\", \"surgery\", \"surgery\", \"surgery\", \"surgery\", \"symptom\", \"take\", \"take\", \"target\", \"target\", \"target\", \"test\", \"test\", \"test\", \"test\", \"therapy\", \"therapy\", \"therapy\", \"therapy\", \"tissue\", \"tissue\", \"tissue\", \"tolerable\", \"tolerate\", \"tolerate\", \"tolerate\", \"treat\", \"treat\", \"treat\", \"treat\", \"treatment\", \"treatment\", \"treatment\", \"treatment\", \"treatment\", \"trial\", \"truly\", \"try\", \"try\", \"tumor\", \"tumor\", \"tumor\", \"tumor\", \"tumor\", \"understand\", \"unlikely\", \"use\", \"usually\", \"usually\", \"usually\", \"usually\", \"vessel\", \"well\", \"widely\", \"widely\", \"widespread\", \"windpipe\", \"year\"]}, \"R\": 30, \"lambda.step\": 0.01, \"plot.opts\": {\"xlab\": \"PC1\", \"ylab\": \"PC2\"}, \"topic.order\": [6, 1, 2, 5, 3, 4]};\n",
       "\n",
       "function LDAvis_load_lib(url, callback){\n",
       "  var s = document.createElement('script');\n",
       "  s.src = url;\n",
       "  s.async = true;\n",
       "  s.onreadystatechange = s.onload = callback;\n",
       "  s.onerror = function(){console.warn(\"failed to load library \" + url);};\n",
       "  document.getElementsByTagName(\"head\")[0].appendChild(s);\n",
       "}\n",
       "\n",
       "if(typeof(LDAvis) !== \"undefined\"){\n",
       "   // already loaded: just create the visualization\n",
       "   !function(LDAvis){\n",
       "       new LDAvis(\"#\" + \"ldavis_el94751405808865514323548712532\", ldavis_el94751405808865514323548712532_data);\n",
       "   }(LDAvis);\n",
       "}else if(typeof define === \"function\" && define.amd){\n",
       "   // require.js is available: use it to load d3/LDAvis\n",
       "   require.config({paths: {d3: \"https://cdnjs.cloudflare.com/ajax/libs/d3/3.5.5/d3.min\"}});\n",
       "   require([\"d3\"], function(d3){\n",
       "      window.d3 = d3;\n",
       "      LDAvis_load_lib(\"https://cdn.rawgit.com/bmabey/pyLDAvis/files/ldavis.v1.0.0.js\", function(){\n",
       "        new LDAvis(\"#\" + \"ldavis_el94751405808865514323548712532\", ldavis_el94751405808865514323548712532_data);\n",
       "      });\n",
       "    });\n",
       "}else{\n",
       "    // require.js not available: dynamically load d3 & LDAvis\n",
       "    LDAvis_load_lib(\"https://cdnjs.cloudflare.com/ajax/libs/d3/3.5.5/d3.min.js\", function(){\n",
       "         LDAvis_load_lib(\"https://cdn.rawgit.com/bmabey/pyLDAvis/files/ldavis.v1.0.0.js\", function(){\n",
       "                 new LDAvis(\"#\" + \"ldavis_el94751405808865514323548712532\", ldavis_el94751405808865514323548712532_data);\n",
       "            })\n",
       "         });\n",
       "}\n",
       "</script>"
      ],
      "text/plain": [
       "PreparedData(topic_coordinates=              x         y  topics  cluster       Freq\n",
       "topic                                                \n",
       "5      0.012148 -0.005545       1        1  27.262835\n",
       "0      0.010798 -0.076126       2        1  23.844416\n",
       "1      0.006213 -0.103707       3        1  17.473715\n",
       "4      0.144050  0.079171       4        1  16.166750\n",
       "2     -0.122819  0.062393       5        1   9.302531\n",
       "3     -0.050389  0.043814       6        1   5.949749, topic_info=              Term       Freq      Total Category  logprob  loglift\n",
       "17          cancer  33.000000  33.000000  Default  30.0000  30.0000\n",
       "12         surgery  21.000000  21.000000  Default  29.0000  29.0000\n",
       "55          option  12.000000  12.000000  Default  28.0000  28.0000\n",
       "29          remove  11.000000  11.000000  Default  27.0000  27.0000\n",
       "136  pembrolizumab   4.000000   4.000000  Default  26.0000  26.0000\n",
       "..             ...        ...        ...      ...      ...      ...\n",
       "230    information   0.087726   1.356117   Topic6  -6.1812   0.0837\n",
       "46           tumor   0.615816   9.896460   Topic6  -4.2325   0.0448\n",
       "17          cancer   1.673078  33.499916   Topic6  -3.2330  -0.1751\n",
       "29          remove   0.616458  11.652543   Topic6  -4.2314  -0.1175\n",
       "37       treatment   0.615821  30.669769   Topic6  -4.2325  -1.0863\n",
       "\n",
       "[305 rows x 6 columns], token_table=      Topic      Freq        Term\n",
       "term                             \n",
       "115       5  0.736935    adjuvant\n",
       "165       2  0.463165    advanced\n",
       "165       5  0.463165    advanced\n",
       "0         2  0.656592      airway\n",
       "180       1  0.926620         alk\n",
       "...     ...       ...         ...\n",
       "177       2  0.463168      widely\n",
       "177       5  0.463168      widely\n",
       "156       6  0.802029  widespread\n",
       "33        1  0.641146    windpipe\n",
       "149       1  0.640892        year\n",
       "\n",
       "[348 rows x 3 columns], R=30, lambda_step=0.01, plot_opts={'xlab': 'PC1', 'ylab': 'PC2'}, topic_order=[6, 1, 2, 5, 3, 4])"
      ]
     },
     "execution_count": 78,
     "metadata": {},
     "output_type": "execute_result"
    }
   ],
   "source": [
    "# Visualize the topics\n",
    "pyLDAvis.enable_notebook()\n",
    "vis = pyLDAvis.gensim.prepare(lda_model, corpus, id2word)\n",
    "vis\n"
   ]
  }
 ],
 "metadata": {
  "kernelspec": {
   "display_name": "Python 3",
   "language": "python",
   "name": "python3"
  },
  "language_info": {
   "codemirror_mode": {
    "name": "ipython",
    "version": 3
   },
   "file_extension": ".py",
   "mimetype": "text/x-python",
   "name": "python",
   "nbconvert_exporter": "python",
   "pygments_lexer": "ipython3",
   "version": "3.6.9"
  }
 },
 "nbformat": 4,
 "nbformat_minor": 1
}
