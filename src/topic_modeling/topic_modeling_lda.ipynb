{
 "cells": [
  {
   "cell_type": "code",
   "execution_count": 1,
   "metadata": {
    "pycharm": {
     "name": "#%%\n"
    }
   },
   "outputs": [
    {
     "name": "stderr",
     "output_type": "stream",
     "text": [
      "[nltk_data] Downloading package stopwords to\n",
      "[nltk_data]     /home/vantuan5644/nltk_data...\n",
      "[nltk_data]   Package stopwords is already up-to-date!\n"
     ]
    }
   ],
   "source": [
    "import re\n",
    "from pprint import pprint\n",
    "\n",
    "# Gensim\n",
    "import gensim\n",
    "import gensim.corpora as corpora\n",
    "import matplotlib.pyplot as plt\n",
    "import pandas as pd\n",
    "# Plotting tools\n",
    "import pyLDAvis.gensim  # don't skip this\n",
    "# spacy for lemmatization\n",
    "import spacy\n",
    "from gensim.models import CoherenceModel\n",
    "from gensim.utils import simple_preprocess\n",
    "%matplotlib inline\n",
    "\n",
    "from bs4 import BeautifulSoup\n",
    "\n",
    "# nltk\n",
    "import nltk\n",
    "nltk.download('stopwords')\n",
    "from nltk.corpus import stopwords\n",
    "\n",
    "# Enable logging for gensim - optional\n",
    "import logging\n",
    "logging.basicConfig(format='%(asctime)s : %(levelname)s : %(message)s', level=logging.ERROR)\n",
    "\n",
    "import warnings\n",
    "warnings.filterwarnings(\"ignore\",category=DeprecationWarning)"
   ]
  },
  {
   "cell_type": "code",
   "execution_count": 2,
   "metadata": {
    "pycharm": {
     "name": "#%%\n"
    }
   },
   "outputs": [
    {
     "data": {
      "text/html": [
       "<div>\n",
       "<style scoped>\n",
       "    .dataframe tbody tr th:only-of-type {\n",
       "        vertical-align: middle;\n",
       "    }\n",
       "\n",
       "    .dataframe tbody tr th {\n",
       "        vertical-align: top;\n",
       "    }\n",
       "\n",
       "    .dataframe thead th {\n",
       "        text-align: right;\n",
       "    }\n",
       "</style>\n",
       "<table border=\"1\" class=\"dataframe\">\n",
       "  <thead>\n",
       "    <tr style=\"text-align: right;\">\n",
       "      <th></th>\n",
       "      <th>stage_level</th>\n",
       "      <th>text</th>\n",
       "    </tr>\n",
       "  </thead>\n",
       "  <tbody>\n",
       "    <tr>\n",
       "      <th>0</th>\n",
       "      <td>0.0</td>\n",
       "      <td>Because stage 0 NSCLC is limited to the lining...</td>\n",
       "    </tr>\n",
       "    <tr>\n",
       "      <th>1</th>\n",
       "      <td>1.0</td>\n",
       "      <td>If you have stage I NSCLC, surgery may be the ...</td>\n",
       "    </tr>\n",
       "    <tr>\n",
       "      <th>2</th>\n",
       "      <td>2.0</td>\n",
       "      <td>People who have stage II NSCLC and are healthy...</td>\n",
       "    </tr>\n",
       "    <tr>\n",
       "      <th>3</th>\n",
       "      <td>3.0</td>\n",
       "      <td>Treatment for stage IIIA NSCLC may include som...</td>\n",
       "    </tr>\n",
       "    <tr>\n",
       "      <th>4</th>\n",
       "      <td>4.0</td>\n",
       "      <td>Stage IV NSCLC is widespread when it is diagno...</td>\n",
       "    </tr>\n",
       "  </tbody>\n",
       "</table>\n",
       "</div>"
      ],
      "text/plain": [
       "   stage_level                                               text\n",
       "0          0.0  Because stage 0 NSCLC is limited to the lining...\n",
       "1          1.0  If you have stage I NSCLC, surgery may be the ...\n",
       "2          2.0  People who have stage II NSCLC and are healthy...\n",
       "3          3.0  Treatment for stage IIIA NSCLC may include som...\n",
       "4          4.0  Stage IV NSCLC is widespread when it is diagno..."
      ]
     },
     "execution_count": 2,
     "metadata": {},
     "output_type": "execute_result"
    }
   ],
   "source": [
    "data = pd.read_csv('../../ground_truths/ground_truth.csv')\n",
    "data.head()\n",
    "stage_level = data[['text', 'stage_level']].groupby('stage_level').agg({'text': lambda text: ' '.join(text),\n",
    "                                                                        })\n",
    "data = stage_level.reset_index(level=0)\n",
    "data"
   ]
  },
  {
   "cell_type": "code",
   "execution_count": 28,
   "metadata": {
    "pycharm": {
     "name": "#%%\n"
    }
   },
   "outputs": [
    {
     "name": "stdout",
     "output_type": "stream",
     "text": [
      "Because stage 0 NSCLC is limited to the lining layer of airways and has not invaded deeper into the lung tissue or other areas, it is usually curable by surgery alone. No chemotherapy or radiation therapy is needed. If you are healthy enough for surgery, you can usually be treated by segmentectomy or wedge resection (removal of part of the lobe of the lung). Cancers in some locations (such as where the windpipe divides into the left and right main bronchi) may be treated with a sleeve resection, but in some cases they may be hard to remove completely without removing a lobe (lobectomy) or even an entire lung (pneumonectomy). For some stage 0 cancers, treatments such as photodynamic therapy (PDT), laser therapy, or brachytherapy (internal radiation) may be alternatives to surgery. If your cancer is truly stage 0, these treatments should cure you.\n"
     ]
    }
   ],
   "source": [
    "doc = list(data['text'].values)\n",
    "print(doc[0])"
   ]
  },
  {
   "cell_type": "code",
   "execution_count": 4,
   "metadata": {
    "pycharm": {
     "name": "#%%\n"
    }
   },
   "outputs": [],
   "source": [
    "# Remove punctuations, tokenizing\n",
    "def sent_to_words(sentences):\n",
    "    for sentence in sentences:\n",
    "        yield gensim.utils.simple_preprocess(str(sentence), deacc=False)"
   ]
  },
  {
   "cell_type": "code",
   "execution_count": 5,
   "metadata": {
    "pycharm": {
     "name": "#%%\n"
    }
   },
   "outputs": [],
   "source": [
    "stop_words = set(stopwords.words('english'))\n",
    "def text_cleaner(text, remove_short_words=False, remove_xml_tag=False):\n",
    "    newString = text.lower()\n",
    "    if remove_xml_tag:\n",
    "        newString = BeautifulSoup(newString, \"lxml\").text\n",
    "    newString = re.sub(r'\\([^)]*\\)', '', newString)\n",
    "    newString = re.sub('\"','', newString)\n",
    "    newString = re.sub(r\"'s\\b\",\"\",newString)\n",
    "    newString = re.sub('\\n+', ' ', newString)\n",
    "    newString = re.sub(\"[^a-zA-Z0-9]\", \" \", newString)\n",
    "    tokens = [w for w in newString.split() if not w in stop_words]\n",
    "    if remove_short_words:\n",
    "        long_words=[]\n",
    "        for i in tokens:\n",
    "            if len(i) >= 3:                  # removing short word\n",
    "                long_words.append(i)\n",
    "        return long_words\n",
    "    else:\n",
    "        return tokens"
   ]
  },
  {
   "cell_type": "code",
   "execution_count": 6,
   "metadata": {
    "pycharm": {
     "name": "#%%\n"
    }
   },
   "outputs": [
    {
     "name": "stdout",
     "output_type": "stream",
     "text": [
      "['stage',\n",
      " '0',\n",
      " 'nsclc',\n",
      " 'limited',\n",
      " 'lining',\n",
      " 'layer',\n",
      " 'airways',\n",
      " 'invaded',\n",
      " 'deeper',\n",
      " 'lung']\n"
     ]
    }
   ],
   "source": [
    "# data_words = list(sent_to_words(doc))\n",
    "data_words = [text_cleaner(d) for d in doc]\n",
    "pprint(data_words[0][:10])"
   ]
  },
  {
   "cell_type": "code",
   "execution_count": 7,
   "metadata": {
    "pycharm": {
     "name": "#%%\n"
    }
   },
   "outputs": [],
   "source": [
    "# Creating Bigram and Trigram models\n",
    "bigram = gensim.models.Phrases(data_words, min_count=5, threshold=100)\n",
    "# higher threshold fewer phrases.\n",
    "trigram = gensim.models.Phrases(bigram[data_words], threshold=100)\n",
    "\n",
    "# Faster way to get a sentence clubbed as a trigram/bigram\n",
    "bigram_mod = gensim.models.phrases.Phraser(bigram)\n",
    "trigram_mod = gensim.models.phrases.Phraser(trigram)\n",
    "\n",
    "# See trigram example\n",
    "# print(trigram_mod[bigram_mod[data_words[1]]])\n"
   ]
  },
  {
   "cell_type": "code",
   "execution_count": 8,
   "metadata": {
    "pycharm": {
     "name": "#%%\n"
    }
   },
   "outputs": [],
   "source": [
    "nlp = spacy.load('en', disable=['parser', 'ner'])\n",
    "from spacy.lang.en.stop_words import STOP_WORDS\n"
   ]
  },
  {
   "cell_type": "code",
   "execution_count": 9,
   "metadata": {
    "pycharm": {
     "name": "#%%\n"
    }
   },
   "outputs": [],
   "source": [
    "# Remove stopwords, make biagrams and lemmatize\n",
    "\n",
    "def remove_stopwords(texts):\n",
    "    return [[word for word in simple_preprocess(str(doc)) if word not in STOP_WORDS] for doc in texts]\n",
    "\n",
    "def make_bigrams(texts):\n",
    "    return [bigram_mod[doc] for doc in texts]\n",
    "\n",
    "def make_trigrams(texts):\n",
    "    return [trigram_mod[bigram_mod[doc]] for doc in texts]\n",
    "\n",
    "def lemmatization(texts, allowed_postags=['NOUN', 'ADJ', 'VERB', 'ADV']):\n",
    "    \"\"\"https://spacy.io/api/annotation\"\"\"\n",
    "    texts_out = []\n",
    "    for sent in texts:\n",
    "        doc = nlp(\" \".join(sent))\n",
    "        texts_out.append([token.lemma_ for token in doc if token.pos_ in allowed_postags])\n",
    "    return texts_out"
   ]
  },
  {
   "cell_type": "code",
   "execution_count": 10,
   "metadata": {
    "pycharm": {
     "name": "#%%\n"
    }
   },
   "outputs": [
    {
     "name": "stdout",
     "output_type": "stream",
     "text": [
      "['stage', 'limited', 'line', 'layer', 'airway', 'invade', 'deep', 'lung', 'tissue', 'area', 'usually', 'curable', 'surgery', 'alone', 'chemotherapy', 'radiation', 'therapy', 'need', 'healthy', 'enough', 'surgery', 'usually', 'treat', 'resection', 'cancer', 'location', 'may', 'treat', 'resection', 'case', 'may', 'hard', 'remove', 'completely', 'remove', 'lobe', 'even', 'entire', 'lung', 'stage', 'cancer', 'treatment', 'photodynamic', 'therapy', 'laser', 'therapy', 'may', 'alternatives', 'surgery', 'cancer', 'truly', 'stage', 'treatment', 'cure']\n"
     ]
    }
   ],
   "source": [
    "# data_words_nostops = remove_stopwords(data_words)\n",
    "\n",
    "# Form Bigrams\n",
    "data_words_bigrams = make_bigrams(data_words)\n",
    "\n",
    "# Do lemmatization keeping only noun, adj, vb, adv\n",
    "data_lemmatized = lemmatization(data_words_bigrams, allowed_postags=['NOUN', 'ADJ', 'VERB', 'ADV'])\n",
    "\n",
    "print(data_lemmatized[0])"
   ]
  },
  {
   "cell_type": "code",
   "execution_count": 11,
   "metadata": {
    "pycharm": {
     "name": "#%%\n"
    }
   },
   "outputs": [
    {
     "name": "stdout",
     "output_type": "stream",
     "text": [
      "[[(1, 1), (2, 1), (4, 1), (6, 1), (7, 1), (8, 1), (9, 1), (11, 1), (12, 1), (13, 1), (14, 1), (15, 1), (17, 1), (18, 1), (19, 1), (21, 1), (23, 2), (24, 3), (26, 1), (27, 1), (28, 1), (29, 2), (30, 3), (31, 3), (32, 3), (33, 1), (36, 1), (37, 2), (77, 1)]]\n"
     ]
    }
   ],
   "source": [
    "# Create the Dictionary and Corpus\n",
    "# Create Dictionary\n",
    "id2word = corpora.Dictionary(data_lemmatized)\n",
    "\n",
    "# Create Corpus\n",
    "texts = data_words\n",
    "\n",
    "# Term Document Frequency\n",
    "corpus = [id2word.doc2bow(text) for text in texts]\n",
    "\n",
    "# View\n",
    "print(corpus[:1])"
   ]
  },
  {
   "cell_type": "code",
   "execution_count": 12,
   "metadata": {
    "pycharm": {
     "name": "#%%\n"
    },
    "scrolled": true
   },
   "outputs": [
    {
     "data": {
      "text/plain": [
       "[[('alone', 1),\n",
       "  ('alternatives', 1),\n",
       "  ('cancer', 1),\n",
       "  ('chemotherapy', 1),\n",
       "  ('completely', 1),\n",
       "  ('curable', 1),\n",
       "  ('cure', 1),\n",
       "  ('enough', 1),\n",
       "  ('entire', 1),\n",
       "  ('even', 1),\n",
       "  ('hard', 1),\n",
       "  ('healthy', 1),\n",
       "  ('laser', 1),\n",
       "  ('layer', 1),\n",
       "  ('limited', 1),\n",
       "  ('lobe', 1),\n",
       "  ('lung', 2),\n",
       "  ('may', 3),\n",
       "  ('photodynamic', 1),\n",
       "  ('radiation', 1),\n",
       "  ('remove', 1),\n",
       "  ('resection', 2),\n",
       "  ('stage', 3),\n",
       "  ('surgery', 3),\n",
       "  ('therapy', 3),\n",
       "  ('tissue', 1),\n",
       "  ('truly', 1),\n",
       "  ('usually', 2),\n",
       "  ('nsclc', 1)]]"
      ]
     },
     "execution_count": 12,
     "metadata": {},
     "output_type": "execute_result"
    }
   ],
   "source": [
    "# Corpus format: (word_id: freq)\n",
    "[[(id2word[id], freq) for id, freq in cp] for cp in corpus[:1]]\n"
   ]
  },
  {
   "cell_type": "code",
   "execution_count": 13,
   "metadata": {
    "pycharm": {
     "name": "#%%\n"
    }
   },
   "outputs": [],
   "source": [
    "# Choose the optimal number of topics\n",
    "# By choosing a 'k' that gives the highest coherence value\n",
    "\n",
    "def compute_coherence_values(dictionary, corpus, texts, limit, start=2, step=1):\n",
    "    \"\"\"\n",
    "    Compute c_v coherence for various number of topics\n",
    "\n",
    "    Parameters:\n",
    "    ----------\n",
    "    dictionary : Gensim dictionary\n",
    "    corpus : Gensim corpus\n",
    "    texts : List of input texts\n",
    "    limit : Max num of topics\n",
    "\n",
    "    Returns:\n",
    "    -------\n",
    "    model_list : List of LDA topic models\n",
    "    coherence_values : Coherence values corresponding to the LDA model with respective number of topics\n",
    "    \"\"\"\n",
    "    coherence_values = []\n",
    "    model_list = []\n",
    "    for num_topics in range(start, limit, step):\n",
    "        model = gensim.models.ldamodel.LdaModel(corpus=corpus, num_topics=num_topics, id2word=id2word)\n",
    "        model_list.append(model)\n",
    "        coherencemodel = CoherenceModel(model=model, texts=texts, dictionary=dictionary, coherence='c_v')\n",
    "        coherence_values.append(coherencemodel.get_coherence())\n",
    "\n",
    "    return model_list, coherence_values\n"
   ]
  },
  {
   "cell_type": "code",
   "execution_count": 19,
   "metadata": {
    "pycharm": {
     "name": "#%%\n"
    }
   },
   "outputs": [
    {
     "data": {
      "image/png": "[encoded data removed]",
      "text/plain": [
       "<Figure size 432x288 with 1 Axes>"
      ]
     },
     "metadata": {
      "needs_background": "light"
     },
     "output_type": "display_data"
    }
   ],
   "source": [
    "limit=10; start=1; step=1\n",
    "model_list, coherence_values = compute_coherence_values(dictionary=id2word, corpus=corpus, texts=data_words, start=start, limit=limit, step=step)\n",
    "# Show graph\n",
    "x = range(start, limit, step)\n",
    "plt.plot(x, coherence_values)\n",
    "plt.xlabel(\"Num Topics\")\n",
    "plt.ylabel(\"Coherence score\")\n",
    "plt.legend((\"coherence_values\"), loc='best')\n",
    "plt.show()\n"
   ]
  },
  {
   "cell_type": "code",
   "execution_count": 21,
   "metadata": {
    "pycharm": {
     "name": "#%%\n"
    }
   },
   "outputs": [],
   "source": [
    "# Select the model with the best coherence score\n",
    "def select_model(model_list, num_topics_desired: int, start, step):\n",
    "    model_idx = (num_topics_desired - start) / step\n",
    "    return model_list[int(model_idx)]\n",
    "\n",
    "model = select_model(model_list,\n",
    "                     num_topics_desired=2,\n",
    "                     start=start,\n",
    "                     step=step)"
   ]
  },
  {
   "cell_type": "code",
   "execution_count": 22,
   "metadata": {
    "pycharm": {
     "name": "#%%\n"
    }
   },
   "outputs": [
    {
     "name": "stdout",
     "output_type": "stream",
     "text": [
      "[(0,\n",
      "  '0.034*\"cancer\" + 0.029*\"surgery\" + 0.027*\"may\" + 0.019*\"radiation\" + '\n",
      "  '0.019*\"stage\" + 0.017*\"therapy\" + 0.016*\"treatment\" + 0.014*\"lung\" + '\n",
      "  '0.011*\"chemo\" + 0.010*\"nsclc\"'),\n",
      " (1,\n",
      "  '0.041*\"treatment\" + 0.037*\"may\" + 0.033*\"surgery\" + 0.033*\"cancer\" + '\n",
      "  '0.028*\"therapy\" + 0.027*\"radiation\" + 0.024*\"chemo\" + 0.023*\"people\" + '\n",
      "  '0.018*\"lung\" + 0.018*\"nsclc\"')]\n"
     ]
    }
   ],
   "source": [
    "# Show the topics\n",
    "model_topics = model.show_topics(formatted=False)\n",
    "pprint(model.print_topics(num_words=10))"
   ]
  },
  {
   "cell_type": "code",
   "execution_count": 23,
   "metadata": {
    "pycharm": {
     "name": "#%%\n"
    }
   },
   "outputs": [],
   "source": [
    "# Find the dominant topic in each paragraph\n",
    "\n",
    "def format_topics_sentences(lda_model, corpus, texts):\n",
    "    sent_topics_df = pd.DataFrame()\n",
    "    for i, row in enumerate(lda_model[corpus]):\n",
    "        row = sorted(row, key=lambda x: (x[1]), reverse=True)\n",
    "        # Sort by word frequency\n",
    "        for j, (topic_num, prop_topic) in enumerate(row):\n",
    "            if j == 0:  # => dominant topic\n",
    "                wp = lda_model.show_topic(topic_num)\n",
    "                topic_keywords = \", \".join([word for word, prop in wp])\n",
    "                sent_topics_df = sent_topics_df.append(pd.Series([int(topic_num), round(prop_topic,4), topic_keywords]), ignore_index=True)\n",
    "            else:\n",
    "                break\n",
    "    sent_topics_df.columns = ['Dominant_Topic', 'Perc_Contribution', 'Topic_Keywords']\n",
    "    # Add original text to the end of the output\n",
    "    contents = pd.Series(texts)\n",
    "    sent_topics_df = pd.concat([sent_topics_df, contents], axis=1)\n",
    "    return sent_topics_df"
   ]
  },
  {
   "cell_type": "code",
   "execution_count": 24,
   "metadata": {
    "pycharm": {
     "name": "#%%\n"
    }
   },
   "outputs": [
    {
     "data": {
      "text/html": [
       "<div>\n",
       "<style scoped>\n",
       "    .dataframe tbody tr th:only-of-type {\n",
       "        vertical-align: middle;\n",
       "    }\n",
       "\n",
       "    .dataframe tbody tr th {\n",
       "        vertical-align: top;\n",
       "    }\n",
       "\n",
       "    .dataframe thead th {\n",
       "        text-align: right;\n",
       "    }\n",
       "</style>\n",
       "<table border=\"1\" class=\"dataframe\">\n",
       "  <thead>\n",
       "    <tr style=\"text-align: right;\">\n",
       "      <th></th>\n",
       "      <th>Document_No</th>\n",
       "      <th>Dominant_Topic</th>\n",
       "      <th>Topic_Perc_Contrib</th>\n",
       "      <th>Keywords</th>\n",
       "      <th>Text</th>\n",
       "    </tr>\n",
       "  </thead>\n",
       "  <tbody>\n",
       "    <tr>\n",
       "      <th>0</th>\n",
       "      <td>0</td>\n",
       "      <td>1.0</td>\n",
       "      <td>0.9603</td>\n",
       "      <td>treatment, may, surgery, cancer, therapy, radi...</td>\n",
       "      <td>Because stage 0 NSCLC is limited to the lining...</td>\n",
       "    </tr>\n",
       "    <tr>\n",
       "      <th>1</th>\n",
       "      <td>1</td>\n",
       "      <td>1.0</td>\n",
       "      <td>0.7913</td>\n",
       "      <td>treatment, may, surgery, cancer, therapy, radi...</td>\n",
       "      <td>If you have stage I NSCLC, surgery may be the ...</td>\n",
       "    </tr>\n",
       "    <tr>\n",
       "      <th>2</th>\n",
       "      <td>2</td>\n",
       "      <td>0.0</td>\n",
       "      <td>0.7204</td>\n",
       "      <td>cancer, surgery, may, radiation, stage, therap...</td>\n",
       "      <td>People who have stage II NSCLC and are healthy...</td>\n",
       "    </tr>\n",
       "    <tr>\n",
       "      <th>3</th>\n",
       "      <td>3</td>\n",
       "      <td>1.0</td>\n",
       "      <td>0.9953</td>\n",
       "      <td>treatment, may, surgery, cancer, therapy, radi...</td>\n",
       "      <td>Treatment for stage IIIA NSCLC may include som...</td>\n",
       "    </tr>\n",
       "    <tr>\n",
       "      <th>4</th>\n",
       "      <td>4</td>\n",
       "      <td>1.0</td>\n",
       "      <td>0.9978</td>\n",
       "      <td>treatment, may, surgery, cancer, therapy, radi...</td>\n",
       "      <td>Stage IV NSCLC is widespread when it is diagno...</td>\n",
       "    </tr>\n",
       "  </tbody>\n",
       "</table>\n",
       "</div>"
      ],
      "text/plain": [
       "   Document_No  Dominant_Topic  Topic_Perc_Contrib  \\\n",
       "0            0             1.0              0.9603   \n",
       "1            1             1.0              0.7913   \n",
       "2            2             0.0              0.7204   \n",
       "3            3             1.0              0.9953   \n",
       "4            4             1.0              0.9978   \n",
       "\n",
       "                                            Keywords  \\\n",
       "0  treatment, may, surgery, cancer, therapy, radi...   \n",
       "1  treatment, may, surgery, cancer, therapy, radi...   \n",
       "2  cancer, surgery, may, radiation, stage, therap...   \n",
       "3  treatment, may, surgery, cancer, therapy, radi...   \n",
       "4  treatment, may, surgery, cancer, therapy, radi...   \n",
       "\n",
       "                                                Text  \n",
       "0  Because stage 0 NSCLC is limited to the lining...  \n",
       "1  If you have stage I NSCLC, surgery may be the ...  \n",
       "2  People who have stage II NSCLC and are healthy...  \n",
       "3  Treatment for stage IIIA NSCLC may include som...  \n",
       "4  Stage IV NSCLC is widespread when it is diagno...  "
      ]
     },
     "execution_count": 24,
     "metadata": {},
     "output_type": "execute_result"
    }
   ],
   "source": [
    "df_topic_sents_keywords = format_topics_sentences(lda_model=model, corpus=corpus, texts=doc)\n",
    "\n",
    "# Format\n",
    "df_dominant_topic = df_topic_sents_keywords.reset_index()\n",
    "df_dominant_topic.columns = ['Document_No', 'Dominant_Topic', 'Topic_Perc_Contrib', 'Keywords', 'Text']\n",
    "\n",
    "# Show\n",
    "df_dominant_topic.head()"
   ]
  },
  {
   "cell_type": "code",
   "execution_count": 25,
   "metadata": {
    "pycharm": {
     "name": "#%%\n"
    },
    "scrolled": true
   },
   "outputs": [
    {
     "data": {
      "text/html": [
       "<div>\n",
       "<style scoped>\n",
       "    .dataframe tbody tr th:only-of-type {\n",
       "        vertical-align: middle;\n",
       "    }\n",
       "\n",
       "    .dataframe tbody tr th {\n",
       "        vertical-align: top;\n",
       "    }\n",
       "\n",
       "    .dataframe thead th {\n",
       "        text-align: right;\n",
       "    }\n",
       "</style>\n",
       "<table border=\"1\" class=\"dataframe\">\n",
       "  <thead>\n",
       "    <tr style=\"text-align: right;\">\n",
       "      <th></th>\n",
       "      <th>Document_No</th>\n",
       "      <th>Dominant_Topic</th>\n",
       "      <th>Topic_Perc_Contrib</th>\n",
       "      <th>Keywords</th>\n",
       "      <th>Text</th>\n",
       "    </tr>\n",
       "  </thead>\n",
       "  <tbody>\n",
       "    <tr>\n",
       "      <th>0</th>\n",
       "      <td>2</td>\n",
       "      <td>0.0</td>\n",
       "      <td>0.7204</td>\n",
       "      <td>cancer, surgery, may, radiation, stage, therap...</td>\n",
       "      <td>People who have stage II NSCLC and are healthy...</td>\n",
       "    </tr>\n",
       "    <tr>\n",
       "      <th>1</th>\n",
       "      <td>4</td>\n",
       "      <td>1.0</td>\n",
       "      <td>0.9978</td>\n",
       "      <td>treatment, may, surgery, cancer, therapy, radi...</td>\n",
       "      <td>Stage IV NSCLC is widespread when it is diagno...</td>\n",
       "    </tr>\n",
       "  </tbody>\n",
       "</table>\n",
       "</div>"
      ],
      "text/plain": [
       "   Document_No  Dominant_Topic  Topic_Perc_Contrib  \\\n",
       "0            2             0.0              0.7204   \n",
       "1            4             1.0              0.9978   \n",
       "\n",
       "                                            Keywords  \\\n",
       "0  cancer, surgery, may, radiation, stage, therap...   \n",
       "1  treatment, may, surgery, cancer, therapy, radi...   \n",
       "\n",
       "                                                Text  \n",
       "0  People who have stage II NSCLC and are healthy...  \n",
       "1  Stage IV NSCLC is widespread when it is diagno...  "
      ]
     },
     "execution_count": 25,
     "metadata": {},
     "output_type": "execute_result"
    }
   ],
   "source": [
    "# Find the most representative document for each topic\n",
    "\n",
    "def top_k_docs_for_each_topic(k):\n",
    "    topic_representatives = pd.DataFrame()\n",
    "    for i, group in df_dominant_topic.groupby('Dominant_Topic'):\n",
    "        topic_representatives = pd.concat([topic_representatives,\n",
    "                                                 group.sort_values(['Topic_Perc_Contrib'], ascending=[0]).head(k)],\n",
    "                                                axis=0)\n",
    "    topic_representatives.reset_index(drop=True, inplace=True)\n",
    "\n",
    "    # Format\n",
    "    # topic_representatives.columns = ['Topic_Num', \"Topic_Perc_Contrib\", \"Keywords\", \"Text\"]\n",
    "\n",
    "    return topic_representatives\n",
    "\n",
    "\n",
    "# Show\n",
    "top_k_docs_for_each_topic(1).head()"
   ]
  },
  {
   "cell_type": "code",
   "execution_count": 26,
   "metadata": {
    "pycharm": {
     "name": "#%%\n"
    }
   },
   "outputs": [
    {
     "data": {
      "text/html": [
       "<div>\n",
       "<style scoped>\n",
       "    .dataframe tbody tr th:only-of-type {\n",
       "        vertical-align: middle;\n",
       "    }\n",
       "\n",
       "    .dataframe tbody tr th {\n",
       "        vertical-align: top;\n",
       "    }\n",
       "\n",
       "    .dataframe thead th {\n",
       "        text-align: right;\n",
       "    }\n",
       "</style>\n",
       "<table border=\"1\" class=\"dataframe\">\n",
       "  <thead>\n",
       "    <tr style=\"text-align: right;\">\n",
       "      <th></th>\n",
       "      <th>Dominant_Topic</th>\n",
       "      <th>Topic_Keywords</th>\n",
       "      <th>Num_Documents</th>\n",
       "      <th>Perc_Documents</th>\n",
       "    </tr>\n",
       "  </thead>\n",
       "  <tbody>\n",
       "    <tr>\n",
       "      <th>0.0</th>\n",
       "      <td>0.0</td>\n",
       "      <td>cancer, surgery, may, radiation, stage, therap...</td>\n",
       "      <td>1</td>\n",
       "      <td>0.2</td>\n",
       "    </tr>\n",
       "    <tr>\n",
       "      <th>1.0</th>\n",
       "      <td>1.0</td>\n",
       "      <td>treatment, may, surgery, cancer, therapy, radi...</td>\n",
       "      <td>4</td>\n",
       "      <td>0.8</td>\n",
       "    </tr>\n",
       "  </tbody>\n",
       "</table>\n",
       "</div>"
      ],
      "text/plain": [
       "     Dominant_Topic                                     Topic_Keywords  \\\n",
       "0.0             0.0  cancer, surgery, may, radiation, stage, therap...   \n",
       "1.0             1.0  treatment, may, surgery, cancer, therapy, radi...   \n",
       "\n",
       "     Num_Documents  Perc_Documents  \n",
       "0.0              1             0.2  \n",
       "1.0              4             0.8  "
      ]
     },
     "execution_count": 26,
     "metadata": {},
     "output_type": "execute_result"
    }
   ],
   "source": [
    "# Topic volume distribution\n",
    "# Number of Documents for Each Topic\n",
    "topic_counts = df_topic_sents_keywords['Dominant_Topic'].value_counts()\n",
    "\n",
    "# Percentage of Documents for Each Topic\n",
    "topic_contribution = round(topic_counts/topic_counts.sum(), 4)\n",
    "\n",
    "# Topic Number and Keywords\n",
    "topic_num_keywords = top_k_docs_for_each_topic(1)[['Dominant_Topic', 'Keywords']]\n",
    "\n",
    "# Concatenate Column wise\n",
    "df_dominant_topics = pd.concat([topic_num_keywords, topic_counts, topic_contribution], axis=1)\n",
    "\n",
    "# Change Column names\n",
    "df_dominant_topics.columns = ['Dominant_Topic', 'Topic_Keywords', 'Num_Documents', 'Perc_Documents']\n",
    "\n",
    "# Show\n",
    "df_dominant_topics\n"
   ]
  },
  {
   "cell_type": "code",
   "execution_count": 32,
   "metadata": {
    "pycharm": {
     "name": "#%%\n"
    }
   },
   "outputs": [
    {
     "data": {
      "text/html": [
       "\n",
       "<link rel=\"stylesheet\" type=\"text/css\" href=\"https://cdn.rawgit.com/bmabey/pyLDAvis/files/ldavis.v1.0.0.css\">\n",
       "\n",
       "\n",
       "<div id=\"ldavis_el58801399738587164327540476743\"></div>\n",
       "<script type=\"text/javascript\">\n",
       "\n",
       "var ldavis_el58801399738587164327540476743_data = {\"mdsDat\": {\"x\": [0.01720181107521057, -0.01720181107521057], \"y\": [0.0, 0.0], \"topics\": [1, 2], \"cluster\": [1, 1], \"Freq\": [87.39813232421875, 12.601858139038086]}, \"tinfo\": {\"Term\": [\"cancer\", \"surgery\", \"may\", \"stage\", \"radiation\", \"therapy\", \"lung\", \"lymph\", \"usually\", \"healthy\", \"option\", \"treatment\", \"tumor\", \"resection\", \"tissue\", \"nsclc\", \"sometimes\", \"see\", \"try\", \"help\", \"chemotherapy\", \"behind\", \"enough\", \"likely\", \"second\", \"chemo\", \"health\", \"lab\", \"left\", \"lobe\", \"used\", \"drug\", \"spread\", \"gene\", \"immunotherapy\", \"treatment\", \"people\", \"bevacizumab\", \"chemo\", \"pembrolizumab\", \"often\", \"first\", \"part\", \"cell\", \"change\", \"squamous\", \"nsclc\", \"good\", \"therapy\", \"certain\", \"alk\", \"fluid\", \"health\", \"overall\", \"placement\", \"radiation\", \"cure\", \"example\", \"chemoradiation\", \"also\", \"may\", \"lung\", \"option\", \"surgery\", \"cancer\", \"tumor\", \"stage\", \"likely\", \"enough\", \"chemotherapy\", \"help\", \"usually\", \"healthy\", \"second\", \"destroy\", \"involvement\", \"benefit\", \"cause\", \"bleed\", \"margin\", \"plan\", \"recommend\", \"remain\", \"continue\", \"combine\", \"consider\", \"give\", \"follow\", \"require\", \"stay\", \"structure\", \"think\", \"base\", \"grow\", \"work\", \"factor\", \"edge\", \"deep\", \"invade\", \"line\", \"location\", \"check\", \"come\", \"next\", \"would\", \"lab\", \"need\", \"extent\", \"adjuvant\", \"tissue\", \"new\", \"node\", \"test\", \"lymph\", \"remove\", \"positive\", \"lower\", \"step\", \"see\", \"lobectomy\", \"try\", \"cancer\", \"mean\", \"behind\", \"stage\", \"surgery\", \"serious\", \"medical\", \"resection\", \"truly\", \"may\", \"healthy\", \"usually\", \"radiation\", \"sometimes\", \"lung\", \"therapy\", \"option\", \"left\", \"treatment\", \"tumor\", \"nsclc\", \"chemo\", \"help\", \"chemotherapy\", \"enough\", \"people\", \"health\", \"likely\", \"also\", \"even\"], \"Freq\": [21.0, 20.0, 22.0, 10.0, 16.0, 17.0, 11.0, 4.0, 5.0, 5.0, 8.0, 24.0, 6.0, 3.0, 2.0, 10.0, 3.0, 2.0, 2.0, 5.0, 5.0, 2.0, 5.0, 5.0, 1.0, 14.0, 7.0, 1.0, 2.0, 2.0, 9.327803611755371, 6.216221332550049, 8.50979232788086, 5.4046149253845215, 6.153680324554443, 23.029560089111328, 12.88978385925293, 3.767707109451294, 13.536689758300781, 4.487545490264893, 6.721156120300293, 4.471719264984131, 3.6810708045959473, 2.939243793487549, 2.928398609161377, 2.8987960815429688, 10.138883590698242, 4.33762264251709, 15.884492874145508, 3.5886003971099854, 2.862093210220337, 2.857869863510132, 7.089878082275391, 3.5308914184570312, 2.1164839267730713, 15.42896842956543, 4.200703144073486, 2.0986578464508057, 2.794257164001465, 5.581186771392822, 20.662771224975586, 10.28757381439209, 7.570530414581299, 18.505918502807617, 18.48617172241211, 6.080145835876465, 9.284900665283203, 4.643128871917725, 4.627246379852295, 4.608964443206787, 4.599573135375977, 4.997685432434082, 4.285072326660156, 0.5391086935997009, 0.3561551570892334, 0.3541255295276642, 0.3483886420726776, 0.16909150779247284, 0.16909150779247284, 0.16909150779247284, 0.16909150779247284, 0.16909150779247284, 0.16909150779247284, 0.16909150779247284, 0.16909150779247284, 0.16909150779247284, 0.16909150779247284, 0.16909150779247284, 0.16909150779247284, 0.16909150779247284, 0.16909150779247284, 0.16909150779247284, 0.16909150779247284, 0.16909150779247284, 0.16909150779247284, 0.16909150779247284, 0.16909150779247284, 0.16909150779247284, 0.16909150779247284, 0.16909150779247284, 0.16909150779247284, 0.16909150779247284, 0.16909150779247284, 0.33353912830352783, 0.3301776051521301, 0.48223623633384705, 0.47521597146987915, 0.32479479908943176, 0.4707993268966675, 0.6015989184379578, 0.31348246335983276, 0.3109314739704132, 0.16909150779247284, 0.8012653589248657, 0.44016557931900024, 0.3085477650165558, 0.306673139333725, 0.3055216670036316, 0.5467795133590698, 0.42922815680503845, 0.5437670350074768, 2.732464551925659, 0.42501652240753174, 0.5299649834632874, 1.5193356275558472, 2.386765718460083, 0.40976276993751526, 0.4092586636543274, 0.6121727228164673, 0.29584017395973206, 2.2376327514648438, 0.7273555994033813, 0.7928152680397034, 1.5352659225463867, 0.5703490972518921, 1.1356394290924072, 1.3609834909439087, 0.8227522969245911, 0.47956517338752747, 1.3319549560546875, 0.7167164087295532, 0.8543601632118225, 0.9067887663841248, 0.6069654226303101, 0.6034253239631653, 0.596410870552063, 0.8161388635635376, 0.6684854626655579, 0.5903429388999939, 0.5695403218269348, 0.49270039796829224], \"Total\": [21.0, 20.0, 22.0, 10.0, 16.0, 17.0, 11.0, 4.0, 5.0, 5.0, 8.0, 24.0, 6.0, 3.0, 2.0, 10.0, 3.0, 2.0, 2.0, 5.0, 5.0, 2.0, 5.0, 5.0, 1.0, 14.0, 7.0, 1.0, 2.0, 2.0, 9.816207885742188, 6.54274845123291, 8.973045349121094, 5.703564643859863, 6.504156589508057, 24.361515045166016, 13.705923080444336, 4.016716480255127, 14.44347858428955, 4.799263000488281, 7.192605018615723, 4.789492607116699, 3.9632482528686523, 3.1671204566955566, 3.160440444946289, 3.142155885696411, 10.993244171142578, 4.706687927246094, 17.24547576904297, 3.906160593032837, 3.1194982528686523, 3.116870403289795, 7.758363723754883, 3.8705272674560547, 2.321058988571167, 16.9642333984375, 4.622190475463867, 2.3100523948669434, 3.077622652053833, 6.150727272033691, 22.90040397644043, 11.423213005065918, 8.393282890319824, 20.892684936523438, 21.21863555908203, 6.7968621253967285, 10.80423641204834, 5.233471870422363, 5.223657131195068, 5.212389945983887, 5.206538677215576, 5.790500640869141, 5.012427806854248, 1.7814011573791504, 1.1928701400756836, 1.1961256265640259, 1.2054029703140259, 0.610949695110321, 0.610949695110321, 0.610949695110321, 0.610949695110321, 0.610949695110321, 0.610949695110321, 0.610949695110321, 0.610949695110321, 0.610949695110321, 0.610949695110321, 0.610949695110321, 0.610949695110321, 0.610949695110321, 0.610949695110321, 0.610949695110321, 0.610949695110321, 0.610949695110321, 0.610949695110321, 0.610949695110321, 0.610949695110321, 0.610949695110321, 0.610949695110321, 0.610949695110321, 0.610949695110321, 0.610949695110321, 0.610949695110321, 1.2293399572372437, 1.2347736358642578, 1.8731406927108765, 1.8844690322875977, 1.2434465885162354, 1.8916094303131104, 2.5642805099487305, 1.2616784572601318, 1.2658106088638306, 0.610949695110321, 4.009539604187012, 1.9410130977630615, 1.2696613073349, 1.272684931755066, 1.2745461463928223, 2.6526999473571777, 1.958655834197998, 2.6575896739959717, 21.21863555908203, 1.965455412864685, 2.6798269748687744, 10.80423641204834, 20.892684936523438, 1.9900683164596558, 1.990870475769043, 3.4308958053588867, 1.2901567220687866, 22.90040397644043, 5.012427806854248, 5.790500640869141, 16.9642333984375, 3.4983582496643066, 11.423213005065918, 17.24547576904297, 8.393282890319824, 2.761134147644043, 24.361515045166016, 6.7968621253967285, 10.993244171142578, 14.44347858428955, 5.206538677215576, 5.212389945983887, 5.223657131195068, 13.705923080444336, 7.758363723754883, 5.233471870422363, 6.150727272033691, 4.507294178009033], \"Category\": [\"Default\", \"Default\", \"Default\", \"Default\", \"Default\", \"Default\", \"Default\", \"Default\", \"Default\", \"Default\", \"Default\", \"Default\", \"Default\", \"Default\", \"Default\", \"Default\", \"Default\", \"Default\", \"Default\", \"Default\", \"Default\", \"Default\", \"Default\", \"Default\", \"Default\", \"Default\", \"Default\", \"Default\", \"Default\", \"Default\", \"Topic1\", \"Topic1\", \"Topic1\", \"Topic1\", \"Topic1\", \"Topic1\", \"Topic1\", \"Topic1\", \"Topic1\", \"Topic1\", \"Topic1\", \"Topic1\", \"Topic1\", \"Topic1\", \"Topic1\", \"Topic1\", \"Topic1\", \"Topic1\", \"Topic1\", \"Topic1\", \"Topic1\", \"Topic1\", \"Topic1\", \"Topic1\", \"Topic1\", \"Topic1\", \"Topic1\", \"Topic1\", \"Topic1\", \"Topic1\", \"Topic1\", \"Topic1\", \"Topic1\", \"Topic1\", \"Topic1\", \"Topic1\", \"Topic1\", \"Topic1\", \"Topic1\", \"Topic1\", \"Topic1\", \"Topic1\", \"Topic1\", \"Topic2\", \"Topic2\", \"Topic2\", \"Topic2\", \"Topic2\", \"Topic2\", \"Topic2\", \"Topic2\", \"Topic2\", \"Topic2\", \"Topic2\", \"Topic2\", \"Topic2\", \"Topic2\", \"Topic2\", \"Topic2\", \"Topic2\", \"Topic2\", \"Topic2\", \"Topic2\", \"Topic2\", \"Topic2\", \"Topic2\", \"Topic2\", \"Topic2\", \"Topic2\", \"Topic2\", \"Topic2\", \"Topic2\", \"Topic2\", \"Topic2\", \"Topic2\", \"Topic2\", \"Topic2\", \"Topic2\", \"Topic2\", \"Topic2\", \"Topic2\", \"Topic2\", \"Topic2\", \"Topic2\", \"Topic2\", \"Topic2\", \"Topic2\", \"Topic2\", \"Topic2\", \"Topic2\", \"Topic2\", \"Topic2\", \"Topic2\", \"Topic2\", \"Topic2\", \"Topic2\", \"Topic2\", \"Topic2\", \"Topic2\", \"Topic2\", \"Topic2\", \"Topic2\", \"Topic2\", \"Topic2\", \"Topic2\", \"Topic2\", \"Topic2\", \"Topic2\", \"Topic2\", \"Topic2\", \"Topic2\", \"Topic2\", \"Topic2\", \"Topic2\", \"Topic2\", \"Topic2\", \"Topic2\", \"Topic2\", \"Topic2\", \"Topic2\", \"Topic2\"], \"logprob\": [30.0, 29.0, 28.0, 27.0, 26.0, 25.0, 24.0, 23.0, 22.0, 21.0, 20.0, 19.0, 18.0, 17.0, 16.0, 15.0, 14.0, 13.0, 12.0, 11.0, 10.0, 9.0, 8.0, 7.0, 6.0, 5.0, 4.0, 3.0, 2.0, 1.0, -4.104700088500977, -4.510499954223633, -4.196400165557861, -4.650400161743164, -4.520599842071533, -3.200900077819824, -3.7811999320983887, -5.011199951171875, -3.7321999073028564, -4.836299896240234, -4.432400226593018, -4.839900016784668, -5.03439998626709, -5.259500026702881, -5.263199806213379, -5.273399829864502, -4.021299839019775, -4.870299816131592, -3.5722999572753906, -5.059899806976318, -5.286099910736084, -5.287600040435791, -4.379000186920166, -5.076099872589111, -5.587900161743164, -3.6013998985290527, -4.902400016784668, -5.596399784088135, -5.310100078582764, -4.618199825286865, -3.309299945831299, -4.006700038909912, -4.313399791717529, -3.419600009918213, -3.420599937438965, -4.532599925994873, -4.109300136566162, -4.802299976348877, -4.805699825286865, -4.809599876403809, -4.811699867248535, -4.728700160980225, -4.882500171661377, -5.018899917602539, -5.4334001541137695, -5.4390997886657715, -5.45550012588501, -6.178299903869629, -6.178299903869629, -6.178299903869629, -6.178299903869629, -6.178299903869629, -6.178299903869629, -6.178299903869629, -6.178299903869629, -6.178299903869629, -6.178299903869629, -6.178299903869629, -6.178299903869629, -6.178299903869629, -6.178299903869629, -6.178299903869629, -6.178299903869629, -6.178299903869629, -6.178299903869629, -6.178299903869629, -6.178299903869629, -6.178299903869629, -6.178299903869629, -6.178299903869629, -6.178299903869629, -6.178299903869629, -6.178299903869629, -5.499000072479248, -5.509099960327148, -5.130300045013428, -5.144999980926514, -5.525599956512451, -5.154300212860107, -4.909200191497803, -5.560999870300293, -5.569200038909912, -6.178299903869629, -4.622600078582764, -5.22160005569458, -5.576900005340576, -5.583000183105469, -5.5868000984191895, -5.004700183868408, -5.246799945831299, -5.010300159454346, -3.3958001136779785, -5.2565999031066895, -5.035999774932861, -3.9827001094818115, -3.531100034713745, -5.2932000160217285, -5.294400215148926, -4.8917999267578125, -5.61899995803833, -3.595599889755249, -4.719399929046631, -4.633200168609619, -3.9723000526428223, -4.962500095367432, -4.273799896240234, -4.092800140380859, -4.596099853515625, -5.135900020599365, -4.1143999099731445, -4.734099864959717, -4.5584001541137695, -4.498899936676025, -4.900300025939941, -4.906199932098389, -4.917799949645996, -4.6041998863220215, -4.803800106048584, -4.928100109100342, -4.963900089263916, -5.10890007019043], \"loglift\": [30.0, 29.0, 28.0, 27.0, 26.0, 25.0, 24.0, 23.0, 22.0, 21.0, 20.0, 19.0, 18.0, 17.0, 16.0, 15.0, 14.0, 13.0, 12.0, 11.0, 10.0, 9.0, 8.0, 7.0, 6.0, 5.0, 4.0, 3.0, 2.0, 1.0, 0.08370000123977661, 0.08349999785423279, 0.08169999718666077, 0.08089999854564667, 0.07930000126361847, 0.07850000262260437, 0.07329999655485153, 0.07069999724626541, 0.06989999860525131, 0.06750000268220901, 0.06689999997615814, 0.06599999964237213, 0.06080000102519989, 0.05999999865889549, 0.058400001376867294, 0.054099999368190765, 0.05380000174045563, 0.05299999937415123, 0.05249999836087227, 0.04989999905228615, 0.04859999939799309, 0.0478999987244606, 0.044599998742341995, 0.042899999767541885, 0.042399998754262924, 0.039799999445676804, 0.03909999877214432, 0.03869999945163727, 0.038100000470876694, 0.03750000149011612, 0.03189999982714653, 0.029999999329447746, 0.03150000050663948, 0.013399999588727951, -0.0031999999191612005, 0.02329999953508377, -0.016899999231100082, 0.014999999664723873, 0.013500000350177288, 0.011699999682605267, 0.010700000450015068, -0.012500000186264515, -0.022099999710917473, 0.8761000037193298, 0.8626000285148621, 0.8540999889373779, 0.8300999999046326, 0.7868000268936157, 0.7868000268936157, 0.7868000268936157, 0.7868000268936157, 0.7868000268936157, 0.7868000268936157, 0.7868000268936157, 0.7868000268936157, 0.7868000268936157, 0.7868000268936157, 0.7868000268936157, 0.7868000268936157, 0.7868000268936157, 0.7868000268936157, 0.7868000268936157, 0.7868000268936157, 0.7868000268936157, 0.7868000268936157, 0.7868000268936157, 0.7868000268936157, 0.7868000268936157, 0.7868000268936157, 0.7868000268936157, 0.7868000268936157, 0.7868000268936157, 0.7868000268936157, 0.7669000029563904, 0.7523000240325928, 0.7143999934196472, 0.6937000155448914, 0.7289000153541565, 0.6805999875068665, 0.6215000152587891, 0.6789000034332275, 0.6674000024795532, 0.7868000268936157, 0.4611000120639801, 0.5874999761581421, 0.6567000150680542, 0.6481999754905701, 0.6430000066757202, 0.492000013589859, 0.5533000230789185, 0.4846999943256378, 0.021700000390410423, 0.5400000214576721, 0.4505999982357025, 0.10970000177621841, -0.09809999912977219, 0.4909999966621399, 0.489300012588501, 0.34779998660087585, 0.5985999703407288, -0.25440001487731934, 0.14110000431537628, 0.08290000259876251, -0.3310999870300293, 0.2574999928474426, -0.2371000051498413, -0.46799999475479126, -0.25119999051094055, 0.3208000063896179, -0.8349999785423279, -0.17820000648498535, -0.48339998722076416, -0.6967999935150146, -0.0778999999165535, -0.08479999750852585, -0.09870000183582306, -0.7497000098228455, -0.38019999861717224, -0.11079999804496765, -0.30820000171661377, -0.14219999313354492]}, \"token.table\": {\"Topic\": [1, 1, 1, 2, 1, 2, 1, 1, 1, 2, 1, 1, 1, 1, 2, 1, 1, 2, 1, 1, 1, 1, 2, 1, 1, 1, 1, 1, 1, 1, 1, 2, 1, 2, 1, 2, 1, 1, 1, 1, 1, 2, 1, 1, 1, 1, 2, 1, 2, 1, 2, 1, 1, 1, 1, 1, 1, 1, 2, 1, 1, 2, 1, 1, 1, 1, 2, 1, 1, 1, 2, 1, 1, 2, 1, 2, 1, 2, 1, 1, 2, 1, 1, 1, 2, 1, 1, 2, 1, 2, 1, 2, 1, 2, 1, 1, 2, 1, 2, 1, 1, 2, 1], \"Freq\": [0.5286503434181213, 0.9616931080818176, 0.975494384765625, 0.1625823974609375, 0.7463168501853943, 0.37315842509269714, 0.829598069190979, 0.9958382844924927, 0.8483108878135681, 0.14138515293598175, 0.9472326636314392, 1.024023413658142, 0.9492347836494446, 0.9692955613136292, 0.06923539936542511, 0.9747783541679382, 0.9592528939247131, 0.19185057282447815, 0.8653905391693115, 0.8383142352104187, 0.9170458316802979, 0.9571837782859802, 0.191436767578125, 0.8874503970146179, 0.8657812476158142, 0.8042162656784058, 0.8351615071296692, 0.9625039100646973, 0.8766447305679321, 0.8498545289039612, 0.9022520780563354, 0.1288931518793106, 0.7980164885520935, 0.19950412213802338, 0.9603309035301208, 0.19206617772579193, 0.9224870204925537, 0.8360325694084167, 0.5338627099990845, 0.72434002161026, 0.9553887248039246, 0.19107773900032043, 0.7233903408050537, 1.0211083889007568, 0.7857404351234436, 0.8754104375839233, 0.08754104375839233, 0.7482155561447144, 0.24940519034862518, 0.9170144200325012, 0.08733470737934113, 1.0175758600234985, 1.0045857429504395, 0.5306534767150879, 0.7925949692726135, 0.8134446144104004, 0.7900075912475586, 0.9096496105194092, 0.09096495807170868, 0.9732217788696289, 0.9531431198120117, 0.11914288997650146, 1.033450961112976, 1.0092731714248657, 0.8334612846374512, 0.9484950304031372, 0.07296115905046463, 0.8616756200790405, 0.7876116037368774, 0.8842132687568665, 0.11789510399103165, 1.0303897857666016, 0.874407172203064, 0.2914690673351288, 0.5613558888435364, 0.5613558888435364, 0.7539488077163696, 0.3769744038581848, 1.004990577697754, 0.8575450778007507, 0.28584837913513184, 1.0030039548873901, 0.9547584652900696, 0.8330065608024597, 0.18511256575584412, 0.7845929861068726, 0.90940922498703, 0.09572728723287582, 0.9277795553207397, 0.057986222207546234, 0.7799458503723145, 0.3899729251861572, 0.9441120624542236, 0.04104835167527199, 0.7750996351242065, 0.752561628818512, 0.376280814409256, 0.8827602863311768, 0.1471267193555832, 0.9168509840965271, 0.863483190536499, 0.17269663512706757, 0.8098650574684143], \"Term\": [\"adjuvant\", \"alk\", \"also\", \"also\", \"behind\", \"behind\", \"benefit\", \"bevacizumab\", \"cancer\", \"cancer\", \"cell\", \"certain\", \"change\", \"chemo\", \"chemo\", \"chemoradiation\", \"chemotherapy\", \"chemotherapy\", \"cure\", \"destroy\", \"drug\", \"enough\", \"enough\", \"even\", \"example\", \"extent\", \"first\", \"fluid\", \"gene\", \"good\", \"health\", \"health\", \"healthy\", \"healthy\", \"help\", \"help\", \"immunotherapy\", \"involvement\", \"lab\", \"left\", \"likely\", \"likely\", \"lobe\", \"lobectomy\", \"lower\", \"lung\", \"lung\", \"lymph\", \"lymph\", \"may\", \"may\", \"mean\", \"medical\", \"need\", \"new\", \"next\", \"node\", \"nsclc\", \"nsclc\", \"often\", \"option\", \"option\", \"overall\", \"part\", \"pembrolizumab\", \"people\", \"people\", \"placement\", \"positive\", \"radiation\", \"radiation\", \"remove\", \"resection\", \"resection\", \"second\", \"second\", \"see\", \"see\", \"serious\", \"sometimes\", \"sometimes\", \"spread\", \"squamous\", \"stage\", \"stage\", \"step\", \"surgery\", \"surgery\", \"therapy\", \"therapy\", \"tissue\", \"tissue\", \"treatment\", \"treatment\", \"truly\", \"try\", \"try\", \"tumor\", \"tumor\", \"used\", \"usually\", \"usually\", \"would\"]}, \"R\": 30, \"lambda.step\": 0.01, \"plot.opts\": {\"xlab\": \"PC1\", \"ylab\": \"PC2\"}, \"topic.order\": [2, 1]};\n",
       "\n",
       "function LDAvis_load_lib(url, callback){\n",
       "  var s = document.createElement('script');\n",
       "  s.src = url;\n",
       "  s.async = true;\n",
       "  s.onreadystatechange = s.onload = callback;\n",
       "  s.onerror = function(){console.warn(\"failed to load library \" + url);};\n",
       "  document.getElementsByTagName(\"head\")[0].appendChild(s);\n",
       "}\n",
       "\n",
       "if(typeof(LDAvis) !== \"undefined\"){\n",
       "   // already loaded: just create the visualization\n",
       "   !function(LDAvis){\n",
       "       new LDAvis(\"#\" + \"ldavis_el58801399738587164327540476743\", ldavis_el58801399738587164327540476743_data);\n",
       "   }(LDAvis);\n",
       "}else if(typeof define === \"function\" && define.amd){\n",
       "   // require.js is available: use it to load d3/LDAvis\n",
       "   require.config({paths: {d3: \"https://cdnjs.cloudflare.com/ajax/libs/d3/3.5.5/d3.min\"}});\n",
       "   require([\"d3\"], function(d3){\n",
       "      window.d3 = d3;\n",
       "      LDAvis_load_lib(\"https://cdn.rawgit.com/bmabey/pyLDAvis/files/ldavis.v1.0.0.js\", function(){\n",
       "        new LDAvis(\"#\" + \"ldavis_el58801399738587164327540476743\", ldavis_el58801399738587164327540476743_data);\n",
       "      });\n",
       "    });\n",
       "}else{\n",
       "    // require.js not available: dynamically load d3 & LDAvis\n",
       "    LDAvis_load_lib(\"https://cdnjs.cloudflare.com/ajax/libs/d3/3.5.5/d3.min.js\", function(){\n",
       "         LDAvis_load_lib(\"https://cdn.rawgit.com/bmabey/pyLDAvis/files/ldavis.v1.0.0.js\", function(){\n",
       "                 new LDAvis(\"#\" + \"ldavis_el58801399738587164327540476743\", ldavis_el58801399738587164327540476743_data);\n",
       "            })\n",
       "         });\n",
       "}\n",
       "</script>"
      ],
      "text/plain": [
       "PreparedData(topic_coordinates=              x    y  topics  cluster       Freq\n",
       "topic                                           \n",
       "1      0.017202  0.0       1        1  87.398132\n",
       "0     -0.017202  0.0       2        1  12.601858, topic_info=         Term       Freq      Total Category  logprob  loglift\n",
       "4      cancer  21.000000  21.000000  Default  30.0000  30.0000\n",
       "31    surgery  20.000000  20.000000  Default  29.0000  29.0000\n",
       "24        may  22.000000  22.000000  Default  28.0000  28.0000\n",
       "30      stage  10.000000  10.000000  Default  27.0000  27.0000\n",
       "27  radiation  16.000000  16.000000  Default  26.0000  26.0000\n",
       "..        ...        ...        ...      ...      ...      ...\n",
       "84     people   0.816139  13.705923   Topic2  -4.6042  -0.7497\n",
       "62     health   0.668485   7.758364   Topic2  -4.8038  -0.3802\n",
       "68     likely   0.590343   5.233472   Topic2  -4.9281  -0.1108\n",
       "41       also   0.569540   6.150727   Topic2  -4.9639  -0.3082\n",
       "13       even   0.492700   4.507294   Topic2  -5.1089  -0.1422\n",
       "\n",
       "[151 rows x 6 columns], token_table=      Topic      Freq      Term\n",
       "term                           \n",
       "40        1  0.528650  adjuvant\n",
       "169       1  0.961693       alk\n",
       "41        1  0.975494      also\n",
       "41        2  0.162582      also\n",
       "43        1  0.746317    behind\n",
       "...     ...       ...       ...\n",
       "106       2  0.147127     tumor\n",
       "229       1  0.916851      used\n",
       "37        1  0.863483   usually\n",
       "37        2  0.172697   usually\n",
       "132       1  0.809865     would\n",
       "\n",
       "[103 rows x 3 columns], R=30, lambda_step=0.01, plot_opts={'xlab': 'PC1', 'ylab': 'PC2'}, topic_order=[2, 1])"
      ]
     },
     "execution_count": 32,
     "metadata": {},
     "output_type": "execute_result"
    }
   ],
   "source": [
    "# Visualize the topics\n",
    "pyLDAvis.enable_notebook()\n",
    "vis = pyLDAvis.gensim.prepare(model, corpus, id2word)\n",
    "vis\n",
    "\n",
    "\n"
   ]
  },
  {
   "cell_type": "code",
   "execution_count": null,
   "metadata": {},
   "outputs": [],
   "source": []
  }
 ],
 "metadata": {
  "kernelspec": {
   "display_name": "Python 3",
   "language": "python",
   "name": "python3"
  },
  "language_info": {
   "codemirror_mode": {
    "name": "ipython",
    "version": 3
   },
   "file_extension": ".py",
   "mimetype": "text/x-python",
   "name": "python",
   "nbconvert_exporter": "python",
   "pygments_lexer": "ipython3",
   "version": "3.6.9"
  }
 },
 "nbformat": 4,
 "nbformat_minor": 1
}
